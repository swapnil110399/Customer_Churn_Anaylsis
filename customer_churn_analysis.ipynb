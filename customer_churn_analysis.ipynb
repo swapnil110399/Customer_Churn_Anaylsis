{
 "cells": [
  {
   "cell_type": "markdown",
   "metadata": {},
   "source": [
    "# CUSTOMER CHURN ANALYSIS"
   ]
  },
  {
   "cell_type": "markdown",
   "metadata": {},
   "source": [
    "Customer attrition, also known as customer churn, customer turnover, or customer defection, is the loss of clients or customers.Telephone service companies, Internet service providers, pay TV companies, insurance firms, and alarm monitoring services, often use customer attrition analysis and customer attrition rates as one of their key business metrics because the cost of retaining an existing customer is far less than acquiring a new one. Companies from these sectors often have customer service branches which attempt to win back defecting clients, because recovered long-term customers can be worth much more to a company than newly recruited clients."
   ]
  },
  {
   "cell_type": "markdown",
   "metadata": {},
   "source": [
    " In this project I have done a predictive analytics using machine learnig models and choosing the best of them for as the  churn prediction model that predict customer churn by assessing their propensity of risk to churn. Since these models generate a small prioritized list of potential defectors, they are effective at focusing customer retention marketing programs on the subset of the customer base who are most vulnerable to churn."
   ]
  },
  {
   "cell_type": "markdown",
   "metadata": {},
   "source": [
    "The dataset for this project has been taken from kaggle \n",
    "link:-https://www.kaggle.com/becksddf/churn-in-telecoms-dataset"
   ]
  },
  {
   "cell_type": "markdown",
   "metadata": {},
   "source": [
    "## IMPORT LIBRARIES"
   ]
  },
  {
   "cell_type": "code",
   "execution_count": 7,
   "metadata": {},
   "outputs": [],
   "source": [
    "import numpy as np\n",
    "import pandas as pd\n",
    "import matplotlib.pyplot as plt\n",
    "import seaborn as sns"
   ]
  },
  {
   "cell_type": "markdown",
   "metadata": {},
   "source": [
    "## DATA SET IMPORTING\n"
   ]
  },
  {
   "cell_type": "markdown",
   "metadata": {},
   "source": [
    "The dataset is downloaded and loaded"
   ]
  },
  {
   "cell_type": "code",
   "execution_count": 8,
   "metadata": {},
   "outputs": [
    {
     "data": {
      "text/html": [
       "<div>\n",
       "<style scoped>\n",
       "    .dataframe tbody tr th:only-of-type {\n",
       "        vertical-align: middle;\n",
       "    }\n",
       "\n",
       "    .dataframe tbody tr th {\n",
       "        vertical-align: top;\n",
       "    }\n",
       "\n",
       "    .dataframe thead th {\n",
       "        text-align: right;\n",
       "    }\n",
       "</style>\n",
       "<table border=\"1\" class=\"dataframe\">\n",
       "  <thead>\n",
       "    <tr style=\"text-align: right;\">\n",
       "      <th></th>\n",
       "      <th>state</th>\n",
       "      <th>account length</th>\n",
       "      <th>area code</th>\n",
       "      <th>phone number</th>\n",
       "      <th>international plan</th>\n",
       "      <th>voice mail plan</th>\n",
       "      <th>number vmail messages</th>\n",
       "      <th>total day minutes</th>\n",
       "      <th>total day calls</th>\n",
       "      <th>total day charge</th>\n",
       "      <th>...</th>\n",
       "      <th>total eve calls</th>\n",
       "      <th>total eve charge</th>\n",
       "      <th>total night minutes</th>\n",
       "      <th>total night calls</th>\n",
       "      <th>total night charge</th>\n",
       "      <th>total intl minutes</th>\n",
       "      <th>total intl calls</th>\n",
       "      <th>total intl charge</th>\n",
       "      <th>customer service calls</th>\n",
       "      <th>churn</th>\n",
       "    </tr>\n",
       "  </thead>\n",
       "  <tbody>\n",
       "    <tr>\n",
       "      <td>0</td>\n",
       "      <td>KS</td>\n",
       "      <td>128</td>\n",
       "      <td>415</td>\n",
       "      <td>382-4657</td>\n",
       "      <td>no</td>\n",
       "      <td>yes</td>\n",
       "      <td>25</td>\n",
       "      <td>265.1</td>\n",
       "      <td>110</td>\n",
       "      <td>45.07</td>\n",
       "      <td>...</td>\n",
       "      <td>99</td>\n",
       "      <td>16.78</td>\n",
       "      <td>244.7</td>\n",
       "      <td>91</td>\n",
       "      <td>11.01</td>\n",
       "      <td>10.0</td>\n",
       "      <td>3</td>\n",
       "      <td>2.70</td>\n",
       "      <td>1</td>\n",
       "      <td>False</td>\n",
       "    </tr>\n",
       "    <tr>\n",
       "      <td>1</td>\n",
       "      <td>OH</td>\n",
       "      <td>107</td>\n",
       "      <td>415</td>\n",
       "      <td>371-7191</td>\n",
       "      <td>no</td>\n",
       "      <td>yes</td>\n",
       "      <td>26</td>\n",
       "      <td>161.6</td>\n",
       "      <td>123</td>\n",
       "      <td>27.47</td>\n",
       "      <td>...</td>\n",
       "      <td>103</td>\n",
       "      <td>16.62</td>\n",
       "      <td>254.4</td>\n",
       "      <td>103</td>\n",
       "      <td>11.45</td>\n",
       "      <td>13.7</td>\n",
       "      <td>3</td>\n",
       "      <td>3.70</td>\n",
       "      <td>1</td>\n",
       "      <td>False</td>\n",
       "    </tr>\n",
       "    <tr>\n",
       "      <td>2</td>\n",
       "      <td>NJ</td>\n",
       "      <td>137</td>\n",
       "      <td>415</td>\n",
       "      <td>358-1921</td>\n",
       "      <td>no</td>\n",
       "      <td>no</td>\n",
       "      <td>0</td>\n",
       "      <td>243.4</td>\n",
       "      <td>114</td>\n",
       "      <td>41.38</td>\n",
       "      <td>...</td>\n",
       "      <td>110</td>\n",
       "      <td>10.30</td>\n",
       "      <td>162.6</td>\n",
       "      <td>104</td>\n",
       "      <td>7.32</td>\n",
       "      <td>12.2</td>\n",
       "      <td>5</td>\n",
       "      <td>3.29</td>\n",
       "      <td>0</td>\n",
       "      <td>False</td>\n",
       "    </tr>\n",
       "    <tr>\n",
       "      <td>3</td>\n",
       "      <td>OH</td>\n",
       "      <td>84</td>\n",
       "      <td>408</td>\n",
       "      <td>375-9999</td>\n",
       "      <td>yes</td>\n",
       "      <td>no</td>\n",
       "      <td>0</td>\n",
       "      <td>299.4</td>\n",
       "      <td>71</td>\n",
       "      <td>50.90</td>\n",
       "      <td>...</td>\n",
       "      <td>88</td>\n",
       "      <td>5.26</td>\n",
       "      <td>196.9</td>\n",
       "      <td>89</td>\n",
       "      <td>8.86</td>\n",
       "      <td>6.6</td>\n",
       "      <td>7</td>\n",
       "      <td>1.78</td>\n",
       "      <td>2</td>\n",
       "      <td>False</td>\n",
       "    </tr>\n",
       "    <tr>\n",
       "      <td>4</td>\n",
       "      <td>OK</td>\n",
       "      <td>75</td>\n",
       "      <td>415</td>\n",
       "      <td>330-6626</td>\n",
       "      <td>yes</td>\n",
       "      <td>no</td>\n",
       "      <td>0</td>\n",
       "      <td>166.7</td>\n",
       "      <td>113</td>\n",
       "      <td>28.34</td>\n",
       "      <td>...</td>\n",
       "      <td>122</td>\n",
       "      <td>12.61</td>\n",
       "      <td>186.9</td>\n",
       "      <td>121</td>\n",
       "      <td>8.41</td>\n",
       "      <td>10.1</td>\n",
       "      <td>3</td>\n",
       "      <td>2.73</td>\n",
       "      <td>3</td>\n",
       "      <td>False</td>\n",
       "    </tr>\n",
       "    <tr>\n",
       "      <td>...</td>\n",
       "      <td>...</td>\n",
       "      <td>...</td>\n",
       "      <td>...</td>\n",
       "      <td>...</td>\n",
       "      <td>...</td>\n",
       "      <td>...</td>\n",
       "      <td>...</td>\n",
       "      <td>...</td>\n",
       "      <td>...</td>\n",
       "      <td>...</td>\n",
       "      <td>...</td>\n",
       "      <td>...</td>\n",
       "      <td>...</td>\n",
       "      <td>...</td>\n",
       "      <td>...</td>\n",
       "      <td>...</td>\n",
       "      <td>...</td>\n",
       "      <td>...</td>\n",
       "      <td>...</td>\n",
       "      <td>...</td>\n",
       "      <td>...</td>\n",
       "    </tr>\n",
       "    <tr>\n",
       "      <td>3328</td>\n",
       "      <td>AZ</td>\n",
       "      <td>192</td>\n",
       "      <td>415</td>\n",
       "      <td>414-4276</td>\n",
       "      <td>no</td>\n",
       "      <td>yes</td>\n",
       "      <td>36</td>\n",
       "      <td>156.2</td>\n",
       "      <td>77</td>\n",
       "      <td>26.55</td>\n",
       "      <td>...</td>\n",
       "      <td>126</td>\n",
       "      <td>18.32</td>\n",
       "      <td>279.1</td>\n",
       "      <td>83</td>\n",
       "      <td>12.56</td>\n",
       "      <td>9.9</td>\n",
       "      <td>6</td>\n",
       "      <td>2.67</td>\n",
       "      <td>2</td>\n",
       "      <td>False</td>\n",
       "    </tr>\n",
       "    <tr>\n",
       "      <td>3329</td>\n",
       "      <td>WV</td>\n",
       "      <td>68</td>\n",
       "      <td>415</td>\n",
       "      <td>370-3271</td>\n",
       "      <td>no</td>\n",
       "      <td>no</td>\n",
       "      <td>0</td>\n",
       "      <td>231.1</td>\n",
       "      <td>57</td>\n",
       "      <td>39.29</td>\n",
       "      <td>...</td>\n",
       "      <td>55</td>\n",
       "      <td>13.04</td>\n",
       "      <td>191.3</td>\n",
       "      <td>123</td>\n",
       "      <td>8.61</td>\n",
       "      <td>9.6</td>\n",
       "      <td>4</td>\n",
       "      <td>2.59</td>\n",
       "      <td>3</td>\n",
       "      <td>False</td>\n",
       "    </tr>\n",
       "    <tr>\n",
       "      <td>3330</td>\n",
       "      <td>RI</td>\n",
       "      <td>28</td>\n",
       "      <td>510</td>\n",
       "      <td>328-8230</td>\n",
       "      <td>no</td>\n",
       "      <td>no</td>\n",
       "      <td>0</td>\n",
       "      <td>180.8</td>\n",
       "      <td>109</td>\n",
       "      <td>30.74</td>\n",
       "      <td>...</td>\n",
       "      <td>58</td>\n",
       "      <td>24.55</td>\n",
       "      <td>191.9</td>\n",
       "      <td>91</td>\n",
       "      <td>8.64</td>\n",
       "      <td>14.1</td>\n",
       "      <td>6</td>\n",
       "      <td>3.81</td>\n",
       "      <td>2</td>\n",
       "      <td>False</td>\n",
       "    </tr>\n",
       "    <tr>\n",
       "      <td>3331</td>\n",
       "      <td>CT</td>\n",
       "      <td>184</td>\n",
       "      <td>510</td>\n",
       "      <td>364-6381</td>\n",
       "      <td>yes</td>\n",
       "      <td>no</td>\n",
       "      <td>0</td>\n",
       "      <td>213.8</td>\n",
       "      <td>105</td>\n",
       "      <td>36.35</td>\n",
       "      <td>...</td>\n",
       "      <td>84</td>\n",
       "      <td>13.57</td>\n",
       "      <td>139.2</td>\n",
       "      <td>137</td>\n",
       "      <td>6.26</td>\n",
       "      <td>5.0</td>\n",
       "      <td>10</td>\n",
       "      <td>1.35</td>\n",
       "      <td>2</td>\n",
       "      <td>False</td>\n",
       "    </tr>\n",
       "    <tr>\n",
       "      <td>3332</td>\n",
       "      <td>TN</td>\n",
       "      <td>74</td>\n",
       "      <td>415</td>\n",
       "      <td>400-4344</td>\n",
       "      <td>no</td>\n",
       "      <td>yes</td>\n",
       "      <td>25</td>\n",
       "      <td>234.4</td>\n",
       "      <td>113</td>\n",
       "      <td>39.85</td>\n",
       "      <td>...</td>\n",
       "      <td>82</td>\n",
       "      <td>22.60</td>\n",
       "      <td>241.4</td>\n",
       "      <td>77</td>\n",
       "      <td>10.86</td>\n",
       "      <td>13.7</td>\n",
       "      <td>4</td>\n",
       "      <td>3.70</td>\n",
       "      <td>0</td>\n",
       "      <td>False</td>\n",
       "    </tr>\n",
       "  </tbody>\n",
       "</table>\n",
       "<p>3333 rows × 21 columns</p>\n",
       "</div>"
      ],
      "text/plain": [
       "     state  account length  area code phone number international plan  \\\n",
       "0       KS             128        415     382-4657                 no   \n",
       "1       OH             107        415     371-7191                 no   \n",
       "2       NJ             137        415     358-1921                 no   \n",
       "3       OH              84        408     375-9999                yes   \n",
       "4       OK              75        415     330-6626                yes   \n",
       "...    ...             ...        ...          ...                ...   \n",
       "3328    AZ             192        415     414-4276                 no   \n",
       "3329    WV              68        415     370-3271                 no   \n",
       "3330    RI              28        510     328-8230                 no   \n",
       "3331    CT             184        510     364-6381                yes   \n",
       "3332    TN              74        415     400-4344                 no   \n",
       "\n",
       "     voice mail plan  number vmail messages  total day minutes  \\\n",
       "0                yes                     25              265.1   \n",
       "1                yes                     26              161.6   \n",
       "2                 no                      0              243.4   \n",
       "3                 no                      0              299.4   \n",
       "4                 no                      0              166.7   \n",
       "...              ...                    ...                ...   \n",
       "3328             yes                     36              156.2   \n",
       "3329              no                      0              231.1   \n",
       "3330              no                      0              180.8   \n",
       "3331              no                      0              213.8   \n",
       "3332             yes                     25              234.4   \n",
       "\n",
       "      total day calls  total day charge  ...  total eve calls  \\\n",
       "0                 110             45.07  ...               99   \n",
       "1                 123             27.47  ...              103   \n",
       "2                 114             41.38  ...              110   \n",
       "3                  71             50.90  ...               88   \n",
       "4                 113             28.34  ...              122   \n",
       "...               ...               ...  ...              ...   \n",
       "3328               77             26.55  ...              126   \n",
       "3329               57             39.29  ...               55   \n",
       "3330              109             30.74  ...               58   \n",
       "3331              105             36.35  ...               84   \n",
       "3332              113             39.85  ...               82   \n",
       "\n",
       "      total eve charge  total night minutes  total night calls  \\\n",
       "0                16.78                244.7                 91   \n",
       "1                16.62                254.4                103   \n",
       "2                10.30                162.6                104   \n",
       "3                 5.26                196.9                 89   \n",
       "4                12.61                186.9                121   \n",
       "...                ...                  ...                ...   \n",
       "3328             18.32                279.1                 83   \n",
       "3329             13.04                191.3                123   \n",
       "3330             24.55                191.9                 91   \n",
       "3331             13.57                139.2                137   \n",
       "3332             22.60                241.4                 77   \n",
       "\n",
       "      total night charge  total intl minutes  total intl calls  \\\n",
       "0                  11.01                10.0                 3   \n",
       "1                  11.45                13.7                 3   \n",
       "2                   7.32                12.2                 5   \n",
       "3                   8.86                 6.6                 7   \n",
       "4                   8.41                10.1                 3   \n",
       "...                  ...                 ...               ...   \n",
       "3328               12.56                 9.9                 6   \n",
       "3329                8.61                 9.6                 4   \n",
       "3330                8.64                14.1                 6   \n",
       "3331                6.26                 5.0                10   \n",
       "3332               10.86                13.7                 4   \n",
       "\n",
       "      total intl charge  customer service calls  churn  \n",
       "0                  2.70                       1  False  \n",
       "1                  3.70                       1  False  \n",
       "2                  3.29                       0  False  \n",
       "3                  1.78                       2  False  \n",
       "4                  2.73                       3  False  \n",
       "...                 ...                     ...    ...  \n",
       "3328               2.67                       2  False  \n",
       "3329               2.59                       3  False  \n",
       "3330               3.81                       2  False  \n",
       "3331               1.35                       2  False  \n",
       "3332               3.70                       0  False  \n",
       "\n",
       "[3333 rows x 21 columns]"
      ]
     },
     "execution_count": 8,
     "metadata": {},
     "output_type": "execute_result"
    }
   ],
   "source": [
    "data=pd.read_csv(\"C:/Users/HP/Desktop/coursera/project/customer_churn/customer_churn.csv\")\n",
    "data"
   ]
  },
  {
   "cell_type": "markdown",
   "metadata": {},
   "source": [
    "### EXPLORATORY DATA ANALYSIS"
   ]
  },
  {
   "cell_type": "markdown",
   "metadata": {},
   "source": [
    "After importing the dataset a few exploratory analysis procedures are done "
   ]
  },
  {
   "cell_type": "markdown",
   "metadata": {},
   "source": [
    "The shape of the dataset"
   ]
  },
  {
   "cell_type": "code",
   "execution_count": 9,
   "metadata": {},
   "outputs": [
    {
     "data": {
      "text/plain": [
       "(3333, 21)"
      ]
     },
     "execution_count": 9,
     "metadata": {},
     "output_type": "execute_result"
    }
   ],
   "source": [
    "data.shape"
   ]
  },
  {
   "cell_type": "markdown",
   "metadata": {},
   "source": [
    "viewing the top 3 rows of the dataset"
   ]
  },
  {
   "cell_type": "code",
   "execution_count": 10,
   "metadata": {},
   "outputs": [
    {
     "data": {
      "text/html": [
       "<div>\n",
       "<style scoped>\n",
       "    .dataframe tbody tr th:only-of-type {\n",
       "        vertical-align: middle;\n",
       "    }\n",
       "\n",
       "    .dataframe tbody tr th {\n",
       "        vertical-align: top;\n",
       "    }\n",
       "\n",
       "    .dataframe thead th {\n",
       "        text-align: right;\n",
       "    }\n",
       "</style>\n",
       "<table border=\"1\" class=\"dataframe\">\n",
       "  <thead>\n",
       "    <tr style=\"text-align: right;\">\n",
       "      <th></th>\n",
       "      <th>state</th>\n",
       "      <th>account length</th>\n",
       "      <th>area code</th>\n",
       "      <th>phone number</th>\n",
       "      <th>international plan</th>\n",
       "      <th>voice mail plan</th>\n",
       "      <th>number vmail messages</th>\n",
       "      <th>total day minutes</th>\n",
       "      <th>total day calls</th>\n",
       "      <th>total day charge</th>\n",
       "      <th>...</th>\n",
       "      <th>total eve calls</th>\n",
       "      <th>total eve charge</th>\n",
       "      <th>total night minutes</th>\n",
       "      <th>total night calls</th>\n",
       "      <th>total night charge</th>\n",
       "      <th>total intl minutes</th>\n",
       "      <th>total intl calls</th>\n",
       "      <th>total intl charge</th>\n",
       "      <th>customer service calls</th>\n",
       "      <th>churn</th>\n",
       "    </tr>\n",
       "  </thead>\n",
       "  <tbody>\n",
       "    <tr>\n",
       "      <td>0</td>\n",
       "      <td>KS</td>\n",
       "      <td>128</td>\n",
       "      <td>415</td>\n",
       "      <td>382-4657</td>\n",
       "      <td>no</td>\n",
       "      <td>yes</td>\n",
       "      <td>25</td>\n",
       "      <td>265.1</td>\n",
       "      <td>110</td>\n",
       "      <td>45.07</td>\n",
       "      <td>...</td>\n",
       "      <td>99</td>\n",
       "      <td>16.78</td>\n",
       "      <td>244.7</td>\n",
       "      <td>91</td>\n",
       "      <td>11.01</td>\n",
       "      <td>10.0</td>\n",
       "      <td>3</td>\n",
       "      <td>2.70</td>\n",
       "      <td>1</td>\n",
       "      <td>False</td>\n",
       "    </tr>\n",
       "    <tr>\n",
       "      <td>1</td>\n",
       "      <td>OH</td>\n",
       "      <td>107</td>\n",
       "      <td>415</td>\n",
       "      <td>371-7191</td>\n",
       "      <td>no</td>\n",
       "      <td>yes</td>\n",
       "      <td>26</td>\n",
       "      <td>161.6</td>\n",
       "      <td>123</td>\n",
       "      <td>27.47</td>\n",
       "      <td>...</td>\n",
       "      <td>103</td>\n",
       "      <td>16.62</td>\n",
       "      <td>254.4</td>\n",
       "      <td>103</td>\n",
       "      <td>11.45</td>\n",
       "      <td>13.7</td>\n",
       "      <td>3</td>\n",
       "      <td>3.70</td>\n",
       "      <td>1</td>\n",
       "      <td>False</td>\n",
       "    </tr>\n",
       "    <tr>\n",
       "      <td>2</td>\n",
       "      <td>NJ</td>\n",
       "      <td>137</td>\n",
       "      <td>415</td>\n",
       "      <td>358-1921</td>\n",
       "      <td>no</td>\n",
       "      <td>no</td>\n",
       "      <td>0</td>\n",
       "      <td>243.4</td>\n",
       "      <td>114</td>\n",
       "      <td>41.38</td>\n",
       "      <td>...</td>\n",
       "      <td>110</td>\n",
       "      <td>10.30</td>\n",
       "      <td>162.6</td>\n",
       "      <td>104</td>\n",
       "      <td>7.32</td>\n",
       "      <td>12.2</td>\n",
       "      <td>5</td>\n",
       "      <td>3.29</td>\n",
       "      <td>0</td>\n",
       "      <td>False</td>\n",
       "    </tr>\n",
       "  </tbody>\n",
       "</table>\n",
       "<p>3 rows × 21 columns</p>\n",
       "</div>"
      ],
      "text/plain": [
       "  state  account length  area code phone number international plan  \\\n",
       "0    KS             128        415     382-4657                 no   \n",
       "1    OH             107        415     371-7191                 no   \n",
       "2    NJ             137        415     358-1921                 no   \n",
       "\n",
       "  voice mail plan  number vmail messages  total day minutes  total day calls  \\\n",
       "0             yes                     25              265.1              110   \n",
       "1             yes                     26              161.6              123   \n",
       "2              no                      0              243.4              114   \n",
       "\n",
       "   total day charge  ...  total eve calls  total eve charge  \\\n",
       "0             45.07  ...               99             16.78   \n",
       "1             27.47  ...              103             16.62   \n",
       "2             41.38  ...              110             10.30   \n",
       "\n",
       "   total night minutes  total night calls  total night charge  \\\n",
       "0                244.7                 91               11.01   \n",
       "1                254.4                103               11.45   \n",
       "2                162.6                104                7.32   \n",
       "\n",
       "   total intl minutes  total intl calls  total intl charge  \\\n",
       "0                10.0                 3               2.70   \n",
       "1                13.7                 3               3.70   \n",
       "2                12.2                 5               3.29   \n",
       "\n",
       "   customer service calls  churn  \n",
       "0                       1  False  \n",
       "1                       1  False  \n",
       "2                       0  False  \n",
       "\n",
       "[3 rows x 21 columns]"
      ]
     },
     "execution_count": 10,
     "metadata": {},
     "output_type": "execute_result"
    }
   ],
   "source": [
    "data.head(3)"
   ]
  },
  {
   "cell_type": "markdown",
   "metadata": {},
   "source": [
    "calculating some statistical data like percentile, mean and std of the numerical values of the Series or DataFrame."
   ]
  },
  {
   "cell_type": "code",
   "execution_count": 11,
   "metadata": {},
   "outputs": [
    {
     "data": {
      "text/html": [
       "<div>\n",
       "<style scoped>\n",
       "    .dataframe tbody tr th:only-of-type {\n",
       "        vertical-align: middle;\n",
       "    }\n",
       "\n",
       "    .dataframe tbody tr th {\n",
       "        vertical-align: top;\n",
       "    }\n",
       "\n",
       "    .dataframe thead th {\n",
       "        text-align: right;\n",
       "    }\n",
       "</style>\n",
       "<table border=\"1\" class=\"dataframe\">\n",
       "  <thead>\n",
       "    <tr style=\"text-align: right;\">\n",
       "      <th></th>\n",
       "      <th>account length</th>\n",
       "      <th>area code</th>\n",
       "      <th>number vmail messages</th>\n",
       "      <th>total day minutes</th>\n",
       "      <th>total day calls</th>\n",
       "      <th>total day charge</th>\n",
       "      <th>total eve minutes</th>\n",
       "      <th>total eve calls</th>\n",
       "      <th>total eve charge</th>\n",
       "      <th>total night minutes</th>\n",
       "      <th>total night calls</th>\n",
       "      <th>total night charge</th>\n",
       "      <th>total intl minutes</th>\n",
       "      <th>total intl calls</th>\n",
       "      <th>total intl charge</th>\n",
       "      <th>customer service calls</th>\n",
       "    </tr>\n",
       "  </thead>\n",
       "  <tbody>\n",
       "    <tr>\n",
       "      <td>count</td>\n",
       "      <td>3333.000000</td>\n",
       "      <td>3333.000000</td>\n",
       "      <td>3333.000000</td>\n",
       "      <td>3333.000000</td>\n",
       "      <td>3333.000000</td>\n",
       "      <td>3333.000000</td>\n",
       "      <td>3333.000000</td>\n",
       "      <td>3333.000000</td>\n",
       "      <td>3333.000000</td>\n",
       "      <td>3333.000000</td>\n",
       "      <td>3333.000000</td>\n",
       "      <td>3333.000000</td>\n",
       "      <td>3333.000000</td>\n",
       "      <td>3333.000000</td>\n",
       "      <td>3333.000000</td>\n",
       "      <td>3333.000000</td>\n",
       "    </tr>\n",
       "    <tr>\n",
       "      <td>mean</td>\n",
       "      <td>101.064806</td>\n",
       "      <td>437.182418</td>\n",
       "      <td>8.099010</td>\n",
       "      <td>179.775098</td>\n",
       "      <td>100.435644</td>\n",
       "      <td>30.562307</td>\n",
       "      <td>200.980348</td>\n",
       "      <td>100.114311</td>\n",
       "      <td>17.083540</td>\n",
       "      <td>200.872037</td>\n",
       "      <td>100.107711</td>\n",
       "      <td>9.039325</td>\n",
       "      <td>10.237294</td>\n",
       "      <td>4.479448</td>\n",
       "      <td>2.764581</td>\n",
       "      <td>1.562856</td>\n",
       "    </tr>\n",
       "    <tr>\n",
       "      <td>std</td>\n",
       "      <td>39.822106</td>\n",
       "      <td>42.371290</td>\n",
       "      <td>13.688365</td>\n",
       "      <td>54.467389</td>\n",
       "      <td>20.069084</td>\n",
       "      <td>9.259435</td>\n",
       "      <td>50.713844</td>\n",
       "      <td>19.922625</td>\n",
       "      <td>4.310668</td>\n",
       "      <td>50.573847</td>\n",
       "      <td>19.568609</td>\n",
       "      <td>2.275873</td>\n",
       "      <td>2.791840</td>\n",
       "      <td>2.461214</td>\n",
       "      <td>0.753773</td>\n",
       "      <td>1.315491</td>\n",
       "    </tr>\n",
       "    <tr>\n",
       "      <td>min</td>\n",
       "      <td>1.000000</td>\n",
       "      <td>408.000000</td>\n",
       "      <td>0.000000</td>\n",
       "      <td>0.000000</td>\n",
       "      <td>0.000000</td>\n",
       "      <td>0.000000</td>\n",
       "      <td>0.000000</td>\n",
       "      <td>0.000000</td>\n",
       "      <td>0.000000</td>\n",
       "      <td>23.200000</td>\n",
       "      <td>33.000000</td>\n",
       "      <td>1.040000</td>\n",
       "      <td>0.000000</td>\n",
       "      <td>0.000000</td>\n",
       "      <td>0.000000</td>\n",
       "      <td>0.000000</td>\n",
       "    </tr>\n",
       "    <tr>\n",
       "      <td>25%</td>\n",
       "      <td>74.000000</td>\n",
       "      <td>408.000000</td>\n",
       "      <td>0.000000</td>\n",
       "      <td>143.700000</td>\n",
       "      <td>87.000000</td>\n",
       "      <td>24.430000</td>\n",
       "      <td>166.600000</td>\n",
       "      <td>87.000000</td>\n",
       "      <td>14.160000</td>\n",
       "      <td>167.000000</td>\n",
       "      <td>87.000000</td>\n",
       "      <td>7.520000</td>\n",
       "      <td>8.500000</td>\n",
       "      <td>3.000000</td>\n",
       "      <td>2.300000</td>\n",
       "      <td>1.000000</td>\n",
       "    </tr>\n",
       "    <tr>\n",
       "      <td>50%</td>\n",
       "      <td>101.000000</td>\n",
       "      <td>415.000000</td>\n",
       "      <td>0.000000</td>\n",
       "      <td>179.400000</td>\n",
       "      <td>101.000000</td>\n",
       "      <td>30.500000</td>\n",
       "      <td>201.400000</td>\n",
       "      <td>100.000000</td>\n",
       "      <td>17.120000</td>\n",
       "      <td>201.200000</td>\n",
       "      <td>100.000000</td>\n",
       "      <td>9.050000</td>\n",
       "      <td>10.300000</td>\n",
       "      <td>4.000000</td>\n",
       "      <td>2.780000</td>\n",
       "      <td>1.000000</td>\n",
       "    </tr>\n",
       "    <tr>\n",
       "      <td>75%</td>\n",
       "      <td>127.000000</td>\n",
       "      <td>510.000000</td>\n",
       "      <td>20.000000</td>\n",
       "      <td>216.400000</td>\n",
       "      <td>114.000000</td>\n",
       "      <td>36.790000</td>\n",
       "      <td>235.300000</td>\n",
       "      <td>114.000000</td>\n",
       "      <td>20.000000</td>\n",
       "      <td>235.300000</td>\n",
       "      <td>113.000000</td>\n",
       "      <td>10.590000</td>\n",
       "      <td>12.100000</td>\n",
       "      <td>6.000000</td>\n",
       "      <td>3.270000</td>\n",
       "      <td>2.000000</td>\n",
       "    </tr>\n",
       "    <tr>\n",
       "      <td>max</td>\n",
       "      <td>243.000000</td>\n",
       "      <td>510.000000</td>\n",
       "      <td>51.000000</td>\n",
       "      <td>350.800000</td>\n",
       "      <td>165.000000</td>\n",
       "      <td>59.640000</td>\n",
       "      <td>363.700000</td>\n",
       "      <td>170.000000</td>\n",
       "      <td>30.910000</td>\n",
       "      <td>395.000000</td>\n",
       "      <td>175.000000</td>\n",
       "      <td>17.770000</td>\n",
       "      <td>20.000000</td>\n",
       "      <td>20.000000</td>\n",
       "      <td>5.400000</td>\n",
       "      <td>9.000000</td>\n",
       "    </tr>\n",
       "  </tbody>\n",
       "</table>\n",
       "</div>"
      ],
      "text/plain": [
       "       account length    area code  number vmail messages  total day minutes  \\\n",
       "count     3333.000000  3333.000000            3333.000000        3333.000000   \n",
       "mean       101.064806   437.182418               8.099010         179.775098   \n",
       "std         39.822106    42.371290              13.688365          54.467389   \n",
       "min          1.000000   408.000000               0.000000           0.000000   \n",
       "25%         74.000000   408.000000               0.000000         143.700000   \n",
       "50%        101.000000   415.000000               0.000000         179.400000   \n",
       "75%        127.000000   510.000000              20.000000         216.400000   \n",
       "max        243.000000   510.000000              51.000000         350.800000   \n",
       "\n",
       "       total day calls  total day charge  total eve minutes  total eve calls  \\\n",
       "count      3333.000000       3333.000000        3333.000000      3333.000000   \n",
       "mean        100.435644         30.562307         200.980348       100.114311   \n",
       "std          20.069084          9.259435          50.713844        19.922625   \n",
       "min           0.000000          0.000000           0.000000         0.000000   \n",
       "25%          87.000000         24.430000         166.600000        87.000000   \n",
       "50%         101.000000         30.500000         201.400000       100.000000   \n",
       "75%         114.000000         36.790000         235.300000       114.000000   \n",
       "max         165.000000         59.640000         363.700000       170.000000   \n",
       "\n",
       "       total eve charge  total night minutes  total night calls  \\\n",
       "count       3333.000000          3333.000000        3333.000000   \n",
       "mean          17.083540           200.872037         100.107711   \n",
       "std            4.310668            50.573847          19.568609   \n",
       "min            0.000000            23.200000          33.000000   \n",
       "25%           14.160000           167.000000          87.000000   \n",
       "50%           17.120000           201.200000         100.000000   \n",
       "75%           20.000000           235.300000         113.000000   \n",
       "max           30.910000           395.000000         175.000000   \n",
       "\n",
       "       total night charge  total intl minutes  total intl calls  \\\n",
       "count         3333.000000         3333.000000       3333.000000   \n",
       "mean             9.039325           10.237294          4.479448   \n",
       "std              2.275873            2.791840          2.461214   \n",
       "min              1.040000            0.000000          0.000000   \n",
       "25%              7.520000            8.500000          3.000000   \n",
       "50%              9.050000           10.300000          4.000000   \n",
       "75%             10.590000           12.100000          6.000000   \n",
       "max             17.770000           20.000000         20.000000   \n",
       "\n",
       "       total intl charge  customer service calls  \n",
       "count        3333.000000             3333.000000  \n",
       "mean            2.764581                1.562856  \n",
       "std             0.753773                1.315491  \n",
       "min             0.000000                0.000000  \n",
       "25%             2.300000                1.000000  \n",
       "50%             2.780000                1.000000  \n",
       "75%             3.270000                2.000000  \n",
       "max             5.400000                9.000000  "
      ]
     },
     "execution_count": 11,
     "metadata": {},
     "output_type": "execute_result"
    }
   ],
   "source": [
    "data.describe()"
   ]
  },
  {
   "cell_type": "markdown",
   "metadata": {},
   "source": [
    "## MISSING DATA"
   ]
  },
  {
   "cell_type": "markdown",
   "metadata": {},
   "source": [
    "A test for mising data"
   ]
  },
  {
   "cell_type": "code",
   "execution_count": 12,
   "metadata": {},
   "outputs": [
    {
     "data": {
      "text/plain": [
       "state                     0\n",
       "account length            0\n",
       "area code                 0\n",
       "phone number              0\n",
       "international plan        0\n",
       "voice mail plan           0\n",
       "number vmail messages     0\n",
       "total day minutes         0\n",
       "total day calls           0\n",
       "total day charge          0\n",
       "total eve minutes         0\n",
       "total eve calls           0\n",
       "total eve charge          0\n",
       "total night minutes       0\n",
       "total night calls         0\n",
       "total night charge        0\n",
       "total intl minutes        0\n",
       "total intl calls          0\n",
       "total intl charge         0\n",
       "customer service calls    0\n",
       "churn                     0\n",
       "dtype: int64"
      ]
     },
     "execution_count": 12,
     "metadata": {},
     "output_type": "execute_result"
    }
   ],
   "source": [
    "data.isnull().sum()"
   ]
  },
  {
   "cell_type": "markdown",
   "metadata": {},
   "source": [
    "From the output its clear that there is no missing data"
   ]
  },
  {
   "cell_type": "markdown",
   "metadata": {},
   "source": [
    "### CHURN VALUES\n"
   ]
  },
  {
   "cell_type": "markdown",
   "metadata": {},
   "source": [
    "Doing an anyalsis of the churn values"
   ]
  },
  {
   "cell_type": "markdown",
   "metadata": {},
   "source": [
    "Showing how many customers in the data set are retained or lost"
   ]
  },
  {
   "cell_type": "code",
   "execution_count": 13,
   "metadata": {},
   "outputs": [],
   "source": [
    "churn=data.groupby('churn').size()"
   ]
  },
  {
   "cell_type": "code",
   "execution_count": 14,
   "metadata": {},
   "outputs": [
    {
     "data": {
      "text/plain": [
       "churn\n",
       "False    2850\n",
       "True      483\n",
       "dtype: int64"
      ]
     },
     "execution_count": 14,
     "metadata": {},
     "output_type": "execute_result"
    }
   ],
   "source": [
    "churn"
   ]
  },
  {
   "cell_type": "markdown",
   "metadata": {},
   "source": [
    "Calculating the retained and lost percentage "
   ]
  },
  {
   "cell_type": "code",
   "execution_count": 15,
   "metadata": {},
   "outputs": [],
   "source": [
    "retained_percentage=(churn[0]/churn.sum())*100\n",
    "lost_percentage=(churn[1]/churn.sum())*100"
   ]
  },
  {
   "cell_type": "code",
   "execution_count": 16,
   "metadata": {},
   "outputs": [
    {
     "data": {
      "text/plain": [
       "85.5085508550855"
      ]
     },
     "execution_count": 16,
     "metadata": {},
     "output_type": "execute_result"
    }
   ],
   "source": [
    "retained_percentage"
   ]
  },
  {
   "cell_type": "code",
   "execution_count": 17,
   "metadata": {},
   "outputs": [
    {
     "data": {
      "text/plain": [
       "14.491449144914492"
      ]
     },
     "execution_count": 17,
     "metadata": {},
     "output_type": "execute_result"
    }
   ],
   "source": [
    "lost_percentage"
   ]
  },
  {
   "cell_type": "markdown",
   "metadata": {},
   "source": [
    "## PLOT FEW GRAPHS"
   ]
  },
  {
   "cell_type": "markdown",
   "metadata": {},
   "source": [
    "### NUMBER OF CHURN TRUE OR FLASE"
   ]
  },
  {
   "cell_type": "markdown",
   "metadata": {},
   "source": [
    "A graph showing how many are retained and lost"
   ]
  },
  {
   "cell_type": "code",
   "execution_count": 18,
   "metadata": {},
   "outputs": [
    {
     "data": {
      "text/plain": [
       "<matplotlib.axes._subplots.AxesSubplot at 0x1d3ce117308>"
      ]
     },
     "execution_count": 18,
     "metadata": {},
     "output_type": "execute_result"
    },
    {
     "data": {
      "image/png": "[encoded data removed]",
      "text/plain": [
       "<Figure size 432x288 with 1 Axes>"
      ]
     },
     "metadata": {
      "needs_background": "light"
     },
     "output_type": "display_data"
    }
   ],
   "source": [
    "c = data[\"churn\"].value_counts()\n",
    "#print (y)\n",
    "sns.barplot(c.index, c.values)"
   ]
  },
  {
   "cell_type": "markdown",
   "metadata": {},
   "source": [
    "### CHURN BY STATE"
   ]
  },
  {
   "cell_type": "markdown",
   "metadata": {},
   "source": [
    "Graph showing the churn values with respective to the states"
   ]
  },
  {
   "cell_type": "code",
   "execution_count": 19,
   "metadata": {},
   "outputs": [
    {
     "data": {
      "text/plain": [
       "<matplotlib.axes._subplots.AxesSubplot at 0x1d3ce4cee48>"
      ]
     },
     "execution_count": 19,
     "metadata": {},
     "output_type": "execute_result"
    },
    {
     "data": {
      "image/png": "[encoded data removed]",
      "text/plain": [
       "<Figure size 2160x720 with 1 Axes>"
      ]
     },
     "metadata": {
      "needs_background": "light"
     },
     "output_type": "display_data"
    }
   ],
   "source": [
    "data.groupby(['state','churn']).size().unstack().plot(kind=\"bar\",stacked=True,figsize=(30,10))\n"
   ]
  },
  {
   "cell_type": "markdown",
   "metadata": {},
   "source": [
    "### CHURN BY AREA CODE"
   ]
  },
  {
   "cell_type": "markdown",
   "metadata": {},
   "source": [
    "Graph showing the churn values with respective to the area code"
   ]
  },
  {
   "cell_type": "code",
   "execution_count": 20,
   "metadata": {},
   "outputs": [
    {
     "data": {
      "text/plain": [
       "<matplotlib.axes._subplots.AxesSubplot at 0x1d3ce6d1c08>"
      ]
     },
     "execution_count": 20,
     "metadata": {},
     "output_type": "execute_result"
    },
    {
     "data": {
      "image/png": "[encoded data removed]",
      "text/plain": [
       "<Figure size 2160x720 with 1 Axes>"
      ]
     },
     "metadata": {
      "needs_background": "light"
     },
     "output_type": "display_data"
    }
   ],
   "source": [
    "data.groupby(['area code','churn']).size().unstack().plot(kind=\"bar\",stacked=True,figsize=(30,10))"
   ]
  },
  {
   "cell_type": "markdown",
   "metadata": {},
   "source": [
    "### INTERNATONAL PLANS"
   ]
  },
  {
   "cell_type": "markdown",
   "metadata": {},
   "source": [
    "Graph showing the churn values with respective to the international plans"
   ]
  },
  {
   "cell_type": "code",
   "execution_count": 21,
   "metadata": {},
   "outputs": [
    {
     "data": {
      "text/plain": [
       "<matplotlib.axes._subplots.AxesSubplot at 0x1d3ce743508>"
      ]
     },
     "execution_count": 21,
     "metadata": {},
     "output_type": "execute_result"
    },
    {
     "data": {
      "image/png": "[encoded data removed]",
      "text/plain": [
       "<Figure size 2160x720 with 1 Axes>"
      ]
     },
     "metadata": {
      "needs_background": "light"
     },
     "output_type": "display_data"
    }
   ],
   "source": [
    "data.groupby(['international plan','churn']).size().unstack().plot(kind=\"bar\",stacked=True,figsize=(30,10))"
   ]
  },
  {
   "cell_type": "markdown",
   "metadata": {},
   "source": [
    "### CHURN BY VOICEMAILS"
   ]
  },
  {
   "cell_type": "markdown",
   "metadata": {},
   "source": [
    "Graph showing the churn values with respective to the voice mails"
   ]
  },
  {
   "cell_type": "code",
   "execution_count": 22,
   "metadata": {},
   "outputs": [
    {
     "data": {
      "text/plain": [
       "<matplotlib.axes._subplots.AxesSubplot at 0x1d3cebab048>"
      ]
     },
     "execution_count": 22,
     "metadata": {},
     "output_type": "execute_result"
    },
    {
     "data": {
      "image/png": "[encoded data removed]",
      "text/plain": [
       "<Figure size 2160x720 with 1 Axes>"
      ]
     },
     "metadata": {
      "needs_background": "light"
     },
     "output_type": "display_data"
    }
   ],
   "source": [
    "data.groupby(['voice mail plan','churn']).size().unstack().plot(kind=\"bar\",stacked=True,figsize=(30,10))\n"
   ]
  },
  {
   "cell_type": "markdown",
   "metadata": {},
   "source": [
    "## CORRELATON MATRIX"
   ]
  },
  {
   "cell_type": "markdown",
   "metadata": {},
   "source": [
    "The correlation matrix is plotted to study the correlation between the features"
   ]
  },
  {
   "cell_type": "code",
   "execution_count": 23,
   "metadata": {},
   "outputs": [
    {
     "data": {
      "text/html": [
       "<style  type=\"text/css\" >\n",
       "    #T_2cb80524_dd66_11ea_b2a5_e09d31fda4e8row0_col0 {\n",
       "            background-color:  #b40426;\n",
       "            color:  #f1f1f1;\n",
       "        }    #T_2cb80524_dd66_11ea_b2a5_e09d31fda4e8row0_col1 {\n",
       "            background-color:  #3d50c3;\n",
       "            color:  #f1f1f1;\n",
       "        }    #T_2cb80524_dd66_11ea_b2a5_e09d31fda4e8row0_col2 {\n",
       "            background-color:  #516ddb;\n",
       "            color:  #000000;\n",
       "        }    #T_2cb80524_dd66_11ea_b2a5_e09d31fda4e8row0_col3 {\n",
       "            background-color:  #3f53c6;\n",
       "            color:  #f1f1f1;\n",
       "        }    #T_2cb80524_dd66_11ea_b2a5_e09d31fda4e8row0_col4 {\n",
       "            background-color:  #4c66d6;\n",
       "            color:  #000000;\n",
       "        }    #T_2cb80524_dd66_11ea_b2a5_e09d31fda4e8row0_col5 {\n",
       "            background-color:  #3f53c6;\n",
       "            color:  #f1f1f1;\n",
       "        }    #T_2cb80524_dd66_11ea_b2a5_e09d31fda4e8row0_col6 {\n",
       "            background-color:  #3e51c5;\n",
       "            color:  #f1f1f1;\n",
       "        }    #T_2cb80524_dd66_11ea_b2a5_e09d31fda4e8row0_col7 {\n",
       "            background-color:  #4358cb;\n",
       "            color:  #f1f1f1;\n",
       "        }    #T_2cb80524_dd66_11ea_b2a5_e09d31fda4e8row0_col8 {\n",
       "            background-color:  #3e51c5;\n",
       "            color:  #f1f1f1;\n",
       "        }    #T_2cb80524_dd66_11ea_b2a5_e09d31fda4e8row0_col9 {\n",
       "            background-color:  #3c4ec2;\n",
       "            color:  #f1f1f1;\n",
       "        }    #T_2cb80524_dd66_11ea_b2a5_e09d31fda4e8row0_col10 {\n",
       "            background-color:  #3c4ec2;\n",
       "            color:  #f1f1f1;\n",
       "        }    #T_2cb80524_dd66_11ea_b2a5_e09d31fda4e8row0_col11 {\n",
       "            background-color:  #3c4ec2;\n",
       "            color:  #f1f1f1;\n",
       "        }    #T_2cb80524_dd66_11ea_b2a5_e09d31fda4e8row0_col12 {\n",
       "            background-color:  #4257c9;\n",
       "            color:  #f1f1f1;\n",
       "        }    #T_2cb80524_dd66_11ea_b2a5_e09d31fda4e8row0_col13 {\n",
       "            background-color:  #4f69d9;\n",
       "            color:  #000000;\n",
       "        }    #T_2cb80524_dd66_11ea_b2a5_e09d31fda4e8row0_col14 {\n",
       "            background-color:  #4358cb;\n",
       "            color:  #f1f1f1;\n",
       "        }    #T_2cb80524_dd66_11ea_b2a5_e09d31fda4e8row0_col15 {\n",
       "            background-color:  #3e51c5;\n",
       "            color:  #f1f1f1;\n",
       "        }    #T_2cb80524_dd66_11ea_b2a5_e09d31fda4e8row0_col16 {\n",
       "            background-color:  #5875e1;\n",
       "            color:  #000000;\n",
       "        }    #T_2cb80524_dd66_11ea_b2a5_e09d31fda4e8row1_col0 {\n",
       "            background-color:  #3b4cc0;\n",
       "            color:  #f1f1f1;\n",
       "        }    #T_2cb80524_dd66_11ea_b2a5_e09d31fda4e8row1_col1 {\n",
       "            background-color:  #b40426;\n",
       "            color:  #f1f1f1;\n",
       "        }    #T_2cb80524_dd66_11ea_b2a5_e09d31fda4e8row1_col2 {\n",
       "            background-color:  #536edd;\n",
       "            color:  #000000;\n",
       "        }    #T_2cb80524_dd66_11ea_b2a5_e09d31fda4e8row1_col3 {\n",
       "            background-color:  #3c4ec2;\n",
       "            color:  #f1f1f1;\n",
       "        }    #T_2cb80524_dd66_11ea_b2a5_e09d31fda4e8row1_col4 {\n",
       "            background-color:  #3d50c3;\n",
       "            color:  #f1f1f1;\n",
       "        }    #T_2cb80524_dd66_11ea_b2a5_e09d31fda4e8row1_col5 {\n",
       "            background-color:  #3c4ec2;\n",
       "            color:  #f1f1f1;\n",
       "        }    #T_2cb80524_dd66_11ea_b2a5_e09d31fda4e8row1_col6 {\n",
       "            background-color:  #4257c9;\n",
       "            color:  #f1f1f1;\n",
       "        }    #T_2cb80524_dd66_11ea_b2a5_e09d31fda4e8row1_col7 {\n",
       "            background-color:  #3b4cc0;\n",
       "            color:  #f1f1f1;\n",
       "        }    #T_2cb80524_dd66_11ea_b2a5_e09d31fda4e8row1_col8 {\n",
       "            background-color:  #4257c9;\n",
       "            color:  #f1f1f1;\n",
       "        }    #T_2cb80524_dd66_11ea_b2a5_e09d31fda4e8row1_col9 {\n",
       "            background-color:  #3d50c3;\n",
       "            color:  #f1f1f1;\n",
       "        }    #T_2cb80524_dd66_11ea_b2a5_e09d31fda4e8row1_col10 {\n",
       "            background-color:  #455cce;\n",
       "            color:  #f1f1f1;\n",
       "        }    #T_2cb80524_dd66_11ea_b2a5_e09d31fda4e8row1_col11 {\n",
       "            background-color:  #3d50c3;\n",
       "            color:  #f1f1f1;\n",
       "        }    #T_2cb80524_dd66_11ea_b2a5_e09d31fda4e8row1_col12 {\n",
       "            background-color:  #3b4cc0;\n",
       "            color:  #f1f1f1;\n",
       "        }    #T_2cb80524_dd66_11ea_b2a5_e09d31fda4e8row1_col13 {\n",
       "            background-color:  #4257c9;\n",
       "            color:  #f1f1f1;\n",
       "        }    #T_2cb80524_dd66_11ea_b2a5_e09d31fda4e8row1_col14 {\n",
       "            background-color:  #3b4cc0;\n",
       "            color:  #f1f1f1;\n",
       "        }    #T_2cb80524_dd66_11ea_b2a5_e09d31fda4e8row1_col15 {\n",
       "            background-color:  #485fd1;\n",
       "            color:  #f1f1f1;\n",
       "        }    #T_2cb80524_dd66_11ea_b2a5_e09d31fda4e8row1_col16 {\n",
       "            background-color:  #5572df;\n",
       "            color:  #000000;\n",
       "        }    #T_2cb80524_dd66_11ea_b2a5_e09d31fda4e8row2_col0 {\n",
       "            background-color:  #3d50c3;\n",
       "            color:  #f1f1f1;\n",
       "        }    #T_2cb80524_dd66_11ea_b2a5_e09d31fda4e8row2_col1 {\n",
       "            background-color:  #4055c8;\n",
       "            color:  #f1f1f1;\n",
       "        }    #T_2cb80524_dd66_11ea_b2a5_e09d31fda4e8row2_col2 {\n",
       "            background-color:  #b40426;\n",
       "            color:  #f1f1f1;\n",
       "        }    #T_2cb80524_dd66_11ea_b2a5_e09d31fda4e8row2_col3 {\n",
       "            background-color:  #3e51c5;\n",
       "            color:  #f1f1f1;\n",
       "        }    #T_2cb80524_dd66_11ea_b2a5_e09d31fda4e8row2_col4 {\n",
       "            background-color:  #3d50c3;\n",
       "            color:  #f1f1f1;\n",
       "        }    #T_2cb80524_dd66_11ea_b2a5_e09d31fda4e8row2_col5 {\n",
       "            background-color:  #3e51c5;\n",
       "            color:  #f1f1f1;\n",
       "        }    #T_2cb80524_dd66_11ea_b2a5_e09d31fda4e8row2_col6 {\n",
       "            background-color:  #455cce;\n",
       "            color:  #f1f1f1;\n",
       "        }    #T_2cb80524_dd66_11ea_b2a5_e09d31fda4e8row2_col7 {\n",
       "            background-color:  #3c4ec2;\n",
       "            color:  #f1f1f1;\n",
       "        }    #T_2cb80524_dd66_11ea_b2a5_e09d31fda4e8row2_col8 {\n",
       "            background-color:  #455cce;\n",
       "            color:  #f1f1f1;\n",
       "        }    #T_2cb80524_dd66_11ea_b2a5_e09d31fda4e8row2_col9 {\n",
       "            background-color:  #4055c8;\n",
       "            color:  #f1f1f1;\n",
       "        }    #T_2cb80524_dd66_11ea_b2a5_e09d31fda4e8row2_col10 {\n",
       "            background-color:  #4257c9;\n",
       "            color:  #f1f1f1;\n",
       "        }    #T_2cb80524_dd66_11ea_b2a5_e09d31fda4e8row2_col11 {\n",
       "            background-color:  #4055c8;\n",
       "            color:  #f1f1f1;\n",
       "        }    #T_2cb80524_dd66_11ea_b2a5_e09d31fda4e8row2_col12 {\n",
       "            background-color:  #4055c8;\n",
       "            color:  #f1f1f1;\n",
       "        }    #T_2cb80524_dd66_11ea_b2a5_e09d31fda4e8row2_col13 {\n",
       "            background-color:  #4e68d8;\n",
       "            color:  #000000;\n",
       "        }    #T_2cb80524_dd66_11ea_b2a5_e09d31fda4e8row2_col14 {\n",
       "            background-color:  #4055c8;\n",
       "            color:  #f1f1f1;\n",
       "        }    #T_2cb80524_dd66_11ea_b2a5_e09d31fda4e8row2_col15 {\n",
       "            background-color:  #3c4ec2;\n",
       "            color:  #f1f1f1;\n",
       "        }    #T_2cb80524_dd66_11ea_b2a5_e09d31fda4e8row2_col16 {\n",
       "            background-color:  #3b4cc0;\n",
       "            color:  #f1f1f1;\n",
       "        }    #T_2cb80524_dd66_11ea_b2a5_e09d31fda4e8row3_col0 {\n",
       "            background-color:  #3f53c6;\n",
       "            color:  #f1f1f1;\n",
       "        }    #T_2cb80524_dd66_11ea_b2a5_e09d31fda4e8row3_col1 {\n",
       "            background-color:  #3e51c5;\n",
       "            color:  #f1f1f1;\n",
       "        }    #T_2cb80524_dd66_11ea_b2a5_e09d31fda4e8row3_col2 {\n",
       "            background-color:  #5470de;\n",
       "            color:  #000000;\n",
       "        }    #T_2cb80524_dd66_11ea_b2a5_e09d31fda4e8row3_col3 {\n",
       "            background-color:  #b40426;\n",
       "            color:  #f1f1f1;\n",
       "        }    #T_2cb80524_dd66_11ea_b2a5_e09d31fda4e8row3_col4 {\n",
       "            background-color:  #4358cb;\n",
       "            color:  #f1f1f1;\n",
       "        }    #T_2cb80524_dd66_11ea_b2a5_e09d31fda4e8row3_col5 {\n",
       "            background-color:  #b40426;\n",
       "            color:  #f1f1f1;\n",
       "        }    #T_2cb80524_dd66_11ea_b2a5_e09d31fda4e8row3_col6 {\n",
       "            background-color:  #4358cb;\n",
       "            color:  #f1f1f1;\n",
       "        }    #T_2cb80524_dd66_11ea_b2a5_e09d31fda4e8row3_col7 {\n",
       "            background-color:  #4257c9;\n",
       "            color:  #f1f1f1;\n",
       "        }    #T_2cb80524_dd66_11ea_b2a5_e09d31fda4e8row3_col8 {\n",
       "            background-color:  #4358cb;\n",
       "            color:  #f1f1f1;\n",
       "        }    #T_2cb80524_dd66_11ea_b2a5_e09d31fda4e8row3_col9 {\n",
       "            background-color:  #3f53c6;\n",
       "            color:  #f1f1f1;\n",
       "        }    #T_2cb80524_dd66_11ea_b2a5_e09d31fda4e8row3_col10 {\n",
       "            background-color:  #465ecf;\n",
       "            color:  #f1f1f1;\n",
       "        }    #T_2cb80524_dd66_11ea_b2a5_e09d31fda4e8row3_col11 {\n",
       "            background-color:  #3f53c6;\n",
       "            color:  #f1f1f1;\n",
       "        }    #T_2cb80524_dd66_11ea_b2a5_e09d31fda4e8row3_col12 {\n",
       "            background-color:  #3d50c3;\n",
       "            color:  #f1f1f1;\n",
       "        }    #T_2cb80524_dd66_11ea_b2a5_e09d31fda4e8row3_col13 {\n",
       "            background-color:  #4b64d5;\n",
       "            color:  #f1f1f1;\n",
       "        }    #T_2cb80524_dd66_11ea_b2a5_e09d31fda4e8row3_col14 {\n",
       "            background-color:  #3d50c3;\n",
       "            color:  #f1f1f1;\n",
       "        }    #T_2cb80524_dd66_11ea_b2a5_e09d31fda4e8row3_col15 {\n",
       "            background-color:  #3c4ec2;\n",
       "            color:  #f1f1f1;\n",
       "        }    #T_2cb80524_dd66_11ea_b2a5_e09d31fda4e8row3_col16 {\n",
       "            background-color:  #94b6ff;\n",
       "            color:  #000000;\n",
       "        }    #T_2cb80524_dd66_11ea_b2a5_e09d31fda4e8row4_col0 {\n",
       "            background-color:  #4a63d3;\n",
       "            color:  #f1f1f1;\n",
       "        }    #T_2cb80524_dd66_11ea_b2a5_e09d31fda4e8row4_col1 {\n",
       "            background-color:  #3e51c5;\n",
       "            color:  #f1f1f1;\n",
       "        }    #T_2cb80524_dd66_11ea_b2a5_e09d31fda4e8row4_col2 {\n",
       "            background-color:  #506bda;\n",
       "            color:  #000000;\n",
       "        }    #T_2cb80524_dd66_11ea_b2a5_e09d31fda4e8row4_col3 {\n",
       "            background-color:  #4055c8;\n",
       "            color:  #f1f1f1;\n",
       "        }    #T_2cb80524_dd66_11ea_b2a5_e09d31fda4e8row4_col4 {\n",
       "            background-color:  #b40426;\n",
       "            color:  #f1f1f1;\n",
       "        }    #T_2cb80524_dd66_11ea_b2a5_e09d31fda4e8row4_col5 {\n",
       "            background-color:  #4055c8;\n",
       "            color:  #f1f1f1;\n",
       "        }    #T_2cb80524_dd66_11ea_b2a5_e09d31fda4e8row4_col6 {\n",
       "            background-color:  #3b4cc0;\n",
       "            color:  #f1f1f1;\n",
       "        }    #T_2cb80524_dd66_11ea_b2a5_e09d31fda4e8row4_col7 {\n",
       "            background-color:  #3f53c6;\n",
       "            color:  #f1f1f1;\n",
       "        }    #T_2cb80524_dd66_11ea_b2a5_e09d31fda4e8row4_col8 {\n",
       "            background-color:  #3b4cc0;\n",
       "            color:  #f1f1f1;\n",
       "        }    #T_2cb80524_dd66_11ea_b2a5_e09d31fda4e8row4_col9 {\n",
       "            background-color:  #455cce;\n",
       "            color:  #f1f1f1;\n",
       "        }    #T_2cb80524_dd66_11ea_b2a5_e09d31fda4e8row4_col10 {\n",
       "            background-color:  #3b4cc0;\n",
       "            color:  #f1f1f1;\n",
       "        }    #T_2cb80524_dd66_11ea_b2a5_e09d31fda4e8row4_col11 {\n",
       "            background-color:  #455cce;\n",
       "            color:  #f1f1f1;\n",
       "        }    #T_2cb80524_dd66_11ea_b2a5_e09d31fda4e8row4_col12 {\n",
       "            background-color:  #465ecf;\n",
       "            color:  #f1f1f1;\n",
       "        }    #T_2cb80524_dd66_11ea_b2a5_e09d31fda4e8row4_col13 {\n",
       "            background-color:  #4a63d3;\n",
       "            color:  #f1f1f1;\n",
       "        }    #T_2cb80524_dd66_11ea_b2a5_e09d31fda4e8row4_col14 {\n",
       "            background-color:  #465ecf;\n",
       "            color:  #f1f1f1;\n",
       "        }    #T_2cb80524_dd66_11ea_b2a5_e09d31fda4e8row4_col15 {\n",
       "            background-color:  #3b4cc0;\n",
       "            color:  #f1f1f1;\n",
       "        }    #T_2cb80524_dd66_11ea_b2a5_e09d31fda4e8row4_col16 {\n",
       "            background-color:  #5977e3;\n",
       "            color:  #000000;\n",
       "        }    #T_2cb80524_dd66_11ea_b2a5_e09d31fda4e8row5_col0 {\n",
       "            background-color:  #3f53c6;\n",
       "            color:  #f1f1f1;\n",
       "        }    #T_2cb80524_dd66_11ea_b2a5_e09d31fda4e8row5_col1 {\n",
       "            background-color:  #3e51c5;\n",
       "            color:  #f1f1f1;\n",
       "        }    #T_2cb80524_dd66_11ea_b2a5_e09d31fda4e8row5_col2 {\n",
       "            background-color:  #5470de;\n",
       "            color:  #000000;\n",
       "        }    #T_2cb80524_dd66_11ea_b2a5_e09d31fda4e8row5_col3 {\n",
       "            background-color:  #b40426;\n",
       "            color:  #f1f1f1;\n",
       "        }    #T_2cb80524_dd66_11ea_b2a5_e09d31fda4e8row5_col4 {\n",
       "            background-color:  #4358cb;\n",
       "            color:  #f1f1f1;\n",
       "        }    #T_2cb80524_dd66_11ea_b2a5_e09d31fda4e8row5_col5 {\n",
       "            background-color:  #b40426;\n",
       "            color:  #f1f1f1;\n",
       "        }    #T_2cb80524_dd66_11ea_b2a5_e09d31fda4e8row5_col6 {\n",
       "            background-color:  #4358cb;\n",
       "            color:  #f1f1f1;\n",
       "        }    #T_2cb80524_dd66_11ea_b2a5_e09d31fda4e8row5_col7 {\n",
       "            background-color:  #4257c9;\n",
       "            color:  #f1f1f1;\n",
       "        }    #T_2cb80524_dd66_11ea_b2a5_e09d31fda4e8row5_col8 {\n",
       "            background-color:  #4358cb;\n",
       "            color:  #f1f1f1;\n",
       "        }    #T_2cb80524_dd66_11ea_b2a5_e09d31fda4e8row5_col9 {\n",
       "            background-color:  #3f53c6;\n",
       "            color:  #f1f1f1;\n",
       "        }    #T_2cb80524_dd66_11ea_b2a5_e09d31fda4e8row5_col10 {\n",
       "            background-color:  #465ecf;\n",
       "            color:  #f1f1f1;\n",
       "        }    #T_2cb80524_dd66_11ea_b2a5_e09d31fda4e8row5_col11 {\n",
       "            background-color:  #3f53c6;\n",
       "            color:  #f1f1f1;\n",
       "        }    #T_2cb80524_dd66_11ea_b2a5_e09d31fda4e8row5_col12 {\n",
       "            background-color:  #3d50c3;\n",
       "            color:  #f1f1f1;\n",
       "        }    #T_2cb80524_dd66_11ea_b2a5_e09d31fda4e8row5_col13 {\n",
       "            background-color:  #4b64d5;\n",
       "            color:  #f1f1f1;\n",
       "        }    #T_2cb80524_dd66_11ea_b2a5_e09d31fda4e8row5_col14 {\n",
       "            background-color:  #3d50c3;\n",
       "            color:  #f1f1f1;\n",
       "        }    #T_2cb80524_dd66_11ea_b2a5_e09d31fda4e8row5_col15 {\n",
       "            background-color:  #3c4ec2;\n",
       "            color:  #f1f1f1;\n",
       "        }    #T_2cb80524_dd66_11ea_b2a5_e09d31fda4e8row5_col16 {\n",
       "            background-color:  #94b6ff;\n",
       "            color:  #000000;\n",
       "        }    #T_2cb80524_dd66_11ea_b2a5_e09d31fda4e8row6_col0 {\n",
       "            background-color:  #3c4ec2;\n",
       "            color:  #f1f1f1;\n",
       "        }    #T_2cb80524_dd66_11ea_b2a5_e09d31fda4e8row6_col1 {\n",
       "            background-color:  #4257c9;\n",
       "            color:  #f1f1f1;\n",
       "        }    #T_2cb80524_dd66_11ea_b2a5_e09d31fda4e8row6_col2 {\n",
       "            background-color:  #5977e3;\n",
       "            color:  #000000;\n",
       "        }    #T_2cb80524_dd66_11ea_b2a5_e09d31fda4e8row6_col3 {\n",
       "            background-color:  #4055c8;\n",
       "            color:  #f1f1f1;\n",
       "        }    #T_2cb80524_dd66_11ea_b2a5_e09d31fda4e8row6_col4 {\n",
       "            background-color:  #3b4cc0;\n",
       "            color:  #f1f1f1;\n",
       "        }    #T_2cb80524_dd66_11ea_b2a5_e09d31fda4e8row6_col5 {\n",
       "            background-color:  #4055c8;\n",
       "            color:  #f1f1f1;\n",
       "        }    #T_2cb80524_dd66_11ea_b2a5_e09d31fda4e8row6_col6 {\n",
       "            background-color:  #b40426;\n",
       "            color:  #f1f1f1;\n",
       "        }    #T_2cb80524_dd66_11ea_b2a5_e09d31fda4e8row6_col7 {\n",
       "            background-color:  #3b4cc0;\n",
       "            color:  #f1f1f1;\n",
       "        }    #T_2cb80524_dd66_11ea_b2a5_e09d31fda4e8row6_col8 {\n",
       "            background-color:  #b40426;\n",
       "            color:  #f1f1f1;\n",
       "        }    #T_2cb80524_dd66_11ea_b2a5_e09d31fda4e8row6_col9 {\n",
       "            background-color:  #3b4cc0;\n",
       "            color:  #f1f1f1;\n",
       "        }    #T_2cb80524_dd66_11ea_b2a5_e09d31fda4e8row6_col10 {\n",
       "            background-color:  #4257c9;\n",
       "            color:  #f1f1f1;\n",
       "        }    #T_2cb80524_dd66_11ea_b2a5_e09d31fda4e8row6_col11 {\n",
       "            background-color:  #3b4cc0;\n",
       "            color:  #f1f1f1;\n",
       "        }    #T_2cb80524_dd66_11ea_b2a5_e09d31fda4e8row6_col12 {\n",
       "            background-color:  #3c4ec2;\n",
       "            color:  #f1f1f1;\n",
       "        }    #T_2cb80524_dd66_11ea_b2a5_e09d31fda4e8row6_col13 {\n",
       "            background-color:  #4a63d3;\n",
       "            color:  #f1f1f1;\n",
       "        }    #T_2cb80524_dd66_11ea_b2a5_e09d31fda4e8row6_col14 {\n",
       "            background-color:  #3c4ec2;\n",
       "            color:  #f1f1f1;\n",
       "        }    #T_2cb80524_dd66_11ea_b2a5_e09d31fda4e8row6_col15 {\n",
       "            background-color:  #3c4ec2;\n",
       "            color:  #f1f1f1;\n",
       "        }    #T_2cb80524_dd66_11ea_b2a5_e09d31fda4e8row6_col16 {\n",
       "            background-color:  #6f92f3;\n",
       "            color:  #000000;\n",
       "        }    #T_2cb80524_dd66_11ea_b2a5_e09d31fda4e8row7_col0 {\n",
       "            background-color:  #445acc;\n",
       "            color:  #f1f1f1;\n",
       "        }    #T_2cb80524_dd66_11ea_b2a5_e09d31fda4e8row7_col1 {\n",
       "            background-color:  #3e51c5;\n",
       "            color:  #f1f1f1;\n",
       "        }    #T_2cb80524_dd66_11ea_b2a5_e09d31fda4e8row7_col2 {\n",
       "            background-color:  #516ddb;\n",
       "            color:  #000000;\n",
       "        }    #T_2cb80524_dd66_11ea_b2a5_e09d31fda4e8row7_col3 {\n",
       "            background-color:  #4358cb;\n",
       "            color:  #f1f1f1;\n",
       "        }    #T_2cb80524_dd66_11ea_b2a5_e09d31fda4e8row7_col4 {\n",
       "            background-color:  #4257c9;\n",
       "            color:  #f1f1f1;\n",
       "        }    #T_2cb80524_dd66_11ea_b2a5_e09d31fda4e8row7_col5 {\n",
       "            background-color:  #4358cb;\n",
       "            color:  #f1f1f1;\n",
       "        }    #T_2cb80524_dd66_11ea_b2a5_e09d31fda4e8row7_col6 {\n",
       "            background-color:  #3d50c3;\n",
       "            color:  #f1f1f1;\n",
       "        }    #T_2cb80524_dd66_11ea_b2a5_e09d31fda4e8row7_col7 {\n",
       "            background-color:  #b40426;\n",
       "            color:  #f1f1f1;\n",
       "        }    #T_2cb80524_dd66_11ea_b2a5_e09d31fda4e8row7_col8 {\n",
       "            background-color:  #3d50c3;\n",
       "            color:  #f1f1f1;\n",
       "        }    #T_2cb80524_dd66_11ea_b2a5_e09d31fda4e8row7_col9 {\n",
       "            background-color:  #3e51c5;\n",
       "            color:  #f1f1f1;\n",
       "        }    #T_2cb80524_dd66_11ea_b2a5_e09d31fda4e8row7_col10 {\n",
       "            background-color:  #4257c9;\n",
       "            color:  #f1f1f1;\n",
       "        }    #T_2cb80524_dd66_11ea_b2a5_e09d31fda4e8row7_col11 {\n",
       "            background-color:  #3e51c5;\n",
       "            color:  #f1f1f1;\n",
       "        }    #T_2cb80524_dd66_11ea_b2a5_e09d31fda4e8row7_col12 {\n",
       "            background-color:  #4257c9;\n",
       "            color:  #f1f1f1;\n",
       "        }    #T_2cb80524_dd66_11ea_b2a5_e09d31fda4e8row7_col13 {\n",
       "            background-color:  #4f69d9;\n",
       "            color:  #000000;\n",
       "        }    #T_2cb80524_dd66_11ea_b2a5_e09d31fda4e8row7_col14 {\n",
       "            background-color:  #4257c9;\n",
       "            color:  #f1f1f1;\n",
       "        }    #T_2cb80524_dd66_11ea_b2a5_e09d31fda4e8row7_col15 {\n",
       "            background-color:  #4055c8;\n",
       "            color:  #f1f1f1;\n",
       "        }    #T_2cb80524_dd66_11ea_b2a5_e09d31fda4e8row7_col16 {\n",
       "            background-color:  #5673e0;\n",
       "            color:  #000000;\n",
       "        }    #T_2cb80524_dd66_11ea_b2a5_e09d31fda4e8row8_col0 {\n",
       "            background-color:  #3c4ec2;\n",
       "            color:  #f1f1f1;\n",
       "        }    #T_2cb80524_dd66_11ea_b2a5_e09d31fda4e8row8_col1 {\n",
       "            background-color:  #4257c9;\n",
       "            color:  #f1f1f1;\n",
       "        }    #T_2cb80524_dd66_11ea_b2a5_e09d31fda4e8row8_col2 {\n",
       "            background-color:  #5977e3;\n",
       "            color:  #000000;\n",
       "        }    #T_2cb80524_dd66_11ea_b2a5_e09d31fda4e8row8_col3 {\n",
       "            background-color:  #4055c8;\n",
       "            color:  #f1f1f1;\n",
       "        }    #T_2cb80524_dd66_11ea_b2a5_e09d31fda4e8row8_col4 {\n",
       "            background-color:  #3b4cc0;\n",
       "            color:  #f1f1f1;\n",
       "        }    #T_2cb80524_dd66_11ea_b2a5_e09d31fda4e8row8_col5 {\n",
       "            background-color:  #4055c8;\n",
       "            color:  #f1f1f1;\n",
       "        }    #T_2cb80524_dd66_11ea_b2a5_e09d31fda4e8row8_col6 {\n",
       "            background-color:  #b40426;\n",
       "            color:  #f1f1f1;\n",
       "        }    #T_2cb80524_dd66_11ea_b2a5_e09d31fda4e8row8_col7 {\n",
       "            background-color:  #3b4cc0;\n",
       "            color:  #f1f1f1;\n",
       "        }    #T_2cb80524_dd66_11ea_b2a5_e09d31fda4e8row8_col8 {\n",
       "            background-color:  #b40426;\n",
       "            color:  #f1f1f1;\n",
       "        }    #T_2cb80524_dd66_11ea_b2a5_e09d31fda4e8row8_col9 {\n",
       "            background-color:  #3b4cc0;\n",
       "            color:  #f1f1f1;\n",
       "        }    #T_2cb80524_dd66_11ea_b2a5_e09d31fda4e8row8_col10 {\n",
       "            background-color:  #4257c9;\n",
       "            color:  #f1f1f1;\n",
       "        }    #T_2cb80524_dd66_11ea_b2a5_e09d31fda4e8row8_col11 {\n",
       "            background-color:  #3b4cc0;\n",
       "            color:  #f1f1f1;\n",
       "        }    #T_2cb80524_dd66_11ea_b2a5_e09d31fda4e8row8_col12 {\n",
       "            background-color:  #3c4ec2;\n",
       "            color:  #f1f1f1;\n",
       "        }    #T_2cb80524_dd66_11ea_b2a5_e09d31fda4e8row8_col13 {\n",
       "            background-color:  #4a63d3;\n",
       "            color:  #f1f1f1;\n",
       "        }    #T_2cb80524_dd66_11ea_b2a5_e09d31fda4e8row8_col14 {\n",
       "            background-color:  #3c4ec2;\n",
       "            color:  #f1f1f1;\n",
       "        }    #T_2cb80524_dd66_11ea_b2a5_e09d31fda4e8row8_col15 {\n",
       "            background-color:  #3c4ec2;\n",
       "            color:  #f1f1f1;\n",
       "        }    #T_2cb80524_dd66_11ea_b2a5_e09d31fda4e8row8_col16 {\n",
       "            background-color:  #6f92f3;\n",
       "            color:  #000000;\n",
       "        }    #T_2cb80524_dd66_11ea_b2a5_e09d31fda4e8row9_col0 {\n",
       "            background-color:  #3c4ec2;\n",
       "            color:  #f1f1f1;\n",
       "        }    #T_2cb80524_dd66_11ea_b2a5_e09d31fda4e8row9_col1 {\n",
       "            background-color:  #3f53c6;\n",
       "            color:  #f1f1f1;\n",
       "        }    #T_2cb80524_dd66_11ea_b2a5_e09d31fda4e8row9_col2 {\n",
       "            background-color:  #5572df;\n",
       "            color:  #000000;\n",
       "        }    #T_2cb80524_dd66_11ea_b2a5_e09d31fda4e8row9_col3 {\n",
       "            background-color:  #3f53c6;\n",
       "            color:  #f1f1f1;\n",
       "        }    #T_2cb80524_dd66_11ea_b2a5_e09d31fda4e8row9_col4 {\n",
       "            background-color:  #485fd1;\n",
       "            color:  #f1f1f1;\n",
       "        }    #T_2cb80524_dd66_11ea_b2a5_e09d31fda4e8row9_col5 {\n",
       "            background-color:  #3f53c6;\n",
       "            color:  #f1f1f1;\n",
       "        }    #T_2cb80524_dd66_11ea_b2a5_e09d31fda4e8row9_col6 {\n",
       "            background-color:  #3d50c3;\n",
       "            color:  #f1f1f1;\n",
       "        }    #T_2cb80524_dd66_11ea_b2a5_e09d31fda4e8row9_col7 {\n",
       "            background-color:  #3d50c3;\n",
       "            color:  #f1f1f1;\n",
       "        }    #T_2cb80524_dd66_11ea_b2a5_e09d31fda4e8row9_col8 {\n",
       "            background-color:  #3d50c3;\n",
       "            color:  #f1f1f1;\n",
       "        }    #T_2cb80524_dd66_11ea_b2a5_e09d31fda4e8row9_col9 {\n",
       "            background-color:  #b40426;\n",
       "            color:  #f1f1f1;\n",
       "        }    #T_2cb80524_dd66_11ea_b2a5_e09d31fda4e8row9_col10 {\n",
       "            background-color:  #4358cb;\n",
       "            color:  #f1f1f1;\n",
       "        }    #T_2cb80524_dd66_11ea_b2a5_e09d31fda4e8row9_col11 {\n",
       "            background-color:  #b40426;\n",
       "            color:  #f1f1f1;\n",
       "        }    #T_2cb80524_dd66_11ea_b2a5_e09d31fda4e8row9_col12 {\n",
       "            background-color:  #3b4cc0;\n",
       "            color:  #f1f1f1;\n",
       "        }    #T_2cb80524_dd66_11ea_b2a5_e09d31fda4e8row9_col13 {\n",
       "            background-color:  #455cce;\n",
       "            color:  #f1f1f1;\n",
       "        }    #T_2cb80524_dd66_11ea_b2a5_e09d31fda4e8row9_col14 {\n",
       "            background-color:  #3b4cc0;\n",
       "            color:  #f1f1f1;\n",
       "        }    #T_2cb80524_dd66_11ea_b2a5_e09d31fda4e8row9_col15 {\n",
       "            background-color:  #3d50c3;\n",
       "            color:  #f1f1f1;\n",
       "        }    #T_2cb80524_dd66_11ea_b2a5_e09d31fda4e8row9_col16 {\n",
       "            background-color:  #5e7de7;\n",
       "            color:  #000000;\n",
       "        }    #T_2cb80524_dd66_11ea_b2a5_e09d31fda4e8row10_col0 {\n",
       "            background-color:  #3b4cc0;\n",
       "            color:  #f1f1f1;\n",
       "        }    #T_2cb80524_dd66_11ea_b2a5_e09d31fda4e8row10_col1 {\n",
       "            background-color:  #465ecf;\n",
       "            color:  #f1f1f1;\n",
       "        }    #T_2cb80524_dd66_11ea_b2a5_e09d31fda4e8row10_col2 {\n",
       "            background-color:  #5572df;\n",
       "            color:  #000000;\n",
       "        }    #T_2cb80524_dd66_11ea_b2a5_e09d31fda4e8row10_col3 {\n",
       "            background-color:  #455cce;\n",
       "            color:  #f1f1f1;\n",
       "        }    #T_2cb80524_dd66_11ea_b2a5_e09d31fda4e8row10_col4 {\n",
       "            background-color:  #3b4cc0;\n",
       "            color:  #f1f1f1;\n",
       "        }    #T_2cb80524_dd66_11ea_b2a5_e09d31fda4e8row10_col5 {\n",
       "            background-color:  #455cce;\n",
       "            color:  #f1f1f1;\n",
       "        }    #T_2cb80524_dd66_11ea_b2a5_e09d31fda4e8row10_col6 {\n",
       "            background-color:  #4358cb;\n",
       "            color:  #f1f1f1;\n",
       "        }    #T_2cb80524_dd66_11ea_b2a5_e09d31fda4e8row10_col7 {\n",
       "            background-color:  #3f53c6;\n",
       "            color:  #f1f1f1;\n",
       "        }    #T_2cb80524_dd66_11ea_b2a5_e09d31fda4e8row10_col8 {\n",
       "            background-color:  #4358cb;\n",
       "            color:  #f1f1f1;\n",
       "        }    #T_2cb80524_dd66_11ea_b2a5_e09d31fda4e8row10_col9 {\n",
       "            background-color:  #4257c9;\n",
       "            color:  #f1f1f1;\n",
       "        }    #T_2cb80524_dd66_11ea_b2a5_e09d31fda4e8row10_col10 {\n",
       "            background-color:  #b40426;\n",
       "            color:  #f1f1f1;\n",
       "        }    #T_2cb80524_dd66_11ea_b2a5_e09d31fda4e8row10_col11 {\n",
       "            background-color:  #4257c9;\n",
       "            color:  #f1f1f1;\n",
       "        }    #T_2cb80524_dd66_11ea_b2a5_e09d31fda4e8row10_col12 {\n",
       "            background-color:  #3c4ec2;\n",
       "            color:  #f1f1f1;\n",
       "        }    #T_2cb80524_dd66_11ea_b2a5_e09d31fda4e8row10_col13 {\n",
       "            background-color:  #4961d2;\n",
       "            color:  #f1f1f1;\n",
       "        }    #T_2cb80524_dd66_11ea_b2a5_e09d31fda4e8row10_col14 {\n",
       "            background-color:  #3c4ec2;\n",
       "            color:  #f1f1f1;\n",
       "        }    #T_2cb80524_dd66_11ea_b2a5_e09d31fda4e8row10_col15 {\n",
       "            background-color:  #3c4ec2;\n",
       "            color:  #f1f1f1;\n",
       "        }    #T_2cb80524_dd66_11ea_b2a5_e09d31fda4e8row10_col16 {\n",
       "            background-color:  #5572df;\n",
       "            color:  #000000;\n",
       "        }    #T_2cb80524_dd66_11ea_b2a5_e09d31fda4e8row11_col0 {\n",
       "            background-color:  #3c4ec2;\n",
       "            color:  #f1f1f1;\n",
       "        }    #T_2cb80524_dd66_11ea_b2a5_e09d31fda4e8row11_col1 {\n",
       "            background-color:  #3f53c6;\n",
       "            color:  #f1f1f1;\n",
       "        }    #T_2cb80524_dd66_11ea_b2a5_e09d31fda4e8row11_col2 {\n",
       "            background-color:  #5572df;\n",
       "            color:  #000000;\n",
       "        }    #T_2cb80524_dd66_11ea_b2a5_e09d31fda4e8row11_col3 {\n",
       "            background-color:  #3f53c6;\n",
       "            color:  #f1f1f1;\n",
       "        }    #T_2cb80524_dd66_11ea_b2a5_e09d31fda4e8row11_col4 {\n",
       "            background-color:  #485fd1;\n",
       "            color:  #f1f1f1;\n",
       "        }    #T_2cb80524_dd66_11ea_b2a5_e09d31fda4e8row11_col5 {\n",
       "            background-color:  #3f53c6;\n",
       "            color:  #f1f1f1;\n",
       "        }    #T_2cb80524_dd66_11ea_b2a5_e09d31fda4e8row11_col6 {\n",
       "            background-color:  #3d50c3;\n",
       "            color:  #f1f1f1;\n",
       "        }    #T_2cb80524_dd66_11ea_b2a5_e09d31fda4e8row11_col7 {\n",
       "            background-color:  #3d50c3;\n",
       "            color:  #f1f1f1;\n",
       "        }    #T_2cb80524_dd66_11ea_b2a5_e09d31fda4e8row11_col8 {\n",
       "            background-color:  #3d50c3;\n",
       "            color:  #f1f1f1;\n",
       "        }    #T_2cb80524_dd66_11ea_b2a5_e09d31fda4e8row11_col9 {\n",
       "            background-color:  #b40426;\n",
       "            color:  #f1f1f1;\n",
       "        }    #T_2cb80524_dd66_11ea_b2a5_e09d31fda4e8row11_col10 {\n",
       "            background-color:  #4358cb;\n",
       "            color:  #f1f1f1;\n",
       "        }    #T_2cb80524_dd66_11ea_b2a5_e09d31fda4e8row11_col11 {\n",
       "            background-color:  #b40426;\n",
       "            color:  #f1f1f1;\n",
       "        }    #T_2cb80524_dd66_11ea_b2a5_e09d31fda4e8row11_col12 {\n",
       "            background-color:  #3b4cc0;\n",
       "            color:  #f1f1f1;\n",
       "        }    #T_2cb80524_dd66_11ea_b2a5_e09d31fda4e8row11_col13 {\n",
       "            background-color:  #455cce;\n",
       "            color:  #f1f1f1;\n",
       "        }    #T_2cb80524_dd66_11ea_b2a5_e09d31fda4e8row11_col14 {\n",
       "            background-color:  #3b4cc0;\n",
       "            color:  #f1f1f1;\n",
       "        }    #T_2cb80524_dd66_11ea_b2a5_e09d31fda4e8row11_col15 {\n",
       "            background-color:  #3d50c3;\n",
       "            color:  #f1f1f1;\n",
       "        }    #T_2cb80524_dd66_11ea_b2a5_e09d31fda4e8row11_col16 {\n",
       "            background-color:  #5e7de7;\n",
       "            color:  #000000;\n",
       "        }    #T_2cb80524_dd66_11ea_b2a5_e09d31fda4e8row12_col0 {\n",
       "            background-color:  #4055c8;\n",
       "            color:  #f1f1f1;\n",
       "        }    #T_2cb80524_dd66_11ea_b2a5_e09d31fda4e8row12_col1 {\n",
       "            background-color:  #3c4ec2;\n",
       "            color:  #f1f1f1;\n",
       "        }    #T_2cb80524_dd66_11ea_b2a5_e09d31fda4e8row12_col2 {\n",
       "            background-color:  #5470de;\n",
       "            color:  #000000;\n",
       "        }    #T_2cb80524_dd66_11ea_b2a5_e09d31fda4e8row12_col3 {\n",
       "            background-color:  #3b4cc0;\n",
       "            color:  #f1f1f1;\n",
       "        }    #T_2cb80524_dd66_11ea_b2a5_e09d31fda4e8row12_col4 {\n",
       "            background-color:  #465ecf;\n",
       "            color:  #f1f1f1;\n",
       "        }    #T_2cb80524_dd66_11ea_b2a5_e09d31fda4e8row12_col5 {\n",
       "            background-color:  #3b4cc0;\n",
       "            color:  #f1f1f1;\n",
       "        }    #T_2cb80524_dd66_11ea_b2a5_e09d31fda4e8row12_col6 {\n",
       "            background-color:  #3d50c3;\n",
       "            color:  #f1f1f1;\n",
       "        }    #T_2cb80524_dd66_11ea_b2a5_e09d31fda4e8row12_col7 {\n",
       "            background-color:  #4055c8;\n",
       "            color:  #f1f1f1;\n",
       "        }    #T_2cb80524_dd66_11ea_b2a5_e09d31fda4e8row12_col8 {\n",
       "            background-color:  #3d50c3;\n",
       "            color:  #f1f1f1;\n",
       "        }    #T_2cb80524_dd66_11ea_b2a5_e09d31fda4e8row12_col9 {\n",
       "            background-color:  #3b4cc0;\n",
       "            color:  #f1f1f1;\n",
       "        }    #T_2cb80524_dd66_11ea_b2a5_e09d31fda4e8row12_col10 {\n",
       "            background-color:  #3c4ec2;\n",
       "            color:  #f1f1f1;\n",
       "        }    #T_2cb80524_dd66_11ea_b2a5_e09d31fda4e8row12_col11 {\n",
       "            background-color:  #3b4cc0;\n",
       "            color:  #f1f1f1;\n",
       "        }    #T_2cb80524_dd66_11ea_b2a5_e09d31fda4e8row12_col12 {\n",
       "            background-color:  #b40426;\n",
       "            color:  #f1f1f1;\n",
       "        }    #T_2cb80524_dd66_11ea_b2a5_e09d31fda4e8row12_col13 {\n",
       "            background-color:  #536edd;\n",
       "            color:  #000000;\n",
       "        }    #T_2cb80524_dd66_11ea_b2a5_e09d31fda4e8row12_col14 {\n",
       "            background-color:  #b40426;\n",
       "            color:  #f1f1f1;\n",
       "        }    #T_2cb80524_dd66_11ea_b2a5_e09d31fda4e8row12_col15 {\n",
       "            background-color:  #3d50c3;\n",
       "            color:  #f1f1f1;\n",
       "        }    #T_2cb80524_dd66_11ea_b2a5_e09d31fda4e8row12_col16 {\n",
       "            background-color:  #688aef;\n",
       "            color:  #000000;\n",
       "        }    #T_2cb80524_dd66_11ea_b2a5_e09d31fda4e8row13_col0 {\n",
       "            background-color:  #445acc;\n",
       "            color:  #f1f1f1;\n",
       "        }    #T_2cb80524_dd66_11ea_b2a5_e09d31fda4e8row13_col1 {\n",
       "            background-color:  #3b4cc0;\n",
       "            color:  #f1f1f1;\n",
       "        }    #T_2cb80524_dd66_11ea_b2a5_e09d31fda4e8row13_col2 {\n",
       "            background-color:  #5875e1;\n",
       "            color:  #000000;\n",
       "        }    #T_2cb80524_dd66_11ea_b2a5_e09d31fda4e8row13_col3 {\n",
       "            background-color:  #4055c8;\n",
       "            color:  #f1f1f1;\n",
       "        }    #T_2cb80524_dd66_11ea_b2a5_e09d31fda4e8row13_col4 {\n",
       "            background-color:  #4257c9;\n",
       "            color:  #f1f1f1;\n",
       "        }    #T_2cb80524_dd66_11ea_b2a5_e09d31fda4e8row13_col5 {\n",
       "            background-color:  #4055c8;\n",
       "            color:  #f1f1f1;\n",
       "        }    #T_2cb80524_dd66_11ea_b2a5_e09d31fda4e8row13_col6 {\n",
       "            background-color:  #4257c9;\n",
       "            color:  #f1f1f1;\n",
       "        }    #T_2cb80524_dd66_11ea_b2a5_e09d31fda4e8row13_col7 {\n",
       "            background-color:  #4358cb;\n",
       "            color:  #f1f1f1;\n",
       "        }    #T_2cb80524_dd66_11ea_b2a5_e09d31fda4e8row13_col8 {\n",
       "            background-color:  #4257c9;\n",
       "            color:  #f1f1f1;\n",
       "        }    #T_2cb80524_dd66_11ea_b2a5_e09d31fda4e8row13_col9 {\n",
       "            background-color:  #3b4cc0;\n",
       "            color:  #f1f1f1;\n",
       "        }    #T_2cb80524_dd66_11ea_b2a5_e09d31fda4e8row13_col10 {\n",
       "            background-color:  #3f53c6;\n",
       "            color:  #f1f1f1;\n",
       "        }    #T_2cb80524_dd66_11ea_b2a5_e09d31fda4e8row13_col11 {\n",
       "            background-color:  #3b4cc0;\n",
       "            color:  #f1f1f1;\n",
       "        }    #T_2cb80524_dd66_11ea_b2a5_e09d31fda4e8row13_col12 {\n",
       "            background-color:  #4961d2;\n",
       "            color:  #f1f1f1;\n",
       "        }    #T_2cb80524_dd66_11ea_b2a5_e09d31fda4e8row13_col13 {\n",
       "            background-color:  #b40426;\n",
       "            color:  #f1f1f1;\n",
       "        }    #T_2cb80524_dd66_11ea_b2a5_e09d31fda4e8row13_col14 {\n",
       "            background-color:  #4961d2;\n",
       "            color:  #f1f1f1;\n",
       "        }    #T_2cb80524_dd66_11ea_b2a5_e09d31fda4e8row13_col15 {\n",
       "            background-color:  #3b4cc0;\n",
       "            color:  #f1f1f1;\n",
       "        }    #T_2cb80524_dd66_11ea_b2a5_e09d31fda4e8row13_col16 {\n",
       "            background-color:  #445acc;\n",
       "            color:  #f1f1f1;\n",
       "        }    #T_2cb80524_dd66_11ea_b2a5_e09d31fda4e8row14_col0 {\n",
       "            background-color:  #4055c8;\n",
       "            color:  #f1f1f1;\n",
       "        }    #T_2cb80524_dd66_11ea_b2a5_e09d31fda4e8row14_col1 {\n",
       "            background-color:  #3c4ec2;\n",
       "            color:  #f1f1f1;\n",
       "        }    #T_2cb80524_dd66_11ea_b2a5_e09d31fda4e8row14_col2 {\n",
       "            background-color:  #5470de;\n",
       "            color:  #000000;\n",
       "        }    #T_2cb80524_dd66_11ea_b2a5_e09d31fda4e8row14_col3 {\n",
       "            background-color:  #3b4cc0;\n",
       "            color:  #f1f1f1;\n",
       "        }    #T_2cb80524_dd66_11ea_b2a5_e09d31fda4e8row14_col4 {\n",
       "            background-color:  #465ecf;\n",
       "            color:  #f1f1f1;\n",
       "        }    #T_2cb80524_dd66_11ea_b2a5_e09d31fda4e8row14_col5 {\n",
       "            background-color:  #3b4cc0;\n",
       "            color:  #f1f1f1;\n",
       "        }    #T_2cb80524_dd66_11ea_b2a5_e09d31fda4e8row14_col6 {\n",
       "            background-color:  #3d50c3;\n",
       "            color:  #f1f1f1;\n",
       "        }    #T_2cb80524_dd66_11ea_b2a5_e09d31fda4e8row14_col7 {\n",
       "            background-color:  #4055c8;\n",
       "            color:  #f1f1f1;\n",
       "        }    #T_2cb80524_dd66_11ea_b2a5_e09d31fda4e8row14_col8 {\n",
       "            background-color:  #3d50c3;\n",
       "            color:  #f1f1f1;\n",
       "        }    #T_2cb80524_dd66_11ea_b2a5_e09d31fda4e8row14_col9 {\n",
       "            background-color:  #3b4cc0;\n",
       "            color:  #f1f1f1;\n",
       "        }    #T_2cb80524_dd66_11ea_b2a5_e09d31fda4e8row14_col10 {\n",
       "            background-color:  #3c4ec2;\n",
       "            color:  #f1f1f1;\n",
       "        }    #T_2cb80524_dd66_11ea_b2a5_e09d31fda4e8row14_col11 {\n",
       "            background-color:  #3b4cc0;\n",
       "            color:  #f1f1f1;\n",
       "        }    #T_2cb80524_dd66_11ea_b2a5_e09d31fda4e8row14_col12 {\n",
       "            background-color:  #b40426;\n",
       "            color:  #f1f1f1;\n",
       "        }    #T_2cb80524_dd66_11ea_b2a5_e09d31fda4e8row14_col13 {\n",
       "            background-color:  #536edd;\n",
       "            color:  #000000;\n",
       "        }    #T_2cb80524_dd66_11ea_b2a5_e09d31fda4e8row14_col14 {\n",
       "            background-color:  #b40426;\n",
       "            color:  #f1f1f1;\n",
       "        }    #T_2cb80524_dd66_11ea_b2a5_e09d31fda4e8row14_col15 {\n",
       "            background-color:  #3d50c3;\n",
       "            color:  #f1f1f1;\n",
       "        }    #T_2cb80524_dd66_11ea_b2a5_e09d31fda4e8row14_col16 {\n",
       "            background-color:  #688aef;\n",
       "            color:  #000000;\n",
       "        }    #T_2cb80524_dd66_11ea_b2a5_e09d31fda4e8row15_col0 {\n",
       "            background-color:  #3d50c3;\n",
       "            color:  #f1f1f1;\n",
       "        }    #T_2cb80524_dd66_11ea_b2a5_e09d31fda4e8row15_col1 {\n",
       "            background-color:  #4961d2;\n",
       "            color:  #f1f1f1;\n",
       "        }    #T_2cb80524_dd66_11ea_b2a5_e09d31fda4e8row15_col2 {\n",
       "            background-color:  #4f69d9;\n",
       "            color:  #000000;\n",
       "        }    #T_2cb80524_dd66_11ea_b2a5_e09d31fda4e8row15_col3 {\n",
       "            background-color:  #3b4cc0;\n",
       "            color:  #f1f1f1;\n",
       "        }    #T_2cb80524_dd66_11ea_b2a5_e09d31fda4e8row15_col4 {\n",
       "            background-color:  #3b4cc0;\n",
       "            color:  #f1f1f1;\n",
       "        }    #T_2cb80524_dd66_11ea_b2a5_e09d31fda4e8row15_col5 {\n",
       "            background-color:  #3b4cc0;\n",
       "            color:  #f1f1f1;\n",
       "        }    #T_2cb80524_dd66_11ea_b2a5_e09d31fda4e8row15_col6 {\n",
       "            background-color:  #3d50c3;\n",
       "            color:  #f1f1f1;\n",
       "        }    #T_2cb80524_dd66_11ea_b2a5_e09d31fda4e8row15_col7 {\n",
       "            background-color:  #3e51c5;\n",
       "            color:  #f1f1f1;\n",
       "        }    #T_2cb80524_dd66_11ea_b2a5_e09d31fda4e8row15_col8 {\n",
       "            background-color:  #3d50c3;\n",
       "            color:  #f1f1f1;\n",
       "        }    #T_2cb80524_dd66_11ea_b2a5_e09d31fda4e8row15_col9 {\n",
       "            background-color:  #3c4ec2;\n",
       "            color:  #f1f1f1;\n",
       "        }    #T_2cb80524_dd66_11ea_b2a5_e09d31fda4e8row15_col10 {\n",
       "            background-color:  #3c4ec2;\n",
       "            color:  #f1f1f1;\n",
       "        }    #T_2cb80524_dd66_11ea_b2a5_e09d31fda4e8row15_col11 {\n",
       "            background-color:  #3c4ec2;\n",
       "            color:  #f1f1f1;\n",
       "        }    #T_2cb80524_dd66_11ea_b2a5_e09d31fda4e8row15_col12 {\n",
       "            background-color:  #3d50c3;\n",
       "            color:  #f1f1f1;\n",
       "        }    #T_2cb80524_dd66_11ea_b2a5_e09d31fda4e8row15_col13 {\n",
       "            background-color:  #445acc;\n",
       "            color:  #f1f1f1;\n",
       "        }    #T_2cb80524_dd66_11ea_b2a5_e09d31fda4e8row15_col14 {\n",
       "            background-color:  #3d50c3;\n",
       "            color:  #f1f1f1;\n",
       "        }    #T_2cb80524_dd66_11ea_b2a5_e09d31fda4e8row15_col15 {\n",
       "            background-color:  #b40426;\n",
       "            color:  #f1f1f1;\n",
       "        }    #T_2cb80524_dd66_11ea_b2a5_e09d31fda4e8row15_col16 {\n",
       "            background-color:  #96b7ff;\n",
       "            color:  #000000;\n",
       "        }    #T_2cb80524_dd66_11ea_b2a5_e09d31fda4e8row16_col0 {\n",
       "            background-color:  #4358cb;\n",
       "            color:  #f1f1f1;\n",
       "        }    #T_2cb80524_dd66_11ea_b2a5_e09d31fda4e8row16_col1 {\n",
       "            background-color:  #4358cb;\n",
       "            color:  #f1f1f1;\n",
       "        }    #T_2cb80524_dd66_11ea_b2a5_e09d31fda4e8row16_col2 {\n",
       "            background-color:  #3b4cc0;\n",
       "            color:  #f1f1f1;\n",
       "        }    #T_2cb80524_dd66_11ea_b2a5_e09d31fda4e8row16_col3 {\n",
       "            background-color:  #81a4fb;\n",
       "            color:  #000000;\n",
       "        }    #T_2cb80524_dd66_11ea_b2a5_e09d31fda4e8row16_col4 {\n",
       "            background-color:  #465ecf;\n",
       "            color:  #f1f1f1;\n",
       "        }    #T_2cb80524_dd66_11ea_b2a5_e09d31fda4e8row16_col5 {\n",
       "            background-color:  #81a4fb;\n",
       "            color:  #000000;\n",
       "        }    #T_2cb80524_dd66_11ea_b2a5_e09d31fda4e8row16_col6 {\n",
       "            background-color:  #5d7ce6;\n",
       "            color:  #000000;\n",
       "        }    #T_2cb80524_dd66_11ea_b2a5_e09d31fda4e8row16_col7 {\n",
       "            background-color:  #4055c8;\n",
       "            color:  #f1f1f1;\n",
       "        }    #T_2cb80524_dd66_11ea_b2a5_e09d31fda4e8row16_col8 {\n",
       "            background-color:  #5d7ce6;\n",
       "            color:  #000000;\n",
       "        }    #T_2cb80524_dd66_11ea_b2a5_e09d31fda4e8row16_col9 {\n",
       "            background-color:  #4961d2;\n",
       "            color:  #f1f1f1;\n",
       "        }    #T_2cb80524_dd66_11ea_b2a5_e09d31fda4e8row16_col10 {\n",
       "            background-color:  #4257c9;\n",
       "            color:  #f1f1f1;\n",
       "        }    #T_2cb80524_dd66_11ea_b2a5_e09d31fda4e8row16_col11 {\n",
       "            background-color:  #4961d2;\n",
       "            color:  #f1f1f1;\n",
       "        }    #T_2cb80524_dd66_11ea_b2a5_e09d31fda4e8row16_col12 {\n",
       "            background-color:  #5470de;\n",
       "            color:  #000000;\n",
       "        }    #T_2cb80524_dd66_11ea_b2a5_e09d31fda4e8row16_col13 {\n",
       "            background-color:  #3b4cc0;\n",
       "            color:  #f1f1f1;\n",
       "        }    #T_2cb80524_dd66_11ea_b2a5_e09d31fda4e8row16_col14 {\n",
       "            background-color:  #5470de;\n",
       "            color:  #000000;\n",
       "        }    #T_2cb80524_dd66_11ea_b2a5_e09d31fda4e8row16_col15 {\n",
       "            background-color:  #84a7fc;\n",
       "            color:  #000000;\n",
       "        }    #T_2cb80524_dd66_11ea_b2a5_e09d31fda4e8row16_col16 {\n",
       "            background-color:  #b40426;\n",
       "            color:  #f1f1f1;\n",
       "        }</style><table id=\"T_2cb80524_dd66_11ea_b2a5_e09d31fda4e8\" ><thead>    <tr>        <th class=\"blank level0\" ></th>        <th class=\"col_heading level0 col0\" >account length</th>        <th class=\"col_heading level0 col1\" >area code</th>        <th class=\"col_heading level0 col2\" >number vmail messages</th>        <th class=\"col_heading level0 col3\" >total day minutes</th>        <th class=\"col_heading level0 col4\" >total day calls</th>        <th class=\"col_heading level0 col5\" >total day charge</th>        <th class=\"col_heading level0 col6\" >total eve minutes</th>        <th class=\"col_heading level0 col7\" >total eve calls</th>        <th class=\"col_heading level0 col8\" >total eve charge</th>        <th class=\"col_heading level0 col9\" >total night minutes</th>        <th class=\"col_heading level0 col10\" >total night calls</th>        <th class=\"col_heading level0 col11\" >total night charge</th>        <th class=\"col_heading level0 col12\" >total intl minutes</th>        <th class=\"col_heading level0 col13\" >total intl calls</th>        <th class=\"col_heading level0 col14\" >total intl charge</th>        <th class=\"col_heading level0 col15\" >customer service calls</th>        <th class=\"col_heading level0 col16\" >churn</th>    </tr></thead><tbody>\n",
       "                <tr>\n",
       "                        <th id=\"T_2cb80524_dd66_11ea_b2a5_e09d31fda4e8level0_row0\" class=\"row_heading level0 row0\" >account length</th>\n",
       "                        <td id=\"T_2cb80524_dd66_11ea_b2a5_e09d31fda4e8row0_col0\" class=\"data row0 col0\" >1</td>\n",
       "                        <td id=\"T_2cb80524_dd66_11ea_b2a5_e09d31fda4e8row0_col1\" class=\"data row0 col1\" >-0.012</td>\n",
       "                        <td id=\"T_2cb80524_dd66_11ea_b2a5_e09d31fda4e8row0_col2\" class=\"data row0 col2\" >-0.0046</td>\n",
       "                        <td id=\"T_2cb80524_dd66_11ea_b2a5_e09d31fda4e8row0_col3\" class=\"data row0 col3\" >0.0062</td>\n",
       "                        <td id=\"T_2cb80524_dd66_11ea_b2a5_e09d31fda4e8row0_col4\" class=\"data row0 col4\" >0.038</td>\n",
       "                        <td id=\"T_2cb80524_dd66_11ea_b2a5_e09d31fda4e8row0_col5\" class=\"data row0 col5\" >0.0062</td>\n",
       "                        <td id=\"T_2cb80524_dd66_11ea_b2a5_e09d31fda4e8row0_col6\" class=\"data row0 col6\" >-0.0068</td>\n",
       "                        <td id=\"T_2cb80524_dd66_11ea_b2a5_e09d31fda4e8row0_col7\" class=\"data row0 col7\" >0.019</td>\n",
       "                        <td id=\"T_2cb80524_dd66_11ea_b2a5_e09d31fda4e8row0_col8\" class=\"data row0 col8\" >-0.0067</td>\n",
       "                        <td id=\"T_2cb80524_dd66_11ea_b2a5_e09d31fda4e8row0_col9\" class=\"data row0 col9\" >-0.009</td>\n",
       "                        <td id=\"T_2cb80524_dd66_11ea_b2a5_e09d31fda4e8row0_col10\" class=\"data row0 col10\" >-0.013</td>\n",
       "                        <td id=\"T_2cb80524_dd66_11ea_b2a5_e09d31fda4e8row0_col11\" class=\"data row0 col11\" >-0.009</td>\n",
       "                        <td id=\"T_2cb80524_dd66_11ea_b2a5_e09d31fda4e8row0_col12\" class=\"data row0 col12\" >0.0095</td>\n",
       "                        <td id=\"T_2cb80524_dd66_11ea_b2a5_e09d31fda4e8row0_col13\" class=\"data row0 col13\" >0.021</td>\n",
       "                        <td id=\"T_2cb80524_dd66_11ea_b2a5_e09d31fda4e8row0_col14\" class=\"data row0 col14\" >0.0095</td>\n",
       "                        <td id=\"T_2cb80524_dd66_11ea_b2a5_e09d31fda4e8row0_col15\" class=\"data row0 col15\" >-0.0038</td>\n",
       "                        <td id=\"T_2cb80524_dd66_11ea_b2a5_e09d31fda4e8row0_col16\" class=\"data row0 col16\" >0.017</td>\n",
       "            </tr>\n",
       "            <tr>\n",
       "                        <th id=\"T_2cb80524_dd66_11ea_b2a5_e09d31fda4e8level0_row1\" class=\"row_heading level0 row1\" >area code</th>\n",
       "                        <td id=\"T_2cb80524_dd66_11ea_b2a5_e09d31fda4e8row1_col0\" class=\"data row1 col0\" >-0.012</td>\n",
       "                        <td id=\"T_2cb80524_dd66_11ea_b2a5_e09d31fda4e8row1_col1\" class=\"data row1 col1\" >1</td>\n",
       "                        <td id=\"T_2cb80524_dd66_11ea_b2a5_e09d31fda4e8row1_col2\" class=\"data row1 col2\" >-0.002</td>\n",
       "                        <td id=\"T_2cb80524_dd66_11ea_b2a5_e09d31fda4e8row1_col3\" class=\"data row1 col3\" >-0.0083</td>\n",
       "                        <td id=\"T_2cb80524_dd66_11ea_b2a5_e09d31fda4e8row1_col4\" class=\"data row1 col4\" >-0.0096</td>\n",
       "                        <td id=\"T_2cb80524_dd66_11ea_b2a5_e09d31fda4e8row1_col5\" class=\"data row1 col5\" >-0.0083</td>\n",
       "                        <td id=\"T_2cb80524_dd66_11ea_b2a5_e09d31fda4e8row1_col6\" class=\"data row1 col6\" >0.0036</td>\n",
       "                        <td id=\"T_2cb80524_dd66_11ea_b2a5_e09d31fda4e8row1_col7\" class=\"data row1 col7\" >-0.012</td>\n",
       "                        <td id=\"T_2cb80524_dd66_11ea_b2a5_e09d31fda4e8row1_col8\" class=\"data row1 col8\" >0.0036</td>\n",
       "                        <td id=\"T_2cb80524_dd66_11ea_b2a5_e09d31fda4e8row1_col9\" class=\"data row1 col9\" >-0.0058</td>\n",
       "                        <td id=\"T_2cb80524_dd66_11ea_b2a5_e09d31fda4e8row1_col10\" class=\"data row1 col10\" >0.017</td>\n",
       "                        <td id=\"T_2cb80524_dd66_11ea_b2a5_e09d31fda4e8row1_col11\" class=\"data row1 col11\" >-0.0058</td>\n",
       "                        <td id=\"T_2cb80524_dd66_11ea_b2a5_e09d31fda4e8row1_col12\" class=\"data row1 col12\" >-0.018</td>\n",
       "                        <td id=\"T_2cb80524_dd66_11ea_b2a5_e09d31fda4e8row1_col13\" class=\"data row1 col13\" >-0.024</td>\n",
       "                        <td id=\"T_2cb80524_dd66_11ea_b2a5_e09d31fda4e8row1_col14\" class=\"data row1 col14\" >-0.018</td>\n",
       "                        <td id=\"T_2cb80524_dd66_11ea_b2a5_e09d31fda4e8row1_col15\" class=\"data row1 col15\" >0.028</td>\n",
       "                        <td id=\"T_2cb80524_dd66_11ea_b2a5_e09d31fda4e8row1_col16\" class=\"data row1 col16\" >0.0062</td>\n",
       "            </tr>\n",
       "            <tr>\n",
       "                        <th id=\"T_2cb80524_dd66_11ea_b2a5_e09d31fda4e8level0_row2\" class=\"row_heading level0 row2\" >number vmail messages</th>\n",
       "                        <td id=\"T_2cb80524_dd66_11ea_b2a5_e09d31fda4e8row2_col0\" class=\"data row2 col0\" >-0.0046</td>\n",
       "                        <td id=\"T_2cb80524_dd66_11ea_b2a5_e09d31fda4e8row2_col1\" class=\"data row2 col1\" >-0.002</td>\n",
       "                        <td id=\"T_2cb80524_dd66_11ea_b2a5_e09d31fda4e8row2_col2\" class=\"data row2 col2\" >1</td>\n",
       "                        <td id=\"T_2cb80524_dd66_11ea_b2a5_e09d31fda4e8row2_col3\" class=\"data row2 col3\" >0.00078</td>\n",
       "                        <td id=\"T_2cb80524_dd66_11ea_b2a5_e09d31fda4e8row2_col4\" class=\"data row2 col4\" >-0.0095</td>\n",
       "                        <td id=\"T_2cb80524_dd66_11ea_b2a5_e09d31fda4e8row2_col5\" class=\"data row2 col5\" >0.00078</td>\n",
       "                        <td id=\"T_2cb80524_dd66_11ea_b2a5_e09d31fda4e8row2_col6\" class=\"data row2 col6\" >0.018</td>\n",
       "                        <td id=\"T_2cb80524_dd66_11ea_b2a5_e09d31fda4e8row2_col7\" class=\"data row2 col7\" >-0.0059</td>\n",
       "                        <td id=\"T_2cb80524_dd66_11ea_b2a5_e09d31fda4e8row2_col8\" class=\"data row2 col8\" >0.018</td>\n",
       "                        <td id=\"T_2cb80524_dd66_11ea_b2a5_e09d31fda4e8row2_col9\" class=\"data row2 col9\" >0.0077</td>\n",
       "                        <td id=\"T_2cb80524_dd66_11ea_b2a5_e09d31fda4e8row2_col10\" class=\"data row2 col10\" >0.0071</td>\n",
       "                        <td id=\"T_2cb80524_dd66_11ea_b2a5_e09d31fda4e8row2_col11\" class=\"data row2 col11\" >0.0077</td>\n",
       "                        <td id=\"T_2cb80524_dd66_11ea_b2a5_e09d31fda4e8row2_col12\" class=\"data row2 col12\" >0.0029</td>\n",
       "                        <td id=\"T_2cb80524_dd66_11ea_b2a5_e09d31fda4e8row2_col13\" class=\"data row2 col13\" >0.014</td>\n",
       "                        <td id=\"T_2cb80524_dd66_11ea_b2a5_e09d31fda4e8row2_col14\" class=\"data row2 col14\" >0.0029</td>\n",
       "                        <td id=\"T_2cb80524_dd66_11ea_b2a5_e09d31fda4e8row2_col15\" class=\"data row2 col15\" >-0.013</td>\n",
       "                        <td id=\"T_2cb80524_dd66_11ea_b2a5_e09d31fda4e8row2_col16\" class=\"data row2 col16\" >-0.09</td>\n",
       "            </tr>\n",
       "            <tr>\n",
       "                        <th id=\"T_2cb80524_dd66_11ea_b2a5_e09d31fda4e8level0_row3\" class=\"row_heading level0 row3\" >total day minutes</th>\n",
       "                        <td id=\"T_2cb80524_dd66_11ea_b2a5_e09d31fda4e8row3_col0\" class=\"data row3 col0\" >0.0062</td>\n",
       "                        <td id=\"T_2cb80524_dd66_11ea_b2a5_e09d31fda4e8row3_col1\" class=\"data row3 col1\" >-0.0083</td>\n",
       "                        <td id=\"T_2cb80524_dd66_11ea_b2a5_e09d31fda4e8row3_col2\" class=\"data row3 col2\" >0.00078</td>\n",
       "                        <td id=\"T_2cb80524_dd66_11ea_b2a5_e09d31fda4e8row3_col3\" class=\"data row3 col3\" >1</td>\n",
       "                        <td id=\"T_2cb80524_dd66_11ea_b2a5_e09d31fda4e8row3_col4\" class=\"data row3 col4\" >0.0068</td>\n",
       "                        <td id=\"T_2cb80524_dd66_11ea_b2a5_e09d31fda4e8row3_col5\" class=\"data row3 col5\" >1</td>\n",
       "                        <td id=\"T_2cb80524_dd66_11ea_b2a5_e09d31fda4e8row3_col6\" class=\"data row3 col6\" >0.007</td>\n",
       "                        <td id=\"T_2cb80524_dd66_11ea_b2a5_e09d31fda4e8row3_col7\" class=\"data row3 col7\" >0.016</td>\n",
       "                        <td id=\"T_2cb80524_dd66_11ea_b2a5_e09d31fda4e8row3_col8\" class=\"data row3 col8\" >0.007</td>\n",
       "                        <td id=\"T_2cb80524_dd66_11ea_b2a5_e09d31fda4e8row3_col9\" class=\"data row3 col9\" >0.0043</td>\n",
       "                        <td id=\"T_2cb80524_dd66_11ea_b2a5_e09d31fda4e8row3_col10\" class=\"data row3 col10\" >0.023</td>\n",
       "                        <td id=\"T_2cb80524_dd66_11ea_b2a5_e09d31fda4e8row3_col11\" class=\"data row3 col11\" >0.0043</td>\n",
       "                        <td id=\"T_2cb80524_dd66_11ea_b2a5_e09d31fda4e8row3_col12\" class=\"data row3 col12\" >-0.01</td>\n",
       "                        <td id=\"T_2cb80524_dd66_11ea_b2a5_e09d31fda4e8row3_col13\" class=\"data row3 col13\" >0.008</td>\n",
       "                        <td id=\"T_2cb80524_dd66_11ea_b2a5_e09d31fda4e8row3_col14\" class=\"data row3 col14\" >-0.01</td>\n",
       "                        <td id=\"T_2cb80524_dd66_11ea_b2a5_e09d31fda4e8row3_col15\" class=\"data row3 col15\" >-0.013</td>\n",
       "                        <td id=\"T_2cb80524_dd66_11ea_b2a5_e09d31fda4e8row3_col16\" class=\"data row3 col16\" >0.21</td>\n",
       "            </tr>\n",
       "            <tr>\n",
       "                        <th id=\"T_2cb80524_dd66_11ea_b2a5_e09d31fda4e8level0_row4\" class=\"row_heading level0 row4\" >total day calls</th>\n",
       "                        <td id=\"T_2cb80524_dd66_11ea_b2a5_e09d31fda4e8row4_col0\" class=\"data row4 col0\" >0.038</td>\n",
       "                        <td id=\"T_2cb80524_dd66_11ea_b2a5_e09d31fda4e8row4_col1\" class=\"data row4 col1\" >-0.0096</td>\n",
       "                        <td id=\"T_2cb80524_dd66_11ea_b2a5_e09d31fda4e8row4_col2\" class=\"data row4 col2\" >-0.0095</td>\n",
       "                        <td id=\"T_2cb80524_dd66_11ea_b2a5_e09d31fda4e8row4_col3\" class=\"data row4 col3\" >0.0068</td>\n",
       "                        <td id=\"T_2cb80524_dd66_11ea_b2a5_e09d31fda4e8row4_col4\" class=\"data row4 col4\" >1</td>\n",
       "                        <td id=\"T_2cb80524_dd66_11ea_b2a5_e09d31fda4e8row4_col5\" class=\"data row4 col5\" >0.0068</td>\n",
       "                        <td id=\"T_2cb80524_dd66_11ea_b2a5_e09d31fda4e8row4_col6\" class=\"data row4 col6\" >-0.021</td>\n",
       "                        <td id=\"T_2cb80524_dd66_11ea_b2a5_e09d31fda4e8row4_col7\" class=\"data row4 col7\" >0.0065</td>\n",
       "                        <td id=\"T_2cb80524_dd66_11ea_b2a5_e09d31fda4e8row4_col8\" class=\"data row4 col8\" >-0.021</td>\n",
       "                        <td id=\"T_2cb80524_dd66_11ea_b2a5_e09d31fda4e8row4_col9\" class=\"data row4 col9\" >0.023</td>\n",
       "                        <td id=\"T_2cb80524_dd66_11ea_b2a5_e09d31fda4e8row4_col10\" class=\"data row4 col10\" >-0.02</td>\n",
       "                        <td id=\"T_2cb80524_dd66_11ea_b2a5_e09d31fda4e8row4_col11\" class=\"data row4 col11\" >0.023</td>\n",
       "                        <td id=\"T_2cb80524_dd66_11ea_b2a5_e09d31fda4e8row4_col12\" class=\"data row4 col12\" >0.022</td>\n",
       "                        <td id=\"T_2cb80524_dd66_11ea_b2a5_e09d31fda4e8row4_col13\" class=\"data row4 col13\" >0.0046</td>\n",
       "                        <td id=\"T_2cb80524_dd66_11ea_b2a5_e09d31fda4e8row4_col14\" class=\"data row4 col14\" >0.022</td>\n",
       "                        <td id=\"T_2cb80524_dd66_11ea_b2a5_e09d31fda4e8row4_col15\" class=\"data row4 col15\" >-0.019</td>\n",
       "                        <td id=\"T_2cb80524_dd66_11ea_b2a5_e09d31fda4e8row4_col16\" class=\"data row4 col16\" >0.018</td>\n",
       "            </tr>\n",
       "            <tr>\n",
       "                        <th id=\"T_2cb80524_dd66_11ea_b2a5_e09d31fda4e8level0_row5\" class=\"row_heading level0 row5\" >total day charge</th>\n",
       "                        <td id=\"T_2cb80524_dd66_11ea_b2a5_e09d31fda4e8row5_col0\" class=\"data row5 col0\" >0.0062</td>\n",
       "                        <td id=\"T_2cb80524_dd66_11ea_b2a5_e09d31fda4e8row5_col1\" class=\"data row5 col1\" >-0.0083</td>\n",
       "                        <td id=\"T_2cb80524_dd66_11ea_b2a5_e09d31fda4e8row5_col2\" class=\"data row5 col2\" >0.00078</td>\n",
       "                        <td id=\"T_2cb80524_dd66_11ea_b2a5_e09d31fda4e8row5_col3\" class=\"data row5 col3\" >1</td>\n",
       "                        <td id=\"T_2cb80524_dd66_11ea_b2a5_e09d31fda4e8row5_col4\" class=\"data row5 col4\" >0.0068</td>\n",
       "                        <td id=\"T_2cb80524_dd66_11ea_b2a5_e09d31fda4e8row5_col5\" class=\"data row5 col5\" >1</td>\n",
       "                        <td id=\"T_2cb80524_dd66_11ea_b2a5_e09d31fda4e8row5_col6\" class=\"data row5 col6\" >0.007</td>\n",
       "                        <td id=\"T_2cb80524_dd66_11ea_b2a5_e09d31fda4e8row5_col7\" class=\"data row5 col7\" >0.016</td>\n",
       "                        <td id=\"T_2cb80524_dd66_11ea_b2a5_e09d31fda4e8row5_col8\" class=\"data row5 col8\" >0.007</td>\n",
       "                        <td id=\"T_2cb80524_dd66_11ea_b2a5_e09d31fda4e8row5_col9\" class=\"data row5 col9\" >0.0043</td>\n",
       "                        <td id=\"T_2cb80524_dd66_11ea_b2a5_e09d31fda4e8row5_col10\" class=\"data row5 col10\" >0.023</td>\n",
       "                        <td id=\"T_2cb80524_dd66_11ea_b2a5_e09d31fda4e8row5_col11\" class=\"data row5 col11\" >0.0043</td>\n",
       "                        <td id=\"T_2cb80524_dd66_11ea_b2a5_e09d31fda4e8row5_col12\" class=\"data row5 col12\" >-0.01</td>\n",
       "                        <td id=\"T_2cb80524_dd66_11ea_b2a5_e09d31fda4e8row5_col13\" class=\"data row5 col13\" >0.008</td>\n",
       "                        <td id=\"T_2cb80524_dd66_11ea_b2a5_e09d31fda4e8row5_col14\" class=\"data row5 col14\" >-0.01</td>\n",
       "                        <td id=\"T_2cb80524_dd66_11ea_b2a5_e09d31fda4e8row5_col15\" class=\"data row5 col15\" >-0.013</td>\n",
       "                        <td id=\"T_2cb80524_dd66_11ea_b2a5_e09d31fda4e8row5_col16\" class=\"data row5 col16\" >0.21</td>\n",
       "            </tr>\n",
       "            <tr>\n",
       "                        <th id=\"T_2cb80524_dd66_11ea_b2a5_e09d31fda4e8level0_row6\" class=\"row_heading level0 row6\" >total eve minutes</th>\n",
       "                        <td id=\"T_2cb80524_dd66_11ea_b2a5_e09d31fda4e8row6_col0\" class=\"data row6 col0\" >-0.0068</td>\n",
       "                        <td id=\"T_2cb80524_dd66_11ea_b2a5_e09d31fda4e8row6_col1\" class=\"data row6 col1\" >0.0036</td>\n",
       "                        <td id=\"T_2cb80524_dd66_11ea_b2a5_e09d31fda4e8row6_col2\" class=\"data row6 col2\" >0.018</td>\n",
       "                        <td id=\"T_2cb80524_dd66_11ea_b2a5_e09d31fda4e8row6_col3\" class=\"data row6 col3\" >0.007</td>\n",
       "                        <td id=\"T_2cb80524_dd66_11ea_b2a5_e09d31fda4e8row6_col4\" class=\"data row6 col4\" >-0.021</td>\n",
       "                        <td id=\"T_2cb80524_dd66_11ea_b2a5_e09d31fda4e8row6_col5\" class=\"data row6 col5\" >0.007</td>\n",
       "                        <td id=\"T_2cb80524_dd66_11ea_b2a5_e09d31fda4e8row6_col6\" class=\"data row6 col6\" >1</td>\n",
       "                        <td id=\"T_2cb80524_dd66_11ea_b2a5_e09d31fda4e8row6_col7\" class=\"data row6 col7\" >-0.011</td>\n",
       "                        <td id=\"T_2cb80524_dd66_11ea_b2a5_e09d31fda4e8row6_col8\" class=\"data row6 col8\" >1</td>\n",
       "                        <td id=\"T_2cb80524_dd66_11ea_b2a5_e09d31fda4e8row6_col9\" class=\"data row6 col9\" >-0.013</td>\n",
       "                        <td id=\"T_2cb80524_dd66_11ea_b2a5_e09d31fda4e8row6_col10\" class=\"data row6 col10\" >0.0076</td>\n",
       "                        <td id=\"T_2cb80524_dd66_11ea_b2a5_e09d31fda4e8row6_col11\" class=\"data row6 col11\" >-0.013</td>\n",
       "                        <td id=\"T_2cb80524_dd66_11ea_b2a5_e09d31fda4e8row6_col12\" class=\"data row6 col12\" >-0.011</td>\n",
       "                        <td id=\"T_2cb80524_dd66_11ea_b2a5_e09d31fda4e8row6_col13\" class=\"data row6 col13\" >0.0025</td>\n",
       "                        <td id=\"T_2cb80524_dd66_11ea_b2a5_e09d31fda4e8row6_col14\" class=\"data row6 col14\" >-0.011</td>\n",
       "                        <td id=\"T_2cb80524_dd66_11ea_b2a5_e09d31fda4e8row6_col15\" class=\"data row6 col15\" >-0.013</td>\n",
       "                        <td id=\"T_2cb80524_dd66_11ea_b2a5_e09d31fda4e8row6_col16\" class=\"data row6 col16\" >0.093</td>\n",
       "            </tr>\n",
       "            <tr>\n",
       "                        <th id=\"T_2cb80524_dd66_11ea_b2a5_e09d31fda4e8level0_row7\" class=\"row_heading level0 row7\" >total eve calls</th>\n",
       "                        <td id=\"T_2cb80524_dd66_11ea_b2a5_e09d31fda4e8row7_col0\" class=\"data row7 col0\" >0.019</td>\n",
       "                        <td id=\"T_2cb80524_dd66_11ea_b2a5_e09d31fda4e8row7_col1\" class=\"data row7 col1\" >-0.012</td>\n",
       "                        <td id=\"T_2cb80524_dd66_11ea_b2a5_e09d31fda4e8row7_col2\" class=\"data row7 col2\" >-0.0059</td>\n",
       "                        <td id=\"T_2cb80524_dd66_11ea_b2a5_e09d31fda4e8row7_col3\" class=\"data row7 col3\" >0.016</td>\n",
       "                        <td id=\"T_2cb80524_dd66_11ea_b2a5_e09d31fda4e8row7_col4\" class=\"data row7 col4\" >0.0065</td>\n",
       "                        <td id=\"T_2cb80524_dd66_11ea_b2a5_e09d31fda4e8row7_col5\" class=\"data row7 col5\" >0.016</td>\n",
       "                        <td id=\"T_2cb80524_dd66_11ea_b2a5_e09d31fda4e8row7_col6\" class=\"data row7 col6\" >-0.011</td>\n",
       "                        <td id=\"T_2cb80524_dd66_11ea_b2a5_e09d31fda4e8row7_col7\" class=\"data row7 col7\" >1</td>\n",
       "                        <td id=\"T_2cb80524_dd66_11ea_b2a5_e09d31fda4e8row7_col8\" class=\"data row7 col8\" >-0.011</td>\n",
       "                        <td id=\"T_2cb80524_dd66_11ea_b2a5_e09d31fda4e8row7_col9\" class=\"data row7 col9\" >-0.0021</td>\n",
       "                        <td id=\"T_2cb80524_dd66_11ea_b2a5_e09d31fda4e8row7_col10\" class=\"data row7 col10\" >0.0077</td>\n",
       "                        <td id=\"T_2cb80524_dd66_11ea_b2a5_e09d31fda4e8row7_col11\" class=\"data row7 col11\" >-0.0021</td>\n",
       "                        <td id=\"T_2cb80524_dd66_11ea_b2a5_e09d31fda4e8row7_col12\" class=\"data row7 col12\" >0.0087</td>\n",
       "                        <td id=\"T_2cb80524_dd66_11ea_b2a5_e09d31fda4e8row7_col13\" class=\"data row7 col13\" >0.017</td>\n",
       "                        <td id=\"T_2cb80524_dd66_11ea_b2a5_e09d31fda4e8row7_col14\" class=\"data row7 col14\" >0.0087</td>\n",
       "                        <td id=\"T_2cb80524_dd66_11ea_b2a5_e09d31fda4e8row7_col15\" class=\"data row7 col15\" >0.0024</td>\n",
       "                        <td id=\"T_2cb80524_dd66_11ea_b2a5_e09d31fda4e8row7_col16\" class=\"data row7 col16\" >0.0092</td>\n",
       "            </tr>\n",
       "            <tr>\n",
       "                        <th id=\"T_2cb80524_dd66_11ea_b2a5_e09d31fda4e8level0_row8\" class=\"row_heading level0 row8\" >total eve charge</th>\n",
       "                        <td id=\"T_2cb80524_dd66_11ea_b2a5_e09d31fda4e8row8_col0\" class=\"data row8 col0\" >-0.0067</td>\n",
       "                        <td id=\"T_2cb80524_dd66_11ea_b2a5_e09d31fda4e8row8_col1\" class=\"data row8 col1\" >0.0036</td>\n",
       "                        <td id=\"T_2cb80524_dd66_11ea_b2a5_e09d31fda4e8row8_col2\" class=\"data row8 col2\" >0.018</td>\n",
       "                        <td id=\"T_2cb80524_dd66_11ea_b2a5_e09d31fda4e8row8_col3\" class=\"data row8 col3\" >0.007</td>\n",
       "                        <td id=\"T_2cb80524_dd66_11ea_b2a5_e09d31fda4e8row8_col4\" class=\"data row8 col4\" >-0.021</td>\n",
       "                        <td id=\"T_2cb80524_dd66_11ea_b2a5_e09d31fda4e8row8_col5\" class=\"data row8 col5\" >0.007</td>\n",
       "                        <td id=\"T_2cb80524_dd66_11ea_b2a5_e09d31fda4e8row8_col6\" class=\"data row8 col6\" >1</td>\n",
       "                        <td id=\"T_2cb80524_dd66_11ea_b2a5_e09d31fda4e8row8_col7\" class=\"data row8 col7\" >-0.011</td>\n",
       "                        <td id=\"T_2cb80524_dd66_11ea_b2a5_e09d31fda4e8row8_col8\" class=\"data row8 col8\" >1</td>\n",
       "                        <td id=\"T_2cb80524_dd66_11ea_b2a5_e09d31fda4e8row8_col9\" class=\"data row8 col9\" >-0.013</td>\n",
       "                        <td id=\"T_2cb80524_dd66_11ea_b2a5_e09d31fda4e8row8_col10\" class=\"data row8 col10\" >0.0076</td>\n",
       "                        <td id=\"T_2cb80524_dd66_11ea_b2a5_e09d31fda4e8row8_col11\" class=\"data row8 col11\" >-0.013</td>\n",
       "                        <td id=\"T_2cb80524_dd66_11ea_b2a5_e09d31fda4e8row8_col12\" class=\"data row8 col12\" >-0.011</td>\n",
       "                        <td id=\"T_2cb80524_dd66_11ea_b2a5_e09d31fda4e8row8_col13\" class=\"data row8 col13\" >0.0025</td>\n",
       "                        <td id=\"T_2cb80524_dd66_11ea_b2a5_e09d31fda4e8row8_col14\" class=\"data row8 col14\" >-0.011</td>\n",
       "                        <td id=\"T_2cb80524_dd66_11ea_b2a5_e09d31fda4e8row8_col15\" class=\"data row8 col15\" >-0.013</td>\n",
       "                        <td id=\"T_2cb80524_dd66_11ea_b2a5_e09d31fda4e8row8_col16\" class=\"data row8 col16\" >0.093</td>\n",
       "            </tr>\n",
       "            <tr>\n",
       "                        <th id=\"T_2cb80524_dd66_11ea_b2a5_e09d31fda4e8level0_row9\" class=\"row_heading level0 row9\" >total night minutes</th>\n",
       "                        <td id=\"T_2cb80524_dd66_11ea_b2a5_e09d31fda4e8row9_col0\" class=\"data row9 col0\" >-0.009</td>\n",
       "                        <td id=\"T_2cb80524_dd66_11ea_b2a5_e09d31fda4e8row9_col1\" class=\"data row9 col1\" >-0.0058</td>\n",
       "                        <td id=\"T_2cb80524_dd66_11ea_b2a5_e09d31fda4e8row9_col2\" class=\"data row9 col2\" >0.0077</td>\n",
       "                        <td id=\"T_2cb80524_dd66_11ea_b2a5_e09d31fda4e8row9_col3\" class=\"data row9 col3\" >0.0043</td>\n",
       "                        <td id=\"T_2cb80524_dd66_11ea_b2a5_e09d31fda4e8row9_col4\" class=\"data row9 col4\" >0.023</td>\n",
       "                        <td id=\"T_2cb80524_dd66_11ea_b2a5_e09d31fda4e8row9_col5\" class=\"data row9 col5\" >0.0043</td>\n",
       "                        <td id=\"T_2cb80524_dd66_11ea_b2a5_e09d31fda4e8row9_col6\" class=\"data row9 col6\" >-0.013</td>\n",
       "                        <td id=\"T_2cb80524_dd66_11ea_b2a5_e09d31fda4e8row9_col7\" class=\"data row9 col7\" >-0.0021</td>\n",
       "                        <td id=\"T_2cb80524_dd66_11ea_b2a5_e09d31fda4e8row9_col8\" class=\"data row9 col8\" >-0.013</td>\n",
       "                        <td id=\"T_2cb80524_dd66_11ea_b2a5_e09d31fda4e8row9_col9\" class=\"data row9 col9\" >1</td>\n",
       "                        <td id=\"T_2cb80524_dd66_11ea_b2a5_e09d31fda4e8row9_col10\" class=\"data row9 col10\" >0.011</td>\n",
       "                        <td id=\"T_2cb80524_dd66_11ea_b2a5_e09d31fda4e8row9_col11\" class=\"data row9 col11\" >1</td>\n",
       "                        <td id=\"T_2cb80524_dd66_11ea_b2a5_e09d31fda4e8row9_col12\" class=\"data row9 col12\" >-0.015</td>\n",
       "                        <td id=\"T_2cb80524_dd66_11ea_b2a5_e09d31fda4e8row9_col13\" class=\"data row9 col13\" >-0.012</td>\n",
       "                        <td id=\"T_2cb80524_dd66_11ea_b2a5_e09d31fda4e8row9_col14\" class=\"data row9 col14\" >-0.015</td>\n",
       "                        <td id=\"T_2cb80524_dd66_11ea_b2a5_e09d31fda4e8row9_col15\" class=\"data row9 col15\" >-0.0093</td>\n",
       "                        <td id=\"T_2cb80524_dd66_11ea_b2a5_e09d31fda4e8row9_col16\" class=\"data row9 col16\" >0.035</td>\n",
       "            </tr>\n",
       "            <tr>\n",
       "                        <th id=\"T_2cb80524_dd66_11ea_b2a5_e09d31fda4e8level0_row10\" class=\"row_heading level0 row10\" >total night calls</th>\n",
       "                        <td id=\"T_2cb80524_dd66_11ea_b2a5_e09d31fda4e8row10_col0\" class=\"data row10 col0\" >-0.013</td>\n",
       "                        <td id=\"T_2cb80524_dd66_11ea_b2a5_e09d31fda4e8row10_col1\" class=\"data row10 col1\" >0.017</td>\n",
       "                        <td id=\"T_2cb80524_dd66_11ea_b2a5_e09d31fda4e8row10_col2\" class=\"data row10 col2\" >0.0071</td>\n",
       "                        <td id=\"T_2cb80524_dd66_11ea_b2a5_e09d31fda4e8row10_col3\" class=\"data row10 col3\" >0.023</td>\n",
       "                        <td id=\"T_2cb80524_dd66_11ea_b2a5_e09d31fda4e8row10_col4\" class=\"data row10 col4\" >-0.02</td>\n",
       "                        <td id=\"T_2cb80524_dd66_11ea_b2a5_e09d31fda4e8row10_col5\" class=\"data row10 col5\" >0.023</td>\n",
       "                        <td id=\"T_2cb80524_dd66_11ea_b2a5_e09d31fda4e8row10_col6\" class=\"data row10 col6\" >0.0076</td>\n",
       "                        <td id=\"T_2cb80524_dd66_11ea_b2a5_e09d31fda4e8row10_col7\" class=\"data row10 col7\" >0.0077</td>\n",
       "                        <td id=\"T_2cb80524_dd66_11ea_b2a5_e09d31fda4e8row10_col8\" class=\"data row10 col8\" >0.0076</td>\n",
       "                        <td id=\"T_2cb80524_dd66_11ea_b2a5_e09d31fda4e8row10_col9\" class=\"data row10 col9\" >0.011</td>\n",
       "                        <td id=\"T_2cb80524_dd66_11ea_b2a5_e09d31fda4e8row10_col10\" class=\"data row10 col10\" >1</td>\n",
       "                        <td id=\"T_2cb80524_dd66_11ea_b2a5_e09d31fda4e8row10_col11\" class=\"data row10 col11\" >0.011</td>\n",
       "                        <td id=\"T_2cb80524_dd66_11ea_b2a5_e09d31fda4e8row10_col12\" class=\"data row10 col12\" >-0.014</td>\n",
       "                        <td id=\"T_2cb80524_dd66_11ea_b2a5_e09d31fda4e8row10_col13\" class=\"data row10 col13\" >0.0003</td>\n",
       "                        <td id=\"T_2cb80524_dd66_11ea_b2a5_e09d31fda4e8row10_col14\" class=\"data row10 col14\" >-0.014</td>\n",
       "                        <td id=\"T_2cb80524_dd66_11ea_b2a5_e09d31fda4e8row10_col15\" class=\"data row10 col15\" >-0.013</td>\n",
       "                        <td id=\"T_2cb80524_dd66_11ea_b2a5_e09d31fda4e8row10_col16\" class=\"data row10 col16\" >0.0061</td>\n",
       "            </tr>\n",
       "            <tr>\n",
       "                        <th id=\"T_2cb80524_dd66_11ea_b2a5_e09d31fda4e8level0_row11\" class=\"row_heading level0 row11\" >total night charge</th>\n",
       "                        <td id=\"T_2cb80524_dd66_11ea_b2a5_e09d31fda4e8row11_col0\" class=\"data row11 col0\" >-0.009</td>\n",
       "                        <td id=\"T_2cb80524_dd66_11ea_b2a5_e09d31fda4e8row11_col1\" class=\"data row11 col1\" >-0.0058</td>\n",
       "                        <td id=\"T_2cb80524_dd66_11ea_b2a5_e09d31fda4e8row11_col2\" class=\"data row11 col2\" >0.0077</td>\n",
       "                        <td id=\"T_2cb80524_dd66_11ea_b2a5_e09d31fda4e8row11_col3\" class=\"data row11 col3\" >0.0043</td>\n",
       "                        <td id=\"T_2cb80524_dd66_11ea_b2a5_e09d31fda4e8row11_col4\" class=\"data row11 col4\" >0.023</td>\n",
       "                        <td id=\"T_2cb80524_dd66_11ea_b2a5_e09d31fda4e8row11_col5\" class=\"data row11 col5\" >0.0043</td>\n",
       "                        <td id=\"T_2cb80524_dd66_11ea_b2a5_e09d31fda4e8row11_col6\" class=\"data row11 col6\" >-0.013</td>\n",
       "                        <td id=\"T_2cb80524_dd66_11ea_b2a5_e09d31fda4e8row11_col7\" class=\"data row11 col7\" >-0.0021</td>\n",
       "                        <td id=\"T_2cb80524_dd66_11ea_b2a5_e09d31fda4e8row11_col8\" class=\"data row11 col8\" >-0.013</td>\n",
       "                        <td id=\"T_2cb80524_dd66_11ea_b2a5_e09d31fda4e8row11_col9\" class=\"data row11 col9\" >1</td>\n",
       "                        <td id=\"T_2cb80524_dd66_11ea_b2a5_e09d31fda4e8row11_col10\" class=\"data row11 col10\" >0.011</td>\n",
       "                        <td id=\"T_2cb80524_dd66_11ea_b2a5_e09d31fda4e8row11_col11\" class=\"data row11 col11\" >1</td>\n",
       "                        <td id=\"T_2cb80524_dd66_11ea_b2a5_e09d31fda4e8row11_col12\" class=\"data row11 col12\" >-0.015</td>\n",
       "                        <td id=\"T_2cb80524_dd66_11ea_b2a5_e09d31fda4e8row11_col13\" class=\"data row11 col13\" >-0.012</td>\n",
       "                        <td id=\"T_2cb80524_dd66_11ea_b2a5_e09d31fda4e8row11_col14\" class=\"data row11 col14\" >-0.015</td>\n",
       "                        <td id=\"T_2cb80524_dd66_11ea_b2a5_e09d31fda4e8row11_col15\" class=\"data row11 col15\" >-0.0093</td>\n",
       "                        <td id=\"T_2cb80524_dd66_11ea_b2a5_e09d31fda4e8row11_col16\" class=\"data row11 col16\" >0.035</td>\n",
       "            </tr>\n",
       "            <tr>\n",
       "                        <th id=\"T_2cb80524_dd66_11ea_b2a5_e09d31fda4e8level0_row12\" class=\"row_heading level0 row12\" >total intl minutes</th>\n",
       "                        <td id=\"T_2cb80524_dd66_11ea_b2a5_e09d31fda4e8row12_col0\" class=\"data row12 col0\" >0.0095</td>\n",
       "                        <td id=\"T_2cb80524_dd66_11ea_b2a5_e09d31fda4e8row12_col1\" class=\"data row12 col1\" >-0.018</td>\n",
       "                        <td id=\"T_2cb80524_dd66_11ea_b2a5_e09d31fda4e8row12_col2\" class=\"data row12 col2\" >0.0029</td>\n",
       "                        <td id=\"T_2cb80524_dd66_11ea_b2a5_e09d31fda4e8row12_col3\" class=\"data row12 col3\" >-0.01</td>\n",
       "                        <td id=\"T_2cb80524_dd66_11ea_b2a5_e09d31fda4e8row12_col4\" class=\"data row12 col4\" >0.022</td>\n",
       "                        <td id=\"T_2cb80524_dd66_11ea_b2a5_e09d31fda4e8row12_col5\" class=\"data row12 col5\" >-0.01</td>\n",
       "                        <td id=\"T_2cb80524_dd66_11ea_b2a5_e09d31fda4e8row12_col6\" class=\"data row12 col6\" >-0.011</td>\n",
       "                        <td id=\"T_2cb80524_dd66_11ea_b2a5_e09d31fda4e8row12_col7\" class=\"data row12 col7\" >0.0087</td>\n",
       "                        <td id=\"T_2cb80524_dd66_11ea_b2a5_e09d31fda4e8row12_col8\" class=\"data row12 col8\" >-0.011</td>\n",
       "                        <td id=\"T_2cb80524_dd66_11ea_b2a5_e09d31fda4e8row12_col9\" class=\"data row12 col9\" >-0.015</td>\n",
       "                        <td id=\"T_2cb80524_dd66_11ea_b2a5_e09d31fda4e8row12_col10\" class=\"data row12 col10\" >-0.014</td>\n",
       "                        <td id=\"T_2cb80524_dd66_11ea_b2a5_e09d31fda4e8row12_col11\" class=\"data row12 col11\" >-0.015</td>\n",
       "                        <td id=\"T_2cb80524_dd66_11ea_b2a5_e09d31fda4e8row12_col12\" class=\"data row12 col12\" >1</td>\n",
       "                        <td id=\"T_2cb80524_dd66_11ea_b2a5_e09d31fda4e8row12_col13\" class=\"data row12 col13\" >0.032</td>\n",
       "                        <td id=\"T_2cb80524_dd66_11ea_b2a5_e09d31fda4e8row12_col14\" class=\"data row12 col14\" >1</td>\n",
       "                        <td id=\"T_2cb80524_dd66_11ea_b2a5_e09d31fda4e8row12_col15\" class=\"data row12 col15\" >-0.0096</td>\n",
       "                        <td id=\"T_2cb80524_dd66_11ea_b2a5_e09d31fda4e8row12_col16\" class=\"data row12 col16\" >0.068</td>\n",
       "            </tr>\n",
       "            <tr>\n",
       "                        <th id=\"T_2cb80524_dd66_11ea_b2a5_e09d31fda4e8level0_row13\" class=\"row_heading level0 row13\" >total intl calls</th>\n",
       "                        <td id=\"T_2cb80524_dd66_11ea_b2a5_e09d31fda4e8row13_col0\" class=\"data row13 col0\" >0.021</td>\n",
       "                        <td id=\"T_2cb80524_dd66_11ea_b2a5_e09d31fda4e8row13_col1\" class=\"data row13 col1\" >-0.024</td>\n",
       "                        <td id=\"T_2cb80524_dd66_11ea_b2a5_e09d31fda4e8row13_col2\" class=\"data row13 col2\" >0.014</td>\n",
       "                        <td id=\"T_2cb80524_dd66_11ea_b2a5_e09d31fda4e8row13_col3\" class=\"data row13 col3\" >0.008</td>\n",
       "                        <td id=\"T_2cb80524_dd66_11ea_b2a5_e09d31fda4e8row13_col4\" class=\"data row13 col4\" >0.0046</td>\n",
       "                        <td id=\"T_2cb80524_dd66_11ea_b2a5_e09d31fda4e8row13_col5\" class=\"data row13 col5\" >0.008</td>\n",
       "                        <td id=\"T_2cb80524_dd66_11ea_b2a5_e09d31fda4e8row13_col6\" class=\"data row13 col6\" >0.0025</td>\n",
       "                        <td id=\"T_2cb80524_dd66_11ea_b2a5_e09d31fda4e8row13_col7\" class=\"data row13 col7\" >0.017</td>\n",
       "                        <td id=\"T_2cb80524_dd66_11ea_b2a5_e09d31fda4e8row13_col8\" class=\"data row13 col8\" >0.0025</td>\n",
       "                        <td id=\"T_2cb80524_dd66_11ea_b2a5_e09d31fda4e8row13_col9\" class=\"data row13 col9\" >-0.012</td>\n",
       "                        <td id=\"T_2cb80524_dd66_11ea_b2a5_e09d31fda4e8row13_col10\" class=\"data row13 col10\" >0.0003</td>\n",
       "                        <td id=\"T_2cb80524_dd66_11ea_b2a5_e09d31fda4e8row13_col11\" class=\"data row13 col11\" >-0.012</td>\n",
       "                        <td id=\"T_2cb80524_dd66_11ea_b2a5_e09d31fda4e8row13_col12\" class=\"data row13 col12\" >0.032</td>\n",
       "                        <td id=\"T_2cb80524_dd66_11ea_b2a5_e09d31fda4e8row13_col13\" class=\"data row13 col13\" >1</td>\n",
       "                        <td id=\"T_2cb80524_dd66_11ea_b2a5_e09d31fda4e8row13_col14\" class=\"data row13 col14\" >0.032</td>\n",
       "                        <td id=\"T_2cb80524_dd66_11ea_b2a5_e09d31fda4e8row13_col15\" class=\"data row13 col15\" >-0.018</td>\n",
       "                        <td id=\"T_2cb80524_dd66_11ea_b2a5_e09d31fda4e8row13_col16\" class=\"data row13 col16\" >-0.053</td>\n",
       "            </tr>\n",
       "            <tr>\n",
       "                        <th id=\"T_2cb80524_dd66_11ea_b2a5_e09d31fda4e8level0_row14\" class=\"row_heading level0 row14\" >total intl charge</th>\n",
       "                        <td id=\"T_2cb80524_dd66_11ea_b2a5_e09d31fda4e8row14_col0\" class=\"data row14 col0\" >0.0095</td>\n",
       "                        <td id=\"T_2cb80524_dd66_11ea_b2a5_e09d31fda4e8row14_col1\" class=\"data row14 col1\" >-0.018</td>\n",
       "                        <td id=\"T_2cb80524_dd66_11ea_b2a5_e09d31fda4e8row14_col2\" class=\"data row14 col2\" >0.0029</td>\n",
       "                        <td id=\"T_2cb80524_dd66_11ea_b2a5_e09d31fda4e8row14_col3\" class=\"data row14 col3\" >-0.01</td>\n",
       "                        <td id=\"T_2cb80524_dd66_11ea_b2a5_e09d31fda4e8row14_col4\" class=\"data row14 col4\" >0.022</td>\n",
       "                        <td id=\"T_2cb80524_dd66_11ea_b2a5_e09d31fda4e8row14_col5\" class=\"data row14 col5\" >-0.01</td>\n",
       "                        <td id=\"T_2cb80524_dd66_11ea_b2a5_e09d31fda4e8row14_col6\" class=\"data row14 col6\" >-0.011</td>\n",
       "                        <td id=\"T_2cb80524_dd66_11ea_b2a5_e09d31fda4e8row14_col7\" class=\"data row14 col7\" >0.0087</td>\n",
       "                        <td id=\"T_2cb80524_dd66_11ea_b2a5_e09d31fda4e8row14_col8\" class=\"data row14 col8\" >-0.011</td>\n",
       "                        <td id=\"T_2cb80524_dd66_11ea_b2a5_e09d31fda4e8row14_col9\" class=\"data row14 col9\" >-0.015</td>\n",
       "                        <td id=\"T_2cb80524_dd66_11ea_b2a5_e09d31fda4e8row14_col10\" class=\"data row14 col10\" >-0.014</td>\n",
       "                        <td id=\"T_2cb80524_dd66_11ea_b2a5_e09d31fda4e8row14_col11\" class=\"data row14 col11\" >-0.015</td>\n",
       "                        <td id=\"T_2cb80524_dd66_11ea_b2a5_e09d31fda4e8row14_col12\" class=\"data row14 col12\" >1</td>\n",
       "                        <td id=\"T_2cb80524_dd66_11ea_b2a5_e09d31fda4e8row14_col13\" class=\"data row14 col13\" >0.032</td>\n",
       "                        <td id=\"T_2cb80524_dd66_11ea_b2a5_e09d31fda4e8row14_col14\" class=\"data row14 col14\" >1</td>\n",
       "                        <td id=\"T_2cb80524_dd66_11ea_b2a5_e09d31fda4e8row14_col15\" class=\"data row14 col15\" >-0.0097</td>\n",
       "                        <td id=\"T_2cb80524_dd66_11ea_b2a5_e09d31fda4e8row14_col16\" class=\"data row14 col16\" >0.068</td>\n",
       "            </tr>\n",
       "            <tr>\n",
       "                        <th id=\"T_2cb80524_dd66_11ea_b2a5_e09d31fda4e8level0_row15\" class=\"row_heading level0 row15\" >customer service calls</th>\n",
       "                        <td id=\"T_2cb80524_dd66_11ea_b2a5_e09d31fda4e8row15_col0\" class=\"data row15 col0\" >-0.0038</td>\n",
       "                        <td id=\"T_2cb80524_dd66_11ea_b2a5_e09d31fda4e8row15_col1\" class=\"data row15 col1\" >0.028</td>\n",
       "                        <td id=\"T_2cb80524_dd66_11ea_b2a5_e09d31fda4e8row15_col2\" class=\"data row15 col2\" >-0.013</td>\n",
       "                        <td id=\"T_2cb80524_dd66_11ea_b2a5_e09d31fda4e8row15_col3\" class=\"data row15 col3\" >-0.013</td>\n",
       "                        <td id=\"T_2cb80524_dd66_11ea_b2a5_e09d31fda4e8row15_col4\" class=\"data row15 col4\" >-0.019</td>\n",
       "                        <td id=\"T_2cb80524_dd66_11ea_b2a5_e09d31fda4e8row15_col5\" class=\"data row15 col5\" >-0.013</td>\n",
       "                        <td id=\"T_2cb80524_dd66_11ea_b2a5_e09d31fda4e8row15_col6\" class=\"data row15 col6\" >-0.013</td>\n",
       "                        <td id=\"T_2cb80524_dd66_11ea_b2a5_e09d31fda4e8row15_col7\" class=\"data row15 col7\" >0.0024</td>\n",
       "                        <td id=\"T_2cb80524_dd66_11ea_b2a5_e09d31fda4e8row15_col8\" class=\"data row15 col8\" >-0.013</td>\n",
       "                        <td id=\"T_2cb80524_dd66_11ea_b2a5_e09d31fda4e8row15_col9\" class=\"data row15 col9\" >-0.0093</td>\n",
       "                        <td id=\"T_2cb80524_dd66_11ea_b2a5_e09d31fda4e8row15_col10\" class=\"data row15 col10\" >-0.013</td>\n",
       "                        <td id=\"T_2cb80524_dd66_11ea_b2a5_e09d31fda4e8row15_col11\" class=\"data row15 col11\" >-0.0093</td>\n",
       "                        <td id=\"T_2cb80524_dd66_11ea_b2a5_e09d31fda4e8row15_col12\" class=\"data row15 col12\" >-0.0096</td>\n",
       "                        <td id=\"T_2cb80524_dd66_11ea_b2a5_e09d31fda4e8row15_col13\" class=\"data row15 col13\" >-0.018</td>\n",
       "                        <td id=\"T_2cb80524_dd66_11ea_b2a5_e09d31fda4e8row15_col14\" class=\"data row15 col14\" >-0.0097</td>\n",
       "                        <td id=\"T_2cb80524_dd66_11ea_b2a5_e09d31fda4e8row15_col15\" class=\"data row15 col15\" >1</td>\n",
       "                        <td id=\"T_2cb80524_dd66_11ea_b2a5_e09d31fda4e8row15_col16\" class=\"data row15 col16\" >0.21</td>\n",
       "            </tr>\n",
       "            <tr>\n",
       "                        <th id=\"T_2cb80524_dd66_11ea_b2a5_e09d31fda4e8level0_row16\" class=\"row_heading level0 row16\" >churn</th>\n",
       "                        <td id=\"T_2cb80524_dd66_11ea_b2a5_e09d31fda4e8row16_col0\" class=\"data row16 col0\" >0.017</td>\n",
       "                        <td id=\"T_2cb80524_dd66_11ea_b2a5_e09d31fda4e8row16_col1\" class=\"data row16 col1\" >0.0062</td>\n",
       "                        <td id=\"T_2cb80524_dd66_11ea_b2a5_e09d31fda4e8row16_col2\" class=\"data row16 col2\" >-0.09</td>\n",
       "                        <td id=\"T_2cb80524_dd66_11ea_b2a5_e09d31fda4e8row16_col3\" class=\"data row16 col3\" >0.21</td>\n",
       "                        <td id=\"T_2cb80524_dd66_11ea_b2a5_e09d31fda4e8row16_col4\" class=\"data row16 col4\" >0.018</td>\n",
       "                        <td id=\"T_2cb80524_dd66_11ea_b2a5_e09d31fda4e8row16_col5\" class=\"data row16 col5\" >0.21</td>\n",
       "                        <td id=\"T_2cb80524_dd66_11ea_b2a5_e09d31fda4e8row16_col6\" class=\"data row16 col6\" >0.093</td>\n",
       "                        <td id=\"T_2cb80524_dd66_11ea_b2a5_e09d31fda4e8row16_col7\" class=\"data row16 col7\" >0.0092</td>\n",
       "                        <td id=\"T_2cb80524_dd66_11ea_b2a5_e09d31fda4e8row16_col8\" class=\"data row16 col8\" >0.093</td>\n",
       "                        <td id=\"T_2cb80524_dd66_11ea_b2a5_e09d31fda4e8row16_col9\" class=\"data row16 col9\" >0.035</td>\n",
       "                        <td id=\"T_2cb80524_dd66_11ea_b2a5_e09d31fda4e8row16_col10\" class=\"data row16 col10\" >0.0061</td>\n",
       "                        <td id=\"T_2cb80524_dd66_11ea_b2a5_e09d31fda4e8row16_col11\" class=\"data row16 col11\" >0.035</td>\n",
       "                        <td id=\"T_2cb80524_dd66_11ea_b2a5_e09d31fda4e8row16_col12\" class=\"data row16 col12\" >0.068</td>\n",
       "                        <td id=\"T_2cb80524_dd66_11ea_b2a5_e09d31fda4e8row16_col13\" class=\"data row16 col13\" >-0.053</td>\n",
       "                        <td id=\"T_2cb80524_dd66_11ea_b2a5_e09d31fda4e8row16_col14\" class=\"data row16 col14\" >0.068</td>\n",
       "                        <td id=\"T_2cb80524_dd66_11ea_b2a5_e09d31fda4e8row16_col15\" class=\"data row16 col15\" >0.21</td>\n",
       "                        <td id=\"T_2cb80524_dd66_11ea_b2a5_e09d31fda4e8row16_col16\" class=\"data row16 col16\" >1</td>\n",
       "            </tr>\n",
       "    </tbody></table>"
      ],
      "text/plain": [
       "<pandas.io.formats.style.Styler at 0x1d3cebabac8>"
      ]
     },
     "execution_count": 23,
     "metadata": {},
     "output_type": "execute_result"
    }
   ],
   "source": [
    "rs = np.random.RandomState(0)\n",
    "df = pd.DataFrame(rs.rand(10, 10))\n",
    "corr = data.corr()\n",
    "corr.style.background_gradient(cmap='coolwarm').set_precision(2)\n"
   ]
  },
  {
   "cell_type": "markdown",
   "metadata": {},
   "source": [
    "### ENCODING CATEGORICAL DATA"
   ]
  },
  {
   "cell_type": "markdown",
   "metadata": {},
   "source": [
    "A categorical variable is a variable whose values take on the value of labels. ... Machine learning algorithms and deep learning neural networks require that input and output variables are numbers. This means that categorical data must be encoded to numbers before we can use it to fit and evaluate a model."
   ]
  },
  {
   "cell_type": "code",
   "execution_count": 24,
   "metadata": {},
   "outputs": [],
   "source": [
    "# Discreet value integer encoder\n",
    "from sklearn.preprocessing import LabelEncoder\n",
    "label_encoder =LabelEncoder()\n",
    "data['state'] = label_encoder.fit_transform(data['state'])\n",
    "data['international plan'] = label_encoder.fit_transform(data['international plan'])\n",
    "data['voice mail plan'] = label_encoder.fit_transform(data['voice mail plan'])\n",
    "data['churn']=label_encoder.fit_transform(data['churn'])"
   ]
  },
  {
   "cell_type": "markdown",
   "metadata": {},
   "source": [
    "checking the data type of the features and confirming encoding has been done correctly"
   ]
  },
  {
   "cell_type": "code",
   "execution_count": 25,
   "metadata": {},
   "outputs": [
    {
     "data": {
      "text/plain": [
       "state                       int32\n",
       "account length              int64\n",
       "area code                   int64\n",
       "phone number               object\n",
       "international plan          int32\n",
       "voice mail plan             int32\n",
       "number vmail messages       int64\n",
       "total day minutes         float64\n",
       "total day calls             int64\n",
       "total day charge          float64\n",
       "total eve minutes         float64\n",
       "total eve calls             int64\n",
       "total eve charge          float64\n",
       "total night minutes       float64\n",
       "total night calls           int64\n",
       "total night charge        float64\n",
       "total intl minutes        float64\n",
       "total intl calls            int64\n",
       "total intl charge         float64\n",
       "customer service calls      int64\n",
       "churn                       int64\n",
       "dtype: object"
      ]
     },
     "execution_count": 25,
     "metadata": {},
     "output_type": "execute_result"
    }
   ],
   "source": [
    "data.dtypes"
   ]
  },
  {
   "cell_type": "markdown",
   "metadata": {},
   "source": [
    "The phone number feature is dropped as it is not necessary for the prediction of the churn"
   ]
  },
  {
   "cell_type": "code",
   "execution_count": 26,
   "metadata": {},
   "outputs": [],
   "source": [
    "data.drop([\"phone number\"], axis = 1, inplace=True)"
   ]
  },
  {
   "cell_type": "code",
   "execution_count": 27,
   "metadata": {},
   "outputs": [
    {
     "data": {
      "text/html": [
       "<div>\n",
       "<style scoped>\n",
       "    .dataframe tbody tr th:only-of-type {\n",
       "        vertical-align: middle;\n",
       "    }\n",
       "\n",
       "    .dataframe tbody tr th {\n",
       "        vertical-align: top;\n",
       "    }\n",
       "\n",
       "    .dataframe thead th {\n",
       "        text-align: right;\n",
       "    }\n",
       "</style>\n",
       "<table border=\"1\" class=\"dataframe\">\n",
       "  <thead>\n",
       "    <tr style=\"text-align: right;\">\n",
       "      <th></th>\n",
       "      <th>state</th>\n",
       "      <th>account length</th>\n",
       "      <th>area code</th>\n",
       "      <th>international plan</th>\n",
       "      <th>voice mail plan</th>\n",
       "      <th>number vmail messages</th>\n",
       "      <th>total day minutes</th>\n",
       "      <th>total day calls</th>\n",
       "      <th>total day charge</th>\n",
       "      <th>total eve minutes</th>\n",
       "      <th>total eve calls</th>\n",
       "      <th>total eve charge</th>\n",
       "      <th>total night minutes</th>\n",
       "      <th>total night calls</th>\n",
       "      <th>total night charge</th>\n",
       "      <th>total intl minutes</th>\n",
       "      <th>total intl calls</th>\n",
       "      <th>total intl charge</th>\n",
       "      <th>customer service calls</th>\n",
       "      <th>churn</th>\n",
       "    </tr>\n",
       "  </thead>\n",
       "  <tbody>\n",
       "    <tr>\n",
       "      <td>0</td>\n",
       "      <td>16</td>\n",
       "      <td>128</td>\n",
       "      <td>415</td>\n",
       "      <td>0</td>\n",
       "      <td>1</td>\n",
       "      <td>25</td>\n",
       "      <td>265.1</td>\n",
       "      <td>110</td>\n",
       "      <td>45.07</td>\n",
       "      <td>197.4</td>\n",
       "      <td>99</td>\n",
       "      <td>16.78</td>\n",
       "      <td>244.7</td>\n",
       "      <td>91</td>\n",
       "      <td>11.01</td>\n",
       "      <td>10.0</td>\n",
       "      <td>3</td>\n",
       "      <td>2.70</td>\n",
       "      <td>1</td>\n",
       "      <td>0</td>\n",
       "    </tr>\n",
       "    <tr>\n",
       "      <td>1</td>\n",
       "      <td>35</td>\n",
       "      <td>107</td>\n",
       "      <td>415</td>\n",
       "      <td>0</td>\n",
       "      <td>1</td>\n",
       "      <td>26</td>\n",
       "      <td>161.6</td>\n",
       "      <td>123</td>\n",
       "      <td>27.47</td>\n",
       "      <td>195.5</td>\n",
       "      <td>103</td>\n",
       "      <td>16.62</td>\n",
       "      <td>254.4</td>\n",
       "      <td>103</td>\n",
       "      <td>11.45</td>\n",
       "      <td>13.7</td>\n",
       "      <td>3</td>\n",
       "      <td>3.70</td>\n",
       "      <td>1</td>\n",
       "      <td>0</td>\n",
       "    </tr>\n",
       "    <tr>\n",
       "      <td>2</td>\n",
       "      <td>31</td>\n",
       "      <td>137</td>\n",
       "      <td>415</td>\n",
       "      <td>0</td>\n",
       "      <td>0</td>\n",
       "      <td>0</td>\n",
       "      <td>243.4</td>\n",
       "      <td>114</td>\n",
       "      <td>41.38</td>\n",
       "      <td>121.2</td>\n",
       "      <td>110</td>\n",
       "      <td>10.30</td>\n",
       "      <td>162.6</td>\n",
       "      <td>104</td>\n",
       "      <td>7.32</td>\n",
       "      <td>12.2</td>\n",
       "      <td>5</td>\n",
       "      <td>3.29</td>\n",
       "      <td>0</td>\n",
       "      <td>0</td>\n",
       "    </tr>\n",
       "    <tr>\n",
       "      <td>3</td>\n",
       "      <td>35</td>\n",
       "      <td>84</td>\n",
       "      <td>408</td>\n",
       "      <td>1</td>\n",
       "      <td>0</td>\n",
       "      <td>0</td>\n",
       "      <td>299.4</td>\n",
       "      <td>71</td>\n",
       "      <td>50.90</td>\n",
       "      <td>61.9</td>\n",
       "      <td>88</td>\n",
       "      <td>5.26</td>\n",
       "      <td>196.9</td>\n",
       "      <td>89</td>\n",
       "      <td>8.86</td>\n",
       "      <td>6.6</td>\n",
       "      <td>7</td>\n",
       "      <td>1.78</td>\n",
       "      <td>2</td>\n",
       "      <td>0</td>\n",
       "    </tr>\n",
       "    <tr>\n",
       "      <td>4</td>\n",
       "      <td>36</td>\n",
       "      <td>75</td>\n",
       "      <td>415</td>\n",
       "      <td>1</td>\n",
       "      <td>0</td>\n",
       "      <td>0</td>\n",
       "      <td>166.7</td>\n",
       "      <td>113</td>\n",
       "      <td>28.34</td>\n",
       "      <td>148.3</td>\n",
       "      <td>122</td>\n",
       "      <td>12.61</td>\n",
       "      <td>186.9</td>\n",
       "      <td>121</td>\n",
       "      <td>8.41</td>\n",
       "      <td>10.1</td>\n",
       "      <td>3</td>\n",
       "      <td>2.73</td>\n",
       "      <td>3</td>\n",
       "      <td>0</td>\n",
       "    </tr>\n",
       "    <tr>\n",
       "      <td>...</td>\n",
       "      <td>...</td>\n",
       "      <td>...</td>\n",
       "      <td>...</td>\n",
       "      <td>...</td>\n",
       "      <td>...</td>\n",
       "      <td>...</td>\n",
       "      <td>...</td>\n",
       "      <td>...</td>\n",
       "      <td>...</td>\n",
       "      <td>...</td>\n",
       "      <td>...</td>\n",
       "      <td>...</td>\n",
       "      <td>...</td>\n",
       "      <td>...</td>\n",
       "      <td>...</td>\n",
       "      <td>...</td>\n",
       "      <td>...</td>\n",
       "      <td>...</td>\n",
       "      <td>...</td>\n",
       "      <td>...</td>\n",
       "    </tr>\n",
       "    <tr>\n",
       "      <td>3328</td>\n",
       "      <td>3</td>\n",
       "      <td>192</td>\n",
       "      <td>415</td>\n",
       "      <td>0</td>\n",
       "      <td>1</td>\n",
       "      <td>36</td>\n",
       "      <td>156.2</td>\n",
       "      <td>77</td>\n",
       "      <td>26.55</td>\n",
       "      <td>215.5</td>\n",
       "      <td>126</td>\n",
       "      <td>18.32</td>\n",
       "      <td>279.1</td>\n",
       "      <td>83</td>\n",
       "      <td>12.56</td>\n",
       "      <td>9.9</td>\n",
       "      <td>6</td>\n",
       "      <td>2.67</td>\n",
       "      <td>2</td>\n",
       "      <td>0</td>\n",
       "    </tr>\n",
       "    <tr>\n",
       "      <td>3329</td>\n",
       "      <td>49</td>\n",
       "      <td>68</td>\n",
       "      <td>415</td>\n",
       "      <td>0</td>\n",
       "      <td>0</td>\n",
       "      <td>0</td>\n",
       "      <td>231.1</td>\n",
       "      <td>57</td>\n",
       "      <td>39.29</td>\n",
       "      <td>153.4</td>\n",
       "      <td>55</td>\n",
       "      <td>13.04</td>\n",
       "      <td>191.3</td>\n",
       "      <td>123</td>\n",
       "      <td>8.61</td>\n",
       "      <td>9.6</td>\n",
       "      <td>4</td>\n",
       "      <td>2.59</td>\n",
       "      <td>3</td>\n",
       "      <td>0</td>\n",
       "    </tr>\n",
       "    <tr>\n",
       "      <td>3330</td>\n",
       "      <td>39</td>\n",
       "      <td>28</td>\n",
       "      <td>510</td>\n",
       "      <td>0</td>\n",
       "      <td>0</td>\n",
       "      <td>0</td>\n",
       "      <td>180.8</td>\n",
       "      <td>109</td>\n",
       "      <td>30.74</td>\n",
       "      <td>288.8</td>\n",
       "      <td>58</td>\n",
       "      <td>24.55</td>\n",
       "      <td>191.9</td>\n",
       "      <td>91</td>\n",
       "      <td>8.64</td>\n",
       "      <td>14.1</td>\n",
       "      <td>6</td>\n",
       "      <td>3.81</td>\n",
       "      <td>2</td>\n",
       "      <td>0</td>\n",
       "    </tr>\n",
       "    <tr>\n",
       "      <td>3331</td>\n",
       "      <td>6</td>\n",
       "      <td>184</td>\n",
       "      <td>510</td>\n",
       "      <td>1</td>\n",
       "      <td>0</td>\n",
       "      <td>0</td>\n",
       "      <td>213.8</td>\n",
       "      <td>105</td>\n",
       "      <td>36.35</td>\n",
       "      <td>159.6</td>\n",
       "      <td>84</td>\n",
       "      <td>13.57</td>\n",
       "      <td>139.2</td>\n",
       "      <td>137</td>\n",
       "      <td>6.26</td>\n",
       "      <td>5.0</td>\n",
       "      <td>10</td>\n",
       "      <td>1.35</td>\n",
       "      <td>2</td>\n",
       "      <td>0</td>\n",
       "    </tr>\n",
       "    <tr>\n",
       "      <td>3332</td>\n",
       "      <td>42</td>\n",
       "      <td>74</td>\n",
       "      <td>415</td>\n",
       "      <td>0</td>\n",
       "      <td>1</td>\n",
       "      <td>25</td>\n",
       "      <td>234.4</td>\n",
       "      <td>113</td>\n",
       "      <td>39.85</td>\n",
       "      <td>265.9</td>\n",
       "      <td>82</td>\n",
       "      <td>22.60</td>\n",
       "      <td>241.4</td>\n",
       "      <td>77</td>\n",
       "      <td>10.86</td>\n",
       "      <td>13.7</td>\n",
       "      <td>4</td>\n",
       "      <td>3.70</td>\n",
       "      <td>0</td>\n",
       "      <td>0</td>\n",
       "    </tr>\n",
       "  </tbody>\n",
       "</table>\n",
       "<p>3333 rows × 20 columns</p>\n",
       "</div>"
      ],
      "text/plain": [
       "      state  account length  area code  international plan  voice mail plan  \\\n",
       "0        16             128        415                   0                1   \n",
       "1        35             107        415                   0                1   \n",
       "2        31             137        415                   0                0   \n",
       "3        35              84        408                   1                0   \n",
       "4        36              75        415                   1                0   \n",
       "...     ...             ...        ...                 ...              ...   \n",
       "3328      3             192        415                   0                1   \n",
       "3329     49              68        415                   0                0   \n",
       "3330     39              28        510                   0                0   \n",
       "3331      6             184        510                   1                0   \n",
       "3332     42              74        415                   0                1   \n",
       "\n",
       "      number vmail messages  total day minutes  total day calls  \\\n",
       "0                        25              265.1              110   \n",
       "1                        26              161.6              123   \n",
       "2                         0              243.4              114   \n",
       "3                         0              299.4               71   \n",
       "4                         0              166.7              113   \n",
       "...                     ...                ...              ...   \n",
       "3328                     36              156.2               77   \n",
       "3329                      0              231.1               57   \n",
       "3330                      0              180.8              109   \n",
       "3331                      0              213.8              105   \n",
       "3332                     25              234.4              113   \n",
       "\n",
       "      total day charge  total eve minutes  total eve calls  total eve charge  \\\n",
       "0                45.07              197.4               99             16.78   \n",
       "1                27.47              195.5              103             16.62   \n",
       "2                41.38              121.2              110             10.30   \n",
       "3                50.90               61.9               88              5.26   \n",
       "4                28.34              148.3              122             12.61   \n",
       "...                ...                ...              ...               ...   \n",
       "3328             26.55              215.5              126             18.32   \n",
       "3329             39.29              153.4               55             13.04   \n",
       "3330             30.74              288.8               58             24.55   \n",
       "3331             36.35              159.6               84             13.57   \n",
       "3332             39.85              265.9               82             22.60   \n",
       "\n",
       "      total night minutes  total night calls  total night charge  \\\n",
       "0                   244.7                 91               11.01   \n",
       "1                   254.4                103               11.45   \n",
       "2                   162.6                104                7.32   \n",
       "3                   196.9                 89                8.86   \n",
       "4                   186.9                121                8.41   \n",
       "...                   ...                ...                 ...   \n",
       "3328                279.1                 83               12.56   \n",
       "3329                191.3                123                8.61   \n",
       "3330                191.9                 91                8.64   \n",
       "3331                139.2                137                6.26   \n",
       "3332                241.4                 77               10.86   \n",
       "\n",
       "      total intl minutes  total intl calls  total intl charge  \\\n",
       "0                   10.0                 3               2.70   \n",
       "1                   13.7                 3               3.70   \n",
       "2                   12.2                 5               3.29   \n",
       "3                    6.6                 7               1.78   \n",
       "4                   10.1                 3               2.73   \n",
       "...                  ...               ...                ...   \n",
       "3328                 9.9                 6               2.67   \n",
       "3329                 9.6                 4               2.59   \n",
       "3330                14.1                 6               3.81   \n",
       "3331                 5.0                10               1.35   \n",
       "3332                13.7                 4               3.70   \n",
       "\n",
       "      customer service calls  churn  \n",
       "0                          1      0  \n",
       "1                          1      0  \n",
       "2                          0      0  \n",
       "3                          2      0  \n",
       "4                          3      0  \n",
       "...                      ...    ...  \n",
       "3328                       2      0  \n",
       "3329                       3      0  \n",
       "3330                       2      0  \n",
       "3331                       2      0  \n",
       "3332                       0      0  \n",
       "\n",
       "[3333 rows x 20 columns]"
      ]
     },
     "execution_count": 27,
     "metadata": {},
     "output_type": "execute_result"
    }
   ],
   "source": [
    "data"
   ]
  },
  {
   "cell_type": "markdown",
   "metadata": {},
   "source": [
    "The churn column is dropped and saved as datas which would be needed for future use"
   ]
  },
  {
   "cell_type": "code",
   "execution_count": 28,
   "metadata": {},
   "outputs": [],
   "source": [
    "datas=data.drop([\"churn\"],axis=1)"
   ]
  },
  {
   "cell_type": "code",
   "execution_count": 29,
   "metadata": {},
   "outputs": [
    {
     "data": {
      "text/plain": [
       "(3333, 19)"
      ]
     },
     "execution_count": 29,
     "metadata": {},
     "output_type": "execute_result"
    }
   ],
   "source": [
    "datas.shape"
   ]
  },
  {
   "cell_type": "markdown",
   "metadata": {},
   "source": [
    "### SPLITING INTO X AND y "
   ]
  },
  {
   "cell_type": "markdown",
   "metadata": {},
   "source": [
    "The given data set after EDA is splitted into the features X and labels y"
   ]
  },
  {
   "cell_type": "code",
   "execution_count": 30,
   "metadata": {},
   "outputs": [],
   "source": [
    "X=data.iloc[:,:-1].values\n",
    "y=data.iloc[:,-1].values"
   ]
  },
  {
   "cell_type": "markdown",
   "metadata": {},
   "source": [
    "#### VIEW THE FEATURES "
   ]
  },
  {
   "cell_type": "code",
   "execution_count": 31,
   "metadata": {},
   "outputs": [
    {
     "data": {
      "text/plain": [
       "array([[ 16.  , 128.  , 415.  , ...,   3.  ,   2.7 ,   1.  ],\n",
       "       [ 35.  , 107.  , 415.  , ...,   3.  ,   3.7 ,   1.  ],\n",
       "       [ 31.  , 137.  , 415.  , ...,   5.  ,   3.29,   0.  ],\n",
       "       ...,\n",
       "       [ 39.  ,  28.  , 510.  , ...,   6.  ,   3.81,   2.  ],\n",
       "       [  6.  , 184.  , 510.  , ...,  10.  ,   1.35,   2.  ],\n",
       "       [ 42.  ,  74.  , 415.  , ...,   4.  ,   3.7 ,   0.  ]])"
      ]
     },
     "execution_count": 31,
     "metadata": {},
     "output_type": "execute_result"
    }
   ],
   "source": [
    "X"
   ]
  },
  {
   "cell_type": "code",
   "execution_count": 32,
   "metadata": {},
   "outputs": [
    {
     "data": {
      "text/plain": [
       "(3333, 19)"
      ]
     },
     "execution_count": 32,
     "metadata": {},
     "output_type": "execute_result"
    }
   ],
   "source": [
    "X.shape"
   ]
  },
  {
   "cell_type": "code",
   "execution_count": 33,
   "metadata": {},
   "outputs": [
    {
     "data": {
      "text/plain": [
       "dtype('float64')"
      ]
     },
     "execution_count": 33,
     "metadata": {},
     "output_type": "execute_result"
    }
   ],
   "source": [
    "X.dtype"
   ]
  },
  {
   "cell_type": "markdown",
   "metadata": {},
   "source": [
    "#### VIEW THE LABELS VALUES"
   ]
  },
  {
   "cell_type": "code",
   "execution_count": 34,
   "metadata": {},
   "outputs": [
    {
     "data": {
      "text/plain": [
       "array([0, 0, 0, ..., 0, 0, 0], dtype=int64)"
      ]
     },
     "execution_count": 34,
     "metadata": {},
     "output_type": "execute_result"
    }
   ],
   "source": [
    "y"
   ]
  },
  {
   "cell_type": "code",
   "execution_count": 35,
   "metadata": {},
   "outputs": [
    {
     "data": {
      "text/plain": [
       "(3333,)"
      ]
     },
     "execution_count": 35,
     "metadata": {},
     "output_type": "execute_result"
    }
   ],
   "source": [
    "y.shape"
   ]
  },
  {
   "cell_type": "code",
   "execution_count": 36,
   "metadata": {},
   "outputs": [
    {
     "data": {
      "text/plain": [
       "0"
      ]
     },
     "execution_count": 36,
     "metadata": {},
     "output_type": "execute_result"
    }
   ],
   "source": [
    "y[105]"
   ]
  },
  {
   "cell_type": "markdown",
   "metadata": {},
   "source": [
    "### FEATURE PROCESSING"
   ]
  },
  {
   "cell_type": "markdown",
   "metadata": {},
   "source": [
    "A few needed feature processing steps are done"
   ]
  },
  {
   "cell_type": "markdown",
   "metadata": {},
   "source": [
    "Standardize features by removing the mean and scaling to unit variance"
   ]
  },
  {
   "cell_type": "code",
   "execution_count": 37,
   "metadata": {},
   "outputs": [],
   "source": [
    "from sklearn.preprocessing import StandardScaler\n",
    "sc=StandardScaler()\n",
    "X=sc.fit_transform(X)"
   ]
  },
  {
   "cell_type": "code",
   "execution_count": 38,
   "metadata": {},
   "outputs": [
    {
     "data": {
      "text/plain": [
       "array([[-0.6786493 ,  0.67648946, -0.52360328, ..., -0.60119509,\n",
       "        -0.0856905 , -0.42793202],\n",
       "       [ 0.6031696 ,  0.14906505, -0.52360328, ..., -0.60119509,\n",
       "         1.2411686 , -0.42793202],\n",
       "       [ 0.33331299,  0.9025285 , -0.52360328, ...,  0.21153386,\n",
       "         0.69715637, -1.1882185 ],\n",
       "       ...,\n",
       "       [ 0.87302621, -1.83505538,  1.71881732, ...,  0.61789834,\n",
       "         1.3871231 ,  0.33235445],\n",
       "       [-1.35329082,  2.08295458,  1.71881732, ...,  2.24335625,\n",
       "        -1.87695028,  0.33235445],\n",
       "       [ 1.07541867, -0.67974475, -0.52360328, ..., -0.19483061,\n",
       "         1.2411686 , -1.1882185 ]])"
      ]
     },
     "execution_count": 38,
     "metadata": {},
     "output_type": "execute_result"
    }
   ],
   "source": [
    "X"
   ]
  },
  {
   "cell_type": "markdown",
   "metadata": {},
   "source": [
    "## SPLIT INTO TRAIN AND TEST SET"
   ]
  },
  {
   "cell_type": "markdown",
   "metadata": {},
   "source": [
    "After the feature scaling the features and labels are split into training and test set"
   ]
  },
  {
   "cell_type": "code",
   "execution_count": 39,
   "metadata": {},
   "outputs": [],
   "source": [
    "from sklearn.model_selection import train_test_split\n",
    "X_train,X_test,y_train,y_test=train_test_split(X,y,test_size=0.25,random_state=0)"
   ]
  },
  {
   "cell_type": "markdown",
   "metadata": {},
   "source": [
    "#### ANALYSIS OF THE SETS"
   ]
  },
  {
   "cell_type": "markdown",
   "metadata": {},
   "source": [
    "checking the shape and type of the training and testing sets"
   ]
  },
  {
   "cell_type": "markdown",
   "metadata": {},
   "source": [
    "##### TRAIN"
   ]
  },
  {
   "cell_type": "code",
   "execution_count": 40,
   "metadata": {},
   "outputs": [
    {
     "data": {
      "text/plain": [
       "(2499, 19)"
      ]
     },
     "execution_count": 40,
     "metadata": {},
     "output_type": "execute_result"
    }
   ],
   "source": [
    "X_train.shape"
   ]
  },
  {
   "cell_type": "code",
   "execution_count": 41,
   "metadata": {},
   "outputs": [
    {
     "data": {
      "text/plain": [
       "array([[ 2.65848839e-01, -8.55552891e-01, -5.23603280e-01, ...,\n",
       "         1.83699177e+00, -2.31644996e-01, -4.27932021e-01],\n",
       "       [ 1.30920534e-01, -1.62764382e-03, -5.23603280e-01, ...,\n",
       "         2.11533863e-01,  1.66412733e-01, -4.27932021e-01],\n",
       "       [-1.15089836e+00, -2.52782128e-01,  1.71881732e+00, ...,\n",
       "        -6.01195090e-01, -1.25496268e-01, -1.18821850e+00],\n",
       "       ...,\n",
       "       [-4.08792687e-01, -2.02551231e-01,  1.71881732e+00, ...,\n",
       "        -1.00755957e+00,  3.12367234e-01, -4.27932021e-01],\n",
       "       [-8.13577602e-01, -2.52782128e-01, -5.23603280e-01, ...,\n",
       "        -6.01195090e-01, -1.25496268e-01,  1.09264093e+00],\n",
       "       [ 6.34563811e-02,  7.26720361e-01, -6.88834272e-01, ...,\n",
       "        -1.00755957e+00,  2.38226743e+00,  2.61321388e+00]])"
      ]
     },
     "execution_count": 41,
     "metadata": {},
     "output_type": "execute_result"
    }
   ],
   "source": [
    "X_train"
   ]
  },
  {
   "cell_type": "code",
   "execution_count": 42,
   "metadata": {},
   "outputs": [
    {
     "data": {
      "text/plain": [
       "(2499,)"
      ]
     },
     "execution_count": 42,
     "metadata": {},
     "output_type": "execute_result"
    }
   ],
   "source": [
    "y_train.shape"
   ]
  },
  {
   "cell_type": "code",
   "execution_count": 43,
   "metadata": {},
   "outputs": [
    {
     "data": {
      "text/plain": [
       "array([0, 0, 0, ..., 1, 0, 1], dtype=int64)"
      ]
     },
     "execution_count": 43,
     "metadata": {},
     "output_type": "execute_result"
    }
   ],
   "source": [
    "y_train"
   ]
  },
  {
   "cell_type": "markdown",
   "metadata": {},
   "source": [
    "##### TEST"
   ]
  },
  {
   "cell_type": "code",
   "execution_count": 44,
   "metadata": {},
   "outputs": [
    {
     "data": {
      "text/plain": [
       "(834, 19)"
      ]
     },
     "execution_count": 44,
     "metadata": {},
     "output_type": "execute_result"
    }
   ],
   "source": [
    "X_test.shape"
   ]
  },
  {
   "cell_type": "code",
   "execution_count": 45,
   "metadata": {},
   "outputs": [
    {
     "data": {
      "text/plain": [
       "array([[ 1.48020358, -0.22766668, -0.52360328, ...,  0.21153386,\n",
       "        -0.33779372, -1.1882185 ],\n",
       "       [-0.13893608,  0.27464229,  1.71881732, ..., -0.60119509,\n",
       "        -0.0856905 ,  0.33235445],\n",
       "       [ 1.07541867, -0.80532199,  1.71881732, ..., -0.19483061,\n",
       "         0.81657369,  1.09264093],\n",
       "       ...,\n",
       "       [ 0.53570545, -0.30301303, -0.52360328, ..., -1.41392404,\n",
       "         0.73696215,  1.09264093],\n",
       "       [-0.61118514, -1.18205372, -0.68883427, ...,  1.02426282,\n",
       "        -0.19183922,  0.33235445],\n",
       "       [ 0.13092053, -0.78020655, -0.52360328, ..., -0.19483061,\n",
       "         0.02045823, -0.42793202]])"
      ]
     },
     "execution_count": 45,
     "metadata": {},
     "output_type": "execute_result"
    }
   ],
   "source": [
    "X_test"
   ]
  },
  {
   "cell_type": "code",
   "execution_count": 46,
   "metadata": {},
   "outputs": [
    {
     "data": {
      "text/plain": [
       "(834,)"
      ]
     },
     "execution_count": 46,
     "metadata": {},
     "output_type": "execute_result"
    }
   ],
   "source": [
    "y_test.shape"
   ]
  },
  {
   "cell_type": "code",
   "execution_count": 47,
   "metadata": {},
   "outputs": [
    {
     "data": {
      "text/plain": [
       "array([0, 0, 0, 0, 1, 1, 1, 0, 0, 0, 0, 0, 0, 0, 1, 0, 0, 0, 0, 0, 1, 0,\n",
       "       0, 0, 0, 0, 0, 0, 0, 0, 0, 0, 0, 0, 1, 0, 1, 0, 0, 1, 0, 1, 1, 1,\n",
       "       0, 0, 0, 0, 0, 0, 1, 0, 0, 0, 0, 0, 0, 0, 0, 1, 1, 0, 0, 0, 0, 0,\n",
       "       0, 0, 1, 0, 0, 0, 0, 0, 0, 0, 0, 0, 1, 0, 0, 0, 0, 0, 0, 0, 1, 0,\n",
       "       1, 0, 0, 0, 0, 0, 0, 0, 0, 0, 0, 0, 0, 0, 1, 0, 0, 0, 0, 0, 1, 0,\n",
       "       0, 0, 0, 0, 0, 0, 0, 0, 0, 0, 1, 0, 0, 0, 0, 0, 0, 0, 0, 0, 0, 0,\n",
       "       0, 0, 0, 0, 0, 0, 1, 0, 0, 0, 1, 0, 0, 0, 0, 0, 0, 0, 0, 0, 0, 0,\n",
       "       0, 0, 0, 0, 1, 0, 0, 0, 1, 0, 0, 0, 1, 0, 1, 1, 0, 0, 0, 0, 0, 0,\n",
       "       1, 0, 0, 0, 0, 1, 0, 0, 0, 1, 0, 0, 0, 1, 0, 0, 0, 0, 0, 0, 0, 0,\n",
       "       0, 0, 0, 0, 1, 0, 0, 0, 0, 0, 0, 1, 0, 0, 1, 0, 0, 0, 0, 0, 0, 0,\n",
       "       0, 1, 0, 0, 0, 0, 0, 0, 0, 0, 0, 0, 0, 0, 1, 0, 1, 0, 1, 0, 0, 0,\n",
       "       0, 0, 0, 1, 0, 0, 1, 0, 0, 0, 0, 0, 0, 1, 0, 0, 0, 0, 0, 0, 0, 0,\n",
       "       0, 0, 0, 0, 0, 0, 0, 0, 0, 0, 1, 0, 0, 0, 0, 0, 0, 0, 0, 0, 0, 0,\n",
       "       0, 0, 0, 0, 0, 0, 0, 0, 0, 0, 0, 1, 0, 0, 0, 0, 0, 0, 0, 0, 1, 0,\n",
       "       0, 1, 0, 0, 0, 1, 0, 0, 0, 0, 0, 0, 0, 0, 0, 0, 0, 0, 1, 0, 0, 0,\n",
       "       0, 0, 1, 0, 1, 0, 0, 0, 0, 1, 0, 0, 0, 1, 0, 0, 0, 0, 0, 0, 1, 0,\n",
       "       0, 0, 0, 0, 0, 0, 0, 0, 1, 0, 0, 0, 0, 0, 0, 0, 0, 1, 0, 0, 0, 1,\n",
       "       0, 0, 0, 0, 0, 0, 0, 0, 0, 0, 0, 0, 0, 0, 0, 0, 0, 0, 0, 0, 0, 1,\n",
       "       1, 0, 0, 0, 0, 0, 0, 0, 0, 0, 1, 0, 0, 0, 1, 0, 0, 0, 0, 0, 0, 0,\n",
       "       0, 0, 0, 0, 0, 0, 0, 0, 0, 0, 0, 0, 0, 0, 0, 0, 0, 0, 0, 0, 1, 0,\n",
       "       0, 0, 0, 0, 0, 0, 1, 0, 0, 1, 0, 0, 0, 0, 0, 0, 0, 0, 1, 0, 0, 0,\n",
       "       0, 0, 0, 0, 0, 1, 0, 1, 0, 0, 0, 0, 1, 0, 0, 0, 0, 0, 0, 0, 0, 0,\n",
       "       0, 0, 0, 0, 1, 0, 0, 0, 0, 0, 0, 0, 0, 0, 0, 0, 0, 0, 0, 0, 0, 0,\n",
       "       1, 0, 1, 0, 0, 0, 0, 0, 0, 0, 0, 0, 0, 0, 0, 0, 1, 1, 0, 0, 0, 0,\n",
       "       0, 0, 0, 0, 1, 0, 0, 0, 0, 0, 0, 0, 0, 0, 1, 0, 0, 0, 0, 0, 0, 0,\n",
       "       0, 0, 0, 0, 0, 0, 0, 1, 0, 0, 0, 0, 0, 0, 0, 0, 0, 1, 0, 0, 0, 0,\n",
       "       0, 0, 0, 0, 0, 0, 1, 0, 0, 0, 0, 0, 0, 0, 0, 0, 0, 0, 0, 0, 0, 0,\n",
       "       0, 0, 0, 0, 0, 0, 0, 1, 0, 0, 0, 0, 1, 0, 1, 0, 0, 1, 1, 0, 1, 0,\n",
       "       0, 0, 1, 0, 0, 0, 0, 0, 0, 0, 0, 0, 0, 0, 0, 0, 0, 0, 0, 0, 1, 1,\n",
       "       0, 0, 0, 0, 0, 0, 0, 1, 0, 0, 0, 0, 0, 0, 0, 0, 0, 0, 0, 0, 0, 0,\n",
       "       0, 0, 0, 0, 0, 1, 0, 0, 0, 0, 0, 1, 0, 1, 0, 0, 0, 1, 0, 0, 0, 1,\n",
       "       0, 0, 0, 0, 0, 0, 0, 0, 0, 0, 1, 0, 1, 0, 0, 0, 0, 1, 0, 0, 0, 0,\n",
       "       0, 1, 1, 0, 1, 1, 0, 0, 0, 0, 0, 1, 0, 0, 0, 1, 0, 0, 0, 0, 0, 0,\n",
       "       0, 1, 0, 0, 0, 1, 0, 0, 1, 1, 1, 0, 0, 0, 0, 0, 0, 0, 0, 0, 1, 0,\n",
       "       0, 0, 0, 0, 0, 0, 0, 0, 0, 0, 0, 0, 0, 0, 0, 1, 0, 0, 0, 0, 1, 0,\n",
       "       1, 0, 0, 0, 0, 0, 0, 0, 0, 0, 1, 0, 0, 0, 0, 0, 0, 0, 0, 0, 0, 0,\n",
       "       0, 0, 0, 0, 0, 0, 0, 0, 0, 0, 1, 0, 0, 0, 0, 0, 0, 0, 0, 0, 0, 0,\n",
       "       0, 0, 0, 1, 0, 0, 0, 1, 0, 0, 0, 0, 0, 1, 0, 0, 0, 0, 0, 0],\n",
       "      dtype=int64)"
      ]
     },
     "execution_count": 47,
     "metadata": {},
     "output_type": "execute_result"
    }
   ],
   "source": [
    "y_test"
   ]
  },
  {
   "cell_type": "markdown",
   "metadata": {},
   "source": [
    "# MODEL"
   ]
  },
  {
   "cell_type": "markdown",
   "metadata": {},
   "source": [
    "After all the preprocessing steps now we start the building of the model and choose the best model for the prediction of churn"
   ]
  },
  {
   "cell_type": "markdown",
   "metadata": {},
   "source": [
    "Here I will be modeling the following models\n",
    "###### LINEAR REGRESSION\n",
    "###### LOGISTIC REGRESSION\n",
    "###### SVM\n",
    "###### KNN\n",
    "###### RANDOM FOREST\n",
    " and giving the accuracy in each of the case and the confusion matrix and select the best model\n"
   ]
  },
  {
   "cell_type": "markdown",
   "metadata": {},
   "source": [
    "## LINEAR REGRESSION"
   ]
  },
  {
   "cell_type": "code",
   "execution_count": 48,
   "metadata": {},
   "outputs": [
    {
     "data": {
      "text/plain": [
       "LinearRegression(copy_X=True, fit_intercept=True, n_jobs=None, normalize=False)"
      ]
     },
     "execution_count": 48,
     "metadata": {},
     "output_type": "execute_result"
    }
   ],
   "source": [
    "from sklearn.linear_model import LinearRegression\n",
    "l_regressor=LinearRegression()\n",
    "l_regressor.fit(X_train,y_train)"
   ]
  },
  {
   "cell_type": "code",
   "execution_count": 49,
   "metadata": {},
   "outputs": [],
   "source": [
    "y_pred = l_regressor.predict(X_test)"
   ]
  },
  {
   "cell_type": "code",
   "execution_count": 50,
   "metadata": {},
   "outputs": [],
   "source": [
    "y_pred=np.round(y_pred)+0.0"
   ]
  },
  {
   "cell_type": "code",
   "execution_count": 51,
   "metadata": {},
   "outputs": [
    {
     "name": "stdout",
     "output_type": "stream",
     "text": [
      "accuracy_score= 0.8669064748201439\n"
     ]
    },
    {
     "data": {
      "image/png": "[encoded data removed]",
      "text/plain": [
       "<Figure size 432x288 with 2 Axes>"
      ]
     },
     "metadata": {
      "needs_background": "light"
     },
     "output_type": "display_data"
    }
   ],
   "source": [
    "from sklearn.metrics import confusion_matrix,accuracy_score\n",
    "cm=confusion_matrix(y_test,y_pred)\n",
    "sns.heatmap(cm, annot=True, fmt='d', cmap='Blues')\n",
    "l_accuracy_score=accuracy_score(y_test,y_pred)\n",
    "print('accuracy_score=',accuracy_score(y_test,y_pred))"
   ]
  },
  {
   "cell_type": "code",
   "execution_count": 52,
   "metadata": {},
   "outputs": [
    {
     "name": "stdout",
     "output_type": "stream",
     "text": [
      "              precision    recall  f1-score   support\n",
      "\n",
      "           0       0.87      0.99      0.93       719\n",
      "           1       0.59      0.11      0.19       115\n",
      "\n",
      "    accuracy                           0.87       834\n",
      "   macro avg       0.73      0.55      0.56       834\n",
      "weighted avg       0.84      0.87      0.83       834\n",
      "\n"
     ]
    }
   ],
   "source": [
    "from sklearn.metrics import classification_report\n",
    "print(classification_report(y_test , np.round(y_pred)+0.))"
   ]
  },
  {
   "cell_type": "markdown",
   "metadata": {},
   "source": [
    "## LOGISTIC REGRESSION"
   ]
  },
  {
   "cell_type": "code",
   "execution_count": 53,
   "metadata": {},
   "outputs": [
    {
     "name": "stderr",
     "output_type": "stream",
     "text": [
      "C:\\Users\\HP\\Anaconda3\\lib\\site-packages\\sklearn\\linear_model\\logistic.py:432: FutureWarning: Default solver will be changed to 'lbfgs' in 0.22. Specify a solver to silence this warning.\n",
      "  FutureWarning)\n"
     ]
    },
    {
     "data": {
      "text/plain": [
       "LogisticRegression(C=1.0, class_weight=None, dual=False, fit_intercept=True,\n",
       "                   intercept_scaling=1, l1_ratio=None, max_iter=100,\n",
       "                   multi_class='warn', n_jobs=None, penalty='l2',\n",
       "                   random_state=None, solver='warn', tol=0.0001, verbose=0,\n",
       "                   warm_start=False)"
      ]
     },
     "execution_count": 53,
     "metadata": {},
     "output_type": "execute_result"
    }
   ],
   "source": [
    "from sklearn.linear_model import LogisticRegression\n",
    "log_regressor=LogisticRegression()\n",
    "log_regressor.fit(X_train,y_train)"
   ]
  },
  {
   "cell_type": "code",
   "execution_count": 54,
   "metadata": {},
   "outputs": [],
   "source": [
    "y_log_pred = log_regressor.predict(X_test)"
   ]
  },
  {
   "cell_type": "code",
   "execution_count": 55,
   "metadata": {},
   "outputs": [],
   "source": [
    "y_log_pred=np.round(y_log_pred)+0.0"
   ]
  },
  {
   "cell_type": "code",
   "execution_count": 56,
   "metadata": {},
   "outputs": [
    {
     "name": "stdout",
     "output_type": "stream",
     "text": [
      "accuracy_score= 0.8669064748201439\n"
     ]
    },
    {
     "data": {
      "image/png": "[encoded data removed]",
      "text/plain": [
       "<Figure size 432x288 with 2 Axes>"
      ]
     },
     "metadata": {
      "needs_background": "light"
     },
     "output_type": "display_data"
    }
   ],
   "source": [
    "from sklearn.metrics import confusion_matrix,accuracy_score\n",
    "cm_log=confusion_matrix(y_test,y_log_pred)\n",
    "sns.heatmap(cm_log, annot=True, fmt='d', cmap='Blues')\n",
    "l_accuracy_score=accuracy_score(y_test,y_log_pred)\n",
    "print('accuracy_score=',accuracy_score(y_test,y_log_pred))"
   ]
  },
  {
   "cell_type": "code",
   "execution_count": 57,
   "metadata": {},
   "outputs": [
    {
     "name": "stdout",
     "output_type": "stream",
     "text": [
      "              precision    recall  f1-score   support\n",
      "\n",
      "           0       0.88      0.97      0.93       719\n",
      "           1       0.55      0.20      0.29       115\n",
      "\n",
      "    accuracy                           0.87       834\n",
      "   macro avg       0.72      0.59      0.61       834\n",
      "weighted avg       0.84      0.87      0.84       834\n",
      "\n"
     ]
    }
   ],
   "source": [
    "from sklearn.metrics import classification_report\n",
    "print(classification_report(y_test , np.round(y_log_pred)+0.))"
   ]
  },
  {
   "cell_type": "markdown",
   "metadata": {},
   "source": [
    "## SVM"
   ]
  },
  {
   "cell_type": "code",
   "execution_count": 58,
   "metadata": {},
   "outputs": [
    {
     "data": {
      "text/plain": [
       "SVR(C=1.0, cache_size=200, coef0=0.0, degree=3, epsilon=0.1, gamma='auto',\n",
       "    kernel='rbf', max_iter=-1, shrinking=True, tol=0.001, verbose=False)"
      ]
     },
     "execution_count": 58,
     "metadata": {},
     "output_type": "execute_result"
    }
   ],
   "source": [
    "from sklearn.svm import SVR\n",
    "svm_classifier = SVR(kernel = 'rbf',gamma=\"auto\")\n",
    "svm_classifier.fit(X_train,y_train)"
   ]
  },
  {
   "cell_type": "code",
   "execution_count": 59,
   "metadata": {},
   "outputs": [],
   "source": [
    "y_svm_pred=svm_classifier.predict(X_test)"
   ]
  },
  {
   "cell_type": "code",
   "execution_count": 60,
   "metadata": {},
   "outputs": [],
   "source": [
    "y_svm_pred=np.round(y_svm_pred)+0.0"
   ]
  },
  {
   "cell_type": "code",
   "execution_count": 61,
   "metadata": {},
   "outputs": [
    {
     "name": "stdout",
     "output_type": "stream",
     "text": [
      "accuracy_score= 0.9244604316546763\n"
     ]
    },
    {
     "data": {
      "image/png": "[encoded data removed]",
      "text/plain": [
       "<Figure size 432x288 with 2 Axes>"
      ]
     },
     "metadata": {
      "needs_background": "light"
     },
     "output_type": "display_data"
    }
   ],
   "source": [
    "from sklearn.metrics import confusion_matrix,accuracy_score\n",
    "cm_svm=confusion_matrix(y_test,y_svm_pred)\n",
    "sns.heatmap(cm_svm, annot=True, fmt='d', cmap='Blues')\n",
    "svm_accuracy_score=accuracy_score(y_test,y_svm_pred)\n",
    "print('accuracy_score=',accuracy_score(y_test,y_svm_pred))"
   ]
  },
  {
   "cell_type": "code",
   "execution_count": 62,
   "metadata": {},
   "outputs": [
    {
     "name": "stdout",
     "output_type": "stream",
     "text": [
      "              precision    recall  f1-score   support\n",
      "\n",
      "           0       0.87      0.99      0.93       719\n",
      "           1       0.59      0.11      0.19       115\n",
      "\n",
      "    accuracy                           0.87       834\n",
      "   macro avg       0.73      0.55      0.56       834\n",
      "weighted avg       0.84      0.87      0.83       834\n",
      "\n"
     ]
    }
   ],
   "source": [
    "from sklearn.metrics import classification_report\n",
    "print(classification_report(y_test , np.round(y_pred)+0.))"
   ]
  },
  {
   "cell_type": "markdown",
   "metadata": {},
   "source": [
    "## KNN\n"
   ]
  },
  {
   "cell_type": "code",
   "execution_count": 63,
   "metadata": {},
   "outputs": [
    {
     "data": {
      "text/plain": [
       "KNeighborsClassifier(algorithm='auto', leaf_size=30, metric='minkowski',\n",
       "                     metric_params=None, n_jobs=None, n_neighbors=5, p=2,\n",
       "                     weights='uniform')"
      ]
     },
     "execution_count": 63,
     "metadata": {},
     "output_type": "execute_result"
    }
   ],
   "source": [
    "from sklearn.neighbors import KNeighborsClassifier\n",
    "knn_classifier = KNeighborsClassifier(n_neighbors = 5, metric = 'minkowski', p = 2)\n",
    "knn_classifier.fit(X_train, y_train)"
   ]
  },
  {
   "cell_type": "code",
   "execution_count": 64,
   "metadata": {},
   "outputs": [],
   "source": [
    "y_knn_pred=knn_classifier.predict(X_test)"
   ]
  },
  {
   "cell_type": "code",
   "execution_count": 65,
   "metadata": {},
   "outputs": [],
   "source": [
    "y_knn_pred=np.round(y_knn_pred)+0.0"
   ]
  },
  {
   "cell_type": "code",
   "execution_count": 66,
   "metadata": {},
   "outputs": [
    {
     "name": "stdout",
     "output_type": "stream",
     "text": [
      "accuracy_score= 0.9064748201438849\n"
     ]
    },
    {
     "data": {
      "image/png": "[encoded data removed]",
      "text/plain": [
       "<Figure size 432x288 with 2 Axes>"
      ]
     },
     "metadata": {
      "needs_background": "light"
     },
     "output_type": "display_data"
    }
   ],
   "source": [
    "from sklearn.metrics import confusion_matrix,accuracy_score\n",
    "cm_knn=confusion_matrix(y_test,y_knn_pred)\n",
    "sns.heatmap(cm_knn, annot=True, fmt='d', cmap='Blues')\n",
    "knn_accuracy_score=accuracy_score(y_test,y_knn_pred)\n",
    "print('accuracy_score=',accuracy_score(y_test,y_knn_pred))"
   ]
  },
  {
   "cell_type": "code",
   "execution_count": 67,
   "metadata": {},
   "outputs": [
    {
     "name": "stdout",
     "output_type": "stream",
     "text": [
      "              precision    recall  f1-score   support\n",
      "\n",
      "           0       0.91      0.99      0.95       719\n",
      "           1       0.88      0.37      0.52       115\n",
      "\n",
      "    accuracy                           0.91       834\n",
      "   macro avg       0.89      0.68      0.74       834\n",
      "weighted avg       0.90      0.91      0.89       834\n",
      "\n"
     ]
    }
   ],
   "source": [
    "from sklearn.metrics import classification_report\n",
    "print(classification_report(y_test ,y_knn_pred))"
   ]
  },
  {
   "cell_type": "markdown",
   "metadata": {},
   "source": [
    "## RANDOM FOREST"
   ]
  },
  {
   "cell_type": "code",
   "execution_count": 68,
   "metadata": {},
   "outputs": [
    {
     "data": {
      "text/plain": [
       "RandomForestClassifier(bootstrap=True, class_weight=None, criterion='entropy',\n",
       "                       max_depth=None, max_features='auto', max_leaf_nodes=None,\n",
       "                       min_impurity_decrease=0.0, min_impurity_split=None,\n",
       "                       min_samples_leaf=1, min_samples_split=2,\n",
       "                       min_weight_fraction_leaf=0.0, n_estimators=50,\n",
       "                       n_jobs=None, oob_score=False, random_state=0, verbose=0,\n",
       "                       warm_start=False)"
      ]
     },
     "execution_count": 68,
     "metadata": {},
     "output_type": "execute_result"
    }
   ],
   "source": [
    "from sklearn.ensemble import RandomForestClassifier\n",
    "rf_classifier = RandomForestClassifier(n_estimators = 50, criterion = 'entropy', random_state = 0)\n",
    "rf_classifier.fit(X_train, y_train)"
   ]
  },
  {
   "cell_type": "code",
   "execution_count": 69,
   "metadata": {},
   "outputs": [],
   "source": [
    "y_rf_pred=rf_classifier.predict(X_test)"
   ]
  },
  {
   "cell_type": "code",
   "execution_count": 70,
   "metadata": {},
   "outputs": [],
   "source": [
    "y_rf_pred=np.round(y_rf_pred)+0.0"
   ]
  },
  {
   "cell_type": "code",
   "execution_count": 71,
   "metadata": {},
   "outputs": [
    {
     "name": "stdout",
     "output_type": "stream",
     "text": [
      "accuracy_score= 0.9568345323741008\n"
     ]
    },
    {
     "data": {
      "image/png": "[encoded data removed]",
      "text/plain": [
       "<Figure size 432x288 with 2 Axes>"
      ]
     },
     "metadata": {
      "needs_background": "light"
     },
     "output_type": "display_data"
    }
   ],
   "source": [
    "from sklearn.metrics import confusion_matrix,accuracy_score\n",
    "cm_rf=confusion_matrix(y_test,y_rf_pred)\n",
    "sns.heatmap(cm_rf, annot=True, fmt='d', cmap='Blues')\n",
    "rf_accuracy_score=accuracy_score(y_test,y_rf_pred)\n",
    "print('accuracy_score=',accuracy_score(y_test,y_rf_pred))"
   ]
  },
  {
   "cell_type": "code",
   "execution_count": 72,
   "metadata": {},
   "outputs": [
    {
     "name": "stdout",
     "output_type": "stream",
     "text": [
      "              precision    recall  f1-score   support\n",
      "\n",
      "           0       0.97      0.98      0.98       719\n",
      "           1       0.88      0.79      0.83       115\n",
      "\n",
      "    accuracy                           0.96       834\n",
      "   macro avg       0.93      0.89      0.91       834\n",
      "weighted avg       0.96      0.96      0.96       834\n",
      "\n"
     ]
    }
   ],
   "source": [
    "from sklearn.metrics import classification_report\n",
    "print(classification_report(y_test ,y_rf_pred))"
   ]
  },
  {
   "cell_type": "markdown",
   "metadata": {},
   "source": [
    "## MODEL SELECTION"
   ]
  },
  {
   "cell_type": "markdown",
   "metadata": {},
   "source": [
    "After training the models the accuracy scores are stored in accuracy_score as a dictionary and the best of them is choosen as the model"
   ]
  },
  {
   "cell_type": "code",
   "execution_count": 73,
   "metadata": {},
   "outputs": [],
   "source": [
    "accuracy_score={\"linear_regression\":l_accuracy_score,\"logistic_regression\":l_accuracy_score,\"svm\":svm_accuracy_score,\"knn\":knn_accuracy_score,\"random_forest\":rf_accuracy_score}"
   ]
  },
  {
   "cell_type": "code",
   "execution_count": 74,
   "metadata": {},
   "outputs": [
    {
     "data": {
      "text/plain": [
       "{'linear_regression': 0.8669064748201439,\n",
       " 'logistic_regression': 0.8669064748201439,\n",
       " 'svm': 0.9244604316546763,\n",
       " 'knn': 0.9064748201438849,\n",
       " 'random_forest': 0.9568345323741008}"
      ]
     },
     "execution_count": 74,
     "metadata": {},
     "output_type": "execute_result"
    }
   ],
   "source": [
    "accuracy_score"
   ]
  },
  {
   "cell_type": "code",
   "execution_count": 75,
   "metadata": {},
   "outputs": [],
   "source": [
    "best_accuracy_score = max(accuracy_score, key=accuracy_score.get) "
   ]
  },
  {
   "cell_type": "code",
   "execution_count": 76,
   "metadata": {},
   "outputs": [
    {
     "data": {
      "text/plain": [
       "'random_forest'"
      ]
     },
     "execution_count": 76,
     "metadata": {},
     "output_type": "execute_result"
    }
   ],
   "source": [
    "best_accuracy_score"
   ]
  },
  {
   "cell_type": "markdown",
   "metadata": {},
   "source": [
    "from here we get the best model is the random forest model"
   ]
  },
  {
   "cell_type": "markdown",
   "metadata": {},
   "source": [
    "## Get Feature Importance from the classifier\n"
   ]
  },
  {
   "cell_type": "markdown",
   "metadata": {},
   "source": [
    "Defining model as the random forest classifer"
   ]
  },
  {
   "cell_type": "code",
   "execution_count": 77,
   "metadata": {},
   "outputs": [],
   "source": [
    "model=rf_classifier"
   ]
  },
  {
   "cell_type": "markdown",
   "metadata": {},
   "source": [
    "Getting how important are the given features to predict the churn "
   ]
  },
  {
   "cell_type": "code",
   "execution_count": 78,
   "metadata": {},
   "outputs": [
    {
     "name": "stdout",
     "output_type": "stream",
     "text": [
      "[0.02893676 0.0346067  0.00622211 0.06832183 0.01742238 0.02815578\n",
      " 0.13660047 0.0345908  0.13293727 0.06291694 0.0283371  0.0576753\n",
      " 0.04265491 0.03180778 0.04108057 0.04305599 0.03964477 0.03997473\n",
      " 0.12505781]\n"
     ]
    }
   ],
   "source": [
    "print(model.feature_importances_)"
   ]
  },
  {
   "cell_type": "markdown",
   "metadata": {},
   "source": [
    "A graph is plotted"
   ]
  },
  {
   "cell_type": "code",
   "execution_count": 79,
   "metadata": {},
   "outputs": [
    {
     "data": {
      "image/png": "[encoded data removed]",
      "text/plain": [
       "<Figure size 432x288 with 1 Axes>"
      ]
     },
     "metadata": {
      "needs_background": "light"
     },
     "output_type": "display_data"
    }
   ],
   "source": [
    "feat_importances = pd.Series(model.feature_importances_,index=datas.columns)\n",
    "feat_importances.nlargest(19).plot(kind='barh')\n",
    "plt.show()"
   ]
  },
  {
   "cell_type": "code",
   "execution_count": null,
   "metadata": {},
   "outputs": [],
   "source": []
  }
 ],
 "metadata": {
  "kernelspec": {
   "display_name": "Python 3",
   "language": "python",
   "name": "python3"
  },
  "language_info": {
   "codemirror_mode": {
    "name": "ipython",
    "version": 3
   },
   "file_extension": ".py",
   "mimetype": "text/x-python",
   "name": "python",
   "nbconvert_exporter": "python",
   "pygments_lexer": "ipython3",
   "version": "3.7.4"
  }
 },
 "nbformat": 4,
 "nbformat_minor": 2
}
